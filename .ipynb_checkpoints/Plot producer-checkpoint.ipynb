{
 "cells": [
  {
   "cell_type": "markdown",
   "metadata": {},
   "source": [
    "Now that we have the databases set, we will start exploring with Plotly and iPython widgets."
   ]
  },
  {
   "cell_type": "code",
   "execution_count": null,
   "metadata": {},
   "outputs": [],
   "source": [
    "import pandas as pd\n",
    "import numpy as np\n",
    "from colour import Color\n",
    "\n",
    "from plotly.offline import init_notebook_mode, download_plotlyjs, plot, iplot\n",
    "import matplotlib.pyplot as plt\n",
    "\n",
    "from ipywidgets import interact, interactive, fixed, interact_manual\n",
    "import plotly.figure_factory as ff\n",
    "import ipywidgets as widgets\n",
    "\n",
    "pd.set_option('display.max_columns', None)\n",
    "init_notebook_mode(connected=True)"
   ]
  },
  {
   "cell_type": "code",
   "execution_count": null,
   "metadata": {},
   "outputs": [],
   "source": [
    "records_df = pd.read_csv('data/processed/war_records_cleaned.csv', index_col=0, dtype= {'FIPS':'object'}, infer_datetime_format=['incident_date'])"
   ]
  },
  {
   "cell_type": "code",
   "execution_count": null,
   "metadata": {},
   "outputs": [],
   "source": [
    "records_df.head()"
   ]
  },
  {
   "cell_type": "code",
   "execution_count": null,
   "metadata": {},
   "outputs": [],
   "source": [
    "col_to_datetime = ['incident_date', 'birthday']\n",
    "for col in col_to_datetime:\n",
    "    records_df[col] = pd.to_datetime(records_df[col])"
   ]
  },
  {
   "cell_type": "code",
   "execution_count": null,
   "metadata": {},
   "outputs": [],
   "source": [
    "records_df.info()"
   ]
  },
  {
   "cell_type": "code",
   "execution_count": null,
   "metadata": {},
   "outputs": [],
   "source": [
    "records_df.info()"
   ]
  },
  {
   "cell_type": "markdown",
   "metadata": {},
   "source": [
    "I am planning to use an interactive slider to be able to select what years I want.\n",
    "\n",
    "1) Get a new df that contains the county (FIPS), by year, with a cum_sum column.  \n",
    "2) Then geting some interactive sliders working.\n",
    "\n",
    "Easy."
   ]
  },
  {
   "cell_type": "code",
   "execution_count": null,
   "metadata": {},
   "outputs": [],
   "source": [
    "years = list(range(1956, 1976))"
   ]
  },
  {
   "cell_type": "code",
   "execution_count": null,
   "metadata": {},
   "outputs": [],
   "source": [
    "death_by_county_df = pd.DataFrame()"
   ]
  },
  {
   "cell_type": "code",
   "execution_count": null,
   "metadata": {},
   "outputs": [],
   "source": [
    "death_by_county_df = pd.DataFrame()\n",
    "\n",
    "for year in years:\n",
    "    \n",
    "    start_date = f\"{year}-01-01\"\n",
    "    end_date = f\"{year+1}-01-01\"\n",
    "    mask = (records_df.incident_date > start_date) & (records_df.incident_date <= end_date)\n",
    "    \n",
    "    place_holder = records_df.loc[mask]\n",
    "    row_dict = {}\n",
    "    \n",
    "    for county_num in place_holder.FIPS.unique():\n",
    "        try:\n",
    "            row_dict['FIPS'] = place_holder.loc[place_holder.FIPS == county_num].FIPS.values[0]\n",
    "            row_dict['county'] = place_holder.loc[place_holder.FIPS == county_num].county.values[0]\n",
    "            row_dict['state_abbr'] = place_holder.loc[place_holder.FIPS == county_num].state_abbr.values[0]\n",
    "            row_dict['death_count'] = place_holder.loc[place_holder.FIPS == county_num].shape[0]\n",
    "            row_dict['year'] = year\n",
    "#             row_dict['ARMY'] = place_holder.loc[(place_holder.FIPS == county_num) & (place_holder.service_branch == 'ARMY')].shape[0]\n",
    "#             row_dict['AIR_FORCE'] = place_holder.loc[(place_holder.FIPS == county_num) & (place_holder.service_branch == 'AIR_FORCE')].shape[0]\n",
    "#             row_dict['MARINES'] = place_holder.loc[(place_holder.FIPS == county_num) & (place_holder.service_branch == 'MARINES')].shape[0]\n",
    "#             row_dict['NAVY'] = place_holder.loc[(place_holder.FIPS == county_num) & (place_holder.service_branch == 'NAVY')].shape[0]\n",
    "            death_by_county_df = death_by_county_df.append(row_dict, ignore_index=True)\n",
    "            \n",
    "        except:\n",
    "            pass"
   ]
  },
  {
   "cell_type": "code",
   "execution_count": null,
   "metadata": {},
   "outputs": [],
   "source": [
    "death_by_county_df.death_count.cumsum()[-1:]"
   ]
  },
  {
   "cell_type": "code",
   "execution_count": null,
   "metadata": {},
   "outputs": [],
   "source": [
    "death_by_county_df.head()"
   ]
  },
  {
   "cell_type": "code",
   "execution_count": null,
   "metadata": {},
   "outputs": [],
   "source": [
    "death_by_county_df.info()"
   ]
  },
  {
   "cell_type": "code",
   "execution_count": null,
   "metadata": {},
   "outputs": [],
   "source": [
    "death_by_county_df.year = pd.to_datetime(death_by_county_df.year, format='%Y')"
   ]
  },
  {
   "cell_type": "code",
   "execution_count": null,
   "metadata": {},
   "outputs": [],
   "source": [
    "death_by_county_df.head()"
   ]
  },
  {
   "cell_type": "markdown",
   "metadata": {},
   "source": [
    "The above code did exclude anyone who didn't have a FIP on their name, so foriegn born. That is why our count isn't whole."
   ]
  },
  {
   "cell_type": "markdown",
   "metadata": {},
   "source": [
    "Now all we have left is the slider."
   ]
  },
  {
   "cell_type": "code",
   "execution_count": null,
   "metadata": {},
   "outputs": [],
   "source": [
    "@interact\n",
    "def Years_of_the_war(x = (1956, 1975, 1)): #Have to put a int to get a slider, but my index is strings. Trying out capabilitles.\n",
    "    x = str(x)\n",
    "    return death_by_county_df.loc[death_by_county_df.year == x]"
   ]
  },
  {
   "cell_type": "markdown",
   "metadata": {},
   "source": [
    "Proof of concept for the slider. All that is left is to find a way to make a proper list of colors to dynamically depeding on the size of the dataframe."
   ]
  },
  {
   "cell_type": "code",
   "execution_count": null,
   "metadata": {},
   "outputs": [],
   "source": [
    "new_df = death_by_county_df.loc[death_by_county_df.year == '1969']\n",
    "fips = list(new_df.FIPS.values)\n",
    "values = list(new_df.death_count.values)"
   ]
  },
  {
   "cell_type": "code",
   "execution_count": null,
   "metadata": {},
   "outputs": [],
   "source": [
    "red = Color(\"grey\")\n",
    "colors = list(red.range_to(Color(\"red\"), len(set(values))))\n",
    "color_hex_list =[]\n",
    "    \n",
    "for color in colors:\n",
    "    color_hex_list.append(color.hex_l)"
   ]
  },
  {
   "cell_type": "code",
   "execution_count": null,
   "metadata": {},
   "outputs": [],
   "source": [
    "color_hex_list[:15]"
   ]
  },
  {
   "cell_type": "markdown",
   "metadata": {},
   "source": [
    "Now I need to make a fucntion that will update a dataframe. That \"new\" dataframe will feed into a plotly function to create the map. "
   ]
  },
  {
   "cell_type": "code",
   "execution_count": null,
   "metadata": {},
   "outputs": [],
   "source": [
    "def Years_of_the_war(Year = (1956, 1975, 1)): #The variable is the name of the slider.\n",
    "    Year = str(Year)\n",
    "    new_df = death_by_county_df.loc[death_by_county_df.year == Year]\n",
    "    \n",
    "    fips = list(new_df.FIPS.values)\n",
    "    values = list(new_df.death_count.values)\n",
    "    \n",
    "    blue = Color(\"blue\")\n",
    "    colors = list(blue.range_to(Color(\"yellow\"),len(set(values)))) #One color for each unique value in my \"values\" list. Ensures I don't need binning_endpoints\n",
    "    color_hex_list =[]\n",
    "    \n",
    "    for color in colors:\n",
    "        color_hex_list.append(color.hex_l)\n",
    "    \n",
    "    fig = ff.create_choropleth(fips=fips, values=values, scope=['usa'],\n",
    "                               colorscale=color_hex_list,\n",
    "                               show_state_data=True,\n",
    "                               show_hover=True,\n",
    "                               asp = 2.9,\n",
    "                               title_text = f\"Vietnam Casualties, by county, in {Year}\",\n",
    "                               legend_title = 'Deaths'\n",
    "    )\n",
    "    fig.layout.template = None\n",
    "    return iplot(fig)"
   ]
  },
  {
   "cell_type": "code",
   "execution_count": null,
   "metadata": {
    "scrolled": false
   },
   "outputs": [],
   "source": [
    "interact(Years_of_the_war)"
   ]
  },
  {
   "cell_type": "code",
   "execution_count": null,
   "metadata": {
    "scrolled": false
   },
   "outputs": [],
   "source": [
    "interact(Years_of_the_war)"
   ]
  },
  {
   "cell_type": "markdown",
   "metadata": {},
   "source": [
    "Sweet. I have made a map per year. Now lets add a slider widget to this set up enable to see a span of deaths in years?"
   ]
  },
  {
   "cell_type": "code",
   "execution_count": null,
   "metadata": {
    "scrolled": false
   },
   "outputs": [],
   "source": [
    "range_year_slider = widgets.IntRangeSlider(value = [1958, 1961], min = 1956, max = 1975, step = 1, description=\"Years\")\n",
    "output1 = widgets.Output()\n",
    "display(range_year_slider, output1)\n",
    " \n",
    "def Years_of_the_war_slider(year):\n",
    "    with output1:\n",
    "        \n",
    "        start_date = str(year['new'][0])\n",
    "        end_date = str(year['new'][1])\n",
    "        \n",
    "        #print(start_date, end_date)\n",
    "        \n",
    "        mask = (death_by_county_df.year > start_date) & (death_by_county_df.year <= end_date)\n",
    "\n",
    "        new_df = death_by_county_df.loc[mask]\n",
    "\n",
    "        fips = list(new_df.FIPS.values)\n",
    "        values = list(new_df.death_count.values)\n",
    "\n",
    "        blue = Color(\"blue\")\n",
    "        colors = list(blue.range_to(Color(\"yellow\"),len(set(values)))) #One color for each unique value in my \"values\" list. Ensures I don't need binning_endpoints\n",
    "        color_hex_list =[]\n",
    "\n",
    "        for color in colors:\n",
    "            color_hex_list.append(color.hex_l)\n",
    "\n",
    "        fig = ff.create_choropleth(fips=fips, values=values, scope=['usa'],\n",
    "                                   colorscale=color_hex_list,\n",
    "                                   show_state_data=True,\n",
    "                                   show_hover=True,\n",
    "                                   asp = 2.9,\n",
    "                                   title_text = f\"Vietnam Casualties, by county, from {start_date} to {end_date}\",\n",
    "                                   legend_title = 'Deaths'\n",
    "        )\n",
    "        fig.layout.template = None\n",
    "        return iplot(fig)\n",
    "range_year_slider.observe(Years_of_the_war_slider, names='value')"
   ]
  },
  {
   "cell_type": "code",
   "execution_count": null,
   "metadata": {},
   "outputs": [],
   "source": []
  },
  {
   "cell_type": "code",
   "execution_count": null,
   "metadata": {},
   "outputs": [],
   "source": []
  },
  {
   "cell_type": "code",
   "execution_count": null,
   "metadata": {},
   "outputs": [],
   "source": []
  },
  {
   "cell_type": "code",
   "execution_count": null,
   "metadata": {},
   "outputs": [],
   "source": []
  },
  {
   "cell_type": "code",
   "execution_count": null,
   "metadata": {},
   "outputs": [],
   "source": []
  },
  {
   "cell_type": "code",
   "execution_count": null,
   "metadata": {},
   "outputs": [],
   "source": [
    "buttons = widgets.RadioButtons(\n",
    "    options=[('All', 'ALL'), ('Army', 'ARMY'), ('Navy', 'NAVY'), ('Marine Corps', 'MARINES'), ('Air Force', 'AIR_FORCE')],\n",
    "    description='Service Branch:',\n",
    "    disabled=False\n",
    ")"
   ]
  },
  {
   "cell_type": "code",
   "execution_count": null,
   "metadata": {},
   "outputs": [],
   "source": [
    "int_range = widgets.IntRangeSlider(value = [1958, 1961], min = 1956, max = 1975, step = 1)\n",
    "output2 = widgets.Output()\n",
    "\n",
    "display(int_range, output2)\n",
    "\n",
    "def on_value_change(year):\n",
    "    with output2:\n",
    "        print(year['new'])\n",
    "\n",
    "int_range.observe(on_value_change, names='value')"
   ]
  },
  {
   "cell_type": "code",
   "execution_count": null,
   "metadata": {},
   "outputs": [],
   "source": [
    "death_by"
   ]
  },
  {
   "cell_type": "code",
   "execution_count": null,
   "metadata": {},
   "outputs": [],
   "source": [
    "def some_random_function(place_holder_variable):\n",
    "    with output2:\n",
    "        print(place_holder_variable)\n",
    "        print(place_holder_variable['new'])"
   ]
  },
  {
   "cell_type": "code",
   "execution_count": null,
   "metadata": {},
   "outputs": [],
   "source": [
    "int_range = widgets.IntRangeSlider(value = [1958, 1961], min = 1956, max = 1975, step = 1)\n",
    "output2 = widgets.Output()\n",
    "display(int_range, output2)\n",
    "int_range.observe(some_random_function, names='value')"
   ]
  },
  {
   "cell_type": "code",
   "execution_count": null,
   "metadata": {},
   "outputs": [],
   "source": [
    "def what_is_wrong_with_this(place_holder_variable):\n",
    "#     with output3:\n",
    "#         print(place_holder_variable)\n",
    "#         print(place_holder_variable['new'])\n",
    "    with output2:\n",
    "        print('FUCKING HELL!')"
   ]
  },
  {
   "cell_type": "code",
   "execution_count": null,
   "metadata": {},
   "outputs": [],
   "source": [
    "int_simple_range = widgets.IntSlider(value=5)\n",
    "output3 = widgets.Output()\n",
    "\n",
    "display(int_simple_range, output2)\n",
    "int_simple_range.observe(what_is_wrong_with_this, names='value')"
   ]
  },
  {
   "cell_type": "code",
   "execution_count": null,
   "metadata": {},
   "outputs": [],
   "source": [
    "slider.observe()"
   ]
  },
  {
   "cell_type": "markdown",
   "metadata": {},
   "source": [
    "Step one: Follow these and set up the base map. It is in the mapbox dictionary object where you will specifiy where to center the map https://towardsdatascience.com/how-to-create-interactive-map-plots-with-plotly-7b57e889239a\n",
    "https://plot.ly/python/mapbox-county-choropleth/\n",
    "\n",
    "\n",
    "Step two: Layers!\n",
    "___\n",
    "https://community.plot.ly/t/create-your-own-choropleth-map-with-custom-shapefiles/2567/20  \n",
    "DASH WITH CHOLORPLETH MAPS https://github.com/ConnectedSystems/Dash-Choropleth-Example/blob/master/choropleth_example.py  \n",
    "http://vincepota.com/plotly_choropleth_map.html"
   ]
  },
  {
   "cell_type": "code",
   "execution_count": null,
   "metadata": {},
   "outputs": [],
   "source": [
    "#Import geopandas\n",
    "import geopandas as gpd"
   ]
  },
  {
   "cell_type": "markdown",
   "metadata": {},
   "source": [
    "Try to get this going https://plot.ly/~empet/14692/mapbox-choropleth-that-works-with-plotly/#/"
   ]
  },
  {
   "cell_type": "code",
   "execution_count": null,
   "metadata": {},
   "outputs": [],
   "source": [
    "#Read in the shape file\n",
    "#shape files found at https://data.humdata.org/dataset/viet-nam-administrative-boundaries-polygon-polyline\n",
    "vn_df = gpd.read_file('data/geojson/vnm_polbnda_plyl_adm1_2014_pdc/vnm_polbnda_adm1_2014_pdc.shp')"
   ]
  },
  {
   "cell_type": "code",
   "execution_count": null,
   "metadata": {},
   "outputs": [],
   "source": [
    "vn_df.head()"
   ]
  },
  {
   "cell_type": "code",
   "execution_count": null,
   "metadata": {},
   "outputs": [],
   "source": [
    "vn_df.plot(figsize=(18,18))"
   ]
  },
  {
   "cell_type": "code",
   "execution_count": null,
   "metadata": {},
   "outputs": [],
   "source": [
    "list(vn_df.geometry[0])"
   ]
  },
  {
   "cell_type": "code",
   "execution_count": null,
   "metadata": {},
   "outputs": [],
   "source": [
    "records_df.groupby('Hor County')"
   ]
  },
  {
   "cell_type": "code",
   "execution_count": null,
   "metadata": {},
   "outputs": [],
   "source": [
    "prov = ops_df.location_1"
   ]
  },
  {
   "cell_type": "code",
   "execution_count": null,
   "metadata": {},
   "outputs": [],
   "source": [
    "prov.value_counts()"
   ]
  },
  {
   "cell_type": "code",
   "execution_count": null,
   "metadata": {},
   "outputs": [],
   "source": [
    "mapbox_key = \"pk.eyJ1Ijoic29jam9uIiwiYSI6ImNqenEwZDk4MjBqb3YzaG1tMmsycWEzZXkifQ.Zy16rF6eDSw9pqMA0R-b6Q\"\n",
    "#"
   ]
  },
  {
   "cell_type": "code",
   "execution_count": null,
   "metadata": {},
   "outputs": [],
   "source": [
    "from IPython.display import"
   ]
  },
  {
   "cell_type": "code",
   "execution_count": null,
   "metadata": {},
   "outputs": [],
   "source": [
    "figure = dict(data = {}, layout = map_layout)\n",
    "iplot(figure, filename = 'put_your_name_here')"
   ]
  },
  {
   "cell_type": "code",
   "execution_count": null,
   "metadata": {},
   "outputs": [],
   "source": []
  },
  {
   "cell_type": "code",
   "execution_count": null,
   "metadata": {},
   "outputs": [],
   "source": [
    "death_df = pd.DataFrame(index=['deaths_in_year'])"
   ]
  },
  {
   "cell_type": "code",
   "execution_count": null,
   "metadata": {},
   "outputs": [],
   "source": [
    "years = list(range(1956, 1976))"
   ]
  },
  {
   "cell_type": "code",
   "execution_count": null,
   "metadata": {},
   "outputs": [],
   "source": [
    "for year in years:\n",
    "    \n",
    "    start_date = f\"{year}-01-01\"\n",
    "    end_date = f\"{year+1}-01-01\"\n",
    "    mask = (records_df.incident_date > start_date) & (records_df.incident_date <= end_date)\n",
    "    \n",
    "    length = records_df.loc[mask].shape[0]\n",
    "    death_df[f\"{year}\"] = length"
   ]
  },
  {
   "cell_type": "markdown",
   "metadata": {},
   "source": [
    "Now that I have death by year, there are just a few more steps that I need to take before I have what I want."
   ]
  },
  {
   "cell_type": "code",
   "execution_count": null,
   "metadata": {},
   "outputs": [],
   "source": [
    "death_df = death_df.T\n",
    "death_df.head()"
   ]
  },
  {
   "cell_type": "markdown",
   "metadata": {},
   "source": [
    "Great, we have what we want to far. Now just making a cum_sum column."
   ]
  },
  {
   "cell_type": "code",
   "execution_count": null,
   "metadata": {
    "scrolled": true
   },
   "outputs": [],
   "source": [
    "death_df['total_deaths'] = death_df.deaths_in_year.cumsum()\n",
    "death_df.tail()"
   ]
  }
 ],
 "metadata": {
  "kernelspec": {
   "display_name": "Python 3",
   "language": "python",
   "name": "python3"
  },
  "language_info": {
   "codemirror_mode": {
    "name": "ipython",
    "version": 3
   },
   "file_extension": ".py",
   "mimetype": "text/x-python",
   "name": "python",
   "nbconvert_exporter": "python",
   "pygments_lexer": "ipython3",
   "version": "3.7.3"
  },
  "toc": {
   "base_numbering": 1,
   "nav_menu": {},
   "number_sections": true,
   "sideBar": true,
   "skip_h1_title": false,
   "title_cell": "Table of Contents",
   "title_sidebar": "Contents",
   "toc_cell": false,
   "toc_position": {},
   "toc_section_display": true,
   "toc_window_display": false
  }
 },
 "nbformat": 4,
 "nbformat_minor": 2
}
