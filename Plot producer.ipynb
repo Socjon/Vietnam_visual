{
 "cells": [
  {
   "cell_type": "markdown",
   "metadata": {},
   "source": [
    "Now that we have the databases set, we will start exploring with Plotly and iPython widgets."
   ]
  },
  {
   "cell_type": "code",
   "execution_count": 1,
   "metadata": {},
   "outputs": [
    {
     "data": {
      "text/html": [
       "        <script type=\"text/javascript\">\n",
       "        window.PlotlyConfig = {MathJaxConfig: 'local'};\n",
       "        if (window.MathJax) {MathJax.Hub.Config({SVG: {font: \"STIX-Web\"}});}\n",
       "        if (typeof require !== 'undefined') {\n",
       "        require.undef(\"plotly\");\n",
       "        requirejs.config({\n",
       "            paths: {\n",
       "                'plotly': ['https://cdn.plot.ly/plotly-latest.min']\n",
       "            }\n",
       "        });\n",
       "        require(['plotly'], function(Plotly) {\n",
       "            window._Plotly = Plotly;\n",
       "        });\n",
       "        }\n",
       "        </script>\n",
       "        "
      ]
     },
     "metadata": {},
     "output_type": "display_data"
    }
   ],
   "source": [
    "import pandas as pd\n",
    "import numpy as np\n",
    "from colour import Color\n",
    "\n",
    "from plotly.offline import init_notebook_mode, download_plotlyjs, plot, iplot\n",
    "import matplotlib.pyplot as plt\n",
    "\n",
    "from ipywidgets import interact, interactive, fixed, interact_manual\n",
    "import plotly.figure_factory as ff\n",
    "import ipywidgets as widgets\n",
    "\n",
    "pd.set_option('display.max_columns', None)\n",
    "init_notebook_mode(connected=True)"
   ]
  },
  {
   "cell_type": "code",
   "execution_count": 2,
   "metadata": {},
   "outputs": [],
   "source": [
    "records_df = pd.read_csv('data/processed/war_records_cleaned.csv', index_col=0, dtype= {'FIPS':'object'}, infer_datetime_format=['incident_date'])"
   ]
  },
  {
   "cell_type": "code",
   "execution_count": 3,
   "metadata": {},
   "outputs": [
    {
     "data": {
      "text/html": [
       "<div>\n",
       "<style scoped>\n",
       "    .dataframe tbody tr th:only-of-type {\n",
       "        vertical-align: middle;\n",
       "    }\n",
       "\n",
       "    .dataframe tbody tr th {\n",
       "        vertical-align: top;\n",
       "    }\n",
       "\n",
       "    .dataframe thead th {\n",
       "        text-align: right;\n",
       "    }\n",
       "</style>\n",
       "<table border=\"1\" class=\"dataframe\">\n",
       "  <thead>\n",
       "    <tr style=\"text-align: right;\">\n",
       "      <th></th>\n",
       "      <th>draft_type</th>\n",
       "      <th>name</th>\n",
       "      <th>service_branch</th>\n",
       "      <th>rank_rate</th>\n",
       "      <th>pay_grade</th>\n",
       "      <th>occupation_name</th>\n",
       "      <th>birthday</th>\n",
       "      <th>gender</th>\n",
       "      <th>county</th>\n",
       "      <th>country</th>\n",
       "      <th>state_abbr</th>\n",
       "      <th>state_full</th>\n",
       "      <th>marital_status</th>\n",
       "      <th>province</th>\n",
       "      <th>cas_ctry</th>\n",
       "      <th>incident_date</th>\n",
       "      <th>cas_reason</th>\n",
       "      <th>cas_descr</th>\n",
       "      <th>body_recovered</th>\n",
       "      <th>closure_descr</th>\n",
       "      <th>wall</th>\n",
       "      <th>FIPS</th>\n",
       "      <th>lat</th>\n",
       "      <th>lon</th>\n",
       "    </tr>\n",
       "  </thead>\n",
       "  <tbody>\n",
       "    <tr>\n",
       "      <th>0</th>\n",
       "      <td>SELECTED SERVICE</td>\n",
       "      <td>AADLAND GERALD L</td>\n",
       "      <td>ARMY</td>\n",
       "      <td>SP4</td>\n",
       "      <td>E04</td>\n",
       "      <td>INFANTRYMAN</td>\n",
       "      <td>1945-03-29</td>\n",
       "      <td>M</td>\n",
       "      <td>ROBERTS</td>\n",
       "      <td>US</td>\n",
       "      <td>SD</td>\n",
       "      <td>SOUTH DAKOTA</td>\n",
       "      <td>NEVER MARRIED</td>\n",
       "      <td>KONTUM</td>\n",
       "      <td>VS</td>\n",
       "      <td>1968-05-30</td>\n",
       "      <td>KILLED IN ACTION</td>\n",
       "      <td>SMALL ARMS FIRE</td>\n",
       "      <td>Y</td>\n",
       "      <td>BURIED - UNKNOWN DISP</td>\n",
       "      <td>63W 014</td>\n",
       "      <td>46109</td>\n",
       "      <td>45.623397</td>\n",
       "      <td>-96.947551</td>\n",
       "    </tr>\n",
       "    <tr>\n",
       "      <th>1</th>\n",
       "      <td>SELECTED SERVICE</td>\n",
       "      <td>AALUND JAMES DOWNING</td>\n",
       "      <td>ARMY</td>\n",
       "      <td>SGT</td>\n",
       "      <td>E05</td>\n",
       "      <td>INFANTRYMAN</td>\n",
       "      <td>1945-05-11</td>\n",
       "      <td>M</td>\n",
       "      <td>HARRIS</td>\n",
       "      <td>US</td>\n",
       "      <td>TX</td>\n",
       "      <td>TEXAS</td>\n",
       "      <td>NEVER MARRIED</td>\n",
       "      <td>PHUOC LONG</td>\n",
       "      <td>VS</td>\n",
       "      <td>1970-02-28</td>\n",
       "      <td>KILLED IN ACTION</td>\n",
       "      <td>ARTILLERY/MORTAR/ROCKET</td>\n",
       "      <td>Y</td>\n",
       "      <td>BURIED - UNKNOWN DISP</td>\n",
       "      <td>13W 066</td>\n",
       "      <td>48201</td>\n",
       "      <td>29.857273</td>\n",
       "      <td>-95.393037</td>\n",
       "    </tr>\n",
       "    <tr>\n",
       "      <th>2</th>\n",
       "      <td>ACTIVE - REGULAR</td>\n",
       "      <td>AAMOLD DANIEL LAWRENCE</td>\n",
       "      <td>AIR FORCE</td>\n",
       "      <td>A1C</td>\n",
       "      <td>E03</td>\n",
       "      <td>UNKNOWN</td>\n",
       "      <td>1951-08-23</td>\n",
       "      <td>M</td>\n",
       "      <td>CLAY</td>\n",
       "      <td>US</td>\n",
       "      <td>MN</td>\n",
       "      <td>MINNESOTA</td>\n",
       "      <td>NEVER MARRIED</td>\n",
       "      <td>NINH THUAN</td>\n",
       "      <td>VS</td>\n",
       "      <td>1970-08-20</td>\n",
       "      <td>ACCIDENT</td>\n",
       "      <td>OTHER ACCIDENT</td>\n",
       "      <td>Y</td>\n",
       "      <td>BURIED - UNKNOWN DISP</td>\n",
       "      <td>08W 124</td>\n",
       "      <td>27027</td>\n",
       "      <td>46.898377</td>\n",
       "      <td>-96.494901</td>\n",
       "    </tr>\n",
       "    <tr>\n",
       "      <th>3</th>\n",
       "      <td>SELECTED SERVICE</td>\n",
       "      <td>AARDE JAMES RAYMOND</td>\n",
       "      <td>MARINE CORPS</td>\n",
       "      <td>LCPL</td>\n",
       "      <td>E03</td>\n",
       "      <td>RIFLEMAN</td>\n",
       "      <td>1944-06-08</td>\n",
       "      <td>M</td>\n",
       "      <td>KING</td>\n",
       "      <td>US</td>\n",
       "      <td>WA</td>\n",
       "      <td>WASHINGTON</td>\n",
       "      <td>MARRIED</td>\n",
       "      <td>QUANG TRI</td>\n",
       "      <td>VS</td>\n",
       "      <td>1966-12-29</td>\n",
       "      <td>DIED OF WOUNDS</td>\n",
       "      <td>EXPLOSIVE DEVICE</td>\n",
       "      <td>Y</td>\n",
       "      <td>BURIED - UNKNOWN DISP</td>\n",
       "      <td>13E 095</td>\n",
       "      <td>53033</td>\n",
       "      <td>47.493554</td>\n",
       "      <td>-121.832375</td>\n",
       "    </tr>\n",
       "    <tr>\n",
       "      <th>4</th>\n",
       "      <td>SELECTED SERVICE</td>\n",
       "      <td>AARON CHARLES EDWARD</td>\n",
       "      <td>ARMY</td>\n",
       "      <td>SP4</td>\n",
       "      <td>E04</td>\n",
       "      <td>INFANTRYMAN</td>\n",
       "      <td>1948-12-12</td>\n",
       "      <td>M</td>\n",
       "      <td>MIDDLESEX</td>\n",
       "      <td>US</td>\n",
       "      <td>MA</td>\n",
       "      <td>MASSACHUSETTS</td>\n",
       "      <td>NEVER MARRIED</td>\n",
       "      <td>BINH THUAN</td>\n",
       "      <td>VS</td>\n",
       "      <td>1970-05-05</td>\n",
       "      <td>KILLED IN ACTION</td>\n",
       "      <td>GRENADE</td>\n",
       "      <td>Y</td>\n",
       "      <td>BURIED - UNKNOWN DISP</td>\n",
       "      <td>11W 098</td>\n",
       "      <td>25017</td>\n",
       "      <td>42.479477</td>\n",
       "      <td>-71.396507</td>\n",
       "    </tr>\n",
       "  </tbody>\n",
       "</table>\n",
       "</div>"
      ],
      "text/plain": [
       "         draft_type                    name service_branch rank_rate  \\\n",
       "0  SELECTED SERVICE        AADLAND GERALD L           ARMY       SP4   \n",
       "1  SELECTED SERVICE    AALUND JAMES DOWNING           ARMY       SGT   \n",
       "2  ACTIVE - REGULAR  AAMOLD DANIEL LAWRENCE      AIR FORCE       A1C   \n",
       "3  SELECTED SERVICE     AARDE JAMES RAYMOND   MARINE CORPS      LCPL   \n",
       "4  SELECTED SERVICE    AARON CHARLES EDWARD           ARMY       SP4   \n",
       "\n",
       "  pay_grade occupation_name    birthday gender     county country state_abbr  \\\n",
       "0       E04     INFANTRYMAN  1945-03-29      M    ROBERTS      US         SD   \n",
       "1       E05     INFANTRYMAN  1945-05-11      M     HARRIS      US         TX   \n",
       "2       E03         UNKNOWN  1951-08-23      M       CLAY      US         MN   \n",
       "3       E03        RIFLEMAN  1944-06-08      M       KING      US         WA   \n",
       "4       E04     INFANTRYMAN  1948-12-12      M  MIDDLESEX      US         MA   \n",
       "\n",
       "      state_full marital_status    province cas_ctry incident_date  \\\n",
       "0   SOUTH DAKOTA  NEVER MARRIED      KONTUM       VS    1968-05-30   \n",
       "1          TEXAS  NEVER MARRIED  PHUOC LONG       VS    1970-02-28   \n",
       "2      MINNESOTA  NEVER MARRIED  NINH THUAN       VS    1970-08-20   \n",
       "3     WASHINGTON        MARRIED   QUANG TRI       VS    1966-12-29   \n",
       "4  MASSACHUSETTS  NEVER MARRIED  BINH THUAN       VS    1970-05-05   \n",
       "\n",
       "         cas_reason                cas_descr body_recovered  \\\n",
       "0  KILLED IN ACTION          SMALL ARMS FIRE              Y   \n",
       "1  KILLED IN ACTION  ARTILLERY/MORTAR/ROCKET              Y   \n",
       "2          ACCIDENT           OTHER ACCIDENT              Y   \n",
       "3    DIED OF WOUNDS         EXPLOSIVE DEVICE              Y   \n",
       "4  KILLED IN ACTION                  GRENADE              Y   \n",
       "\n",
       "           closure_descr     wall   FIPS        lat         lon  \n",
       "0  BURIED - UNKNOWN DISP  63W 014  46109  45.623397  -96.947551  \n",
       "1  BURIED - UNKNOWN DISP  13W 066  48201  29.857273  -95.393037  \n",
       "2  BURIED - UNKNOWN DISP  08W 124  27027  46.898377  -96.494901  \n",
       "3  BURIED - UNKNOWN DISP  13E 095  53033  47.493554 -121.832375  \n",
       "4  BURIED - UNKNOWN DISP  11W 098  25017  42.479477  -71.396507  "
      ]
     },
     "execution_count": 3,
     "metadata": {},
     "output_type": "execute_result"
    }
   ],
   "source": [
    "records_df.head()"
   ]
  },
  {
   "cell_type": "code",
   "execution_count": 4,
   "metadata": {},
   "outputs": [],
   "source": [
    "col_to_datetime = ['incident_date', 'birthday']\n",
    "for col in col_to_datetime:\n",
    "    records_df[col] = pd.to_datetime(records_df[col])"
   ]
  },
  {
   "cell_type": "code",
   "execution_count": 5,
   "metadata": {},
   "outputs": [
    {
     "name": "stdout",
     "output_type": "stream",
     "text": [
      "<class 'pandas.core.frame.DataFrame'>\n",
      "Int64Index: 58220 entries, 0 to 58219\n",
      "Data columns (total 24 columns):\n",
      "draft_type         58220 non-null object\n",
      "name               58220 non-null object\n",
      "service_branch     58220 non-null object\n",
      "rank_rate          58220 non-null object\n",
      "pay_grade          58220 non-null object\n",
      "occupation_name    58220 non-null object\n",
      "birthday           58220 non-null datetime64[ns]\n",
      "gender             58220 non-null object\n",
      "county             58220 non-null object\n",
      "country            58220 non-null object\n",
      "state_abbr         58220 non-null object\n",
      "state_full         58220 non-null object\n",
      "marital_status     58220 non-null object\n",
      "province           58220 non-null object\n",
      "cas_ctry           58220 non-null object\n",
      "incident_date      58220 non-null datetime64[ns]\n",
      "cas_reason         58220 non-null object\n",
      "cas_descr          58220 non-null object\n",
      "body_recovered     58220 non-null object\n",
      "closure_descr      58220 non-null object\n",
      "wall               58220 non-null object\n",
      "FIPS               54376 non-null object\n",
      "lat                50285 non-null float64\n",
      "lon                50285 non-null float64\n",
      "dtypes: datetime64[ns](2), float64(2), object(20)\n",
      "memory usage: 11.1+ MB\n"
     ]
    }
   ],
   "source": [
    "records_df.info()"
   ]
  },
  {
   "cell_type": "code",
   "execution_count": 6,
   "metadata": {},
   "outputs": [
    {
     "name": "stdout",
     "output_type": "stream",
     "text": [
      "<class 'pandas.core.frame.DataFrame'>\n",
      "Int64Index: 58220 entries, 0 to 58219\n",
      "Data columns (total 24 columns):\n",
      "draft_type         58220 non-null object\n",
      "name               58220 non-null object\n",
      "service_branch     58220 non-null object\n",
      "rank_rate          58220 non-null object\n",
      "pay_grade          58220 non-null object\n",
      "occupation_name    58220 non-null object\n",
      "birthday           58220 non-null datetime64[ns]\n",
      "gender             58220 non-null object\n",
      "county             58220 non-null object\n",
      "country            58220 non-null object\n",
      "state_abbr         58220 non-null object\n",
      "state_full         58220 non-null object\n",
      "marital_status     58220 non-null object\n",
      "province           58220 non-null object\n",
      "cas_ctry           58220 non-null object\n",
      "incident_date      58220 non-null datetime64[ns]\n",
      "cas_reason         58220 non-null object\n",
      "cas_descr          58220 non-null object\n",
      "body_recovered     58220 non-null object\n",
      "closure_descr      58220 non-null object\n",
      "wall               58220 non-null object\n",
      "FIPS               54376 non-null object\n",
      "lat                50285 non-null float64\n",
      "lon                50285 non-null float64\n",
      "dtypes: datetime64[ns](2), float64(2), object(20)\n",
      "memory usage: 11.1+ MB\n"
     ]
    }
   ],
   "source": [
    "records_df.info()"
   ]
  },
  {
   "cell_type": "markdown",
   "metadata": {},
   "source": [
    "I am planning to use an interactive slider to be able to select what years I want.\n",
    "\n",
    "1) Get a new df that contains the county (FIPS), by year, with a cum_sum column.  \n",
    "2) Then geting some interactive sliders working.\n",
    "\n",
    "Easy."
   ]
  },
  {
   "cell_type": "code",
   "execution_count": 7,
   "metadata": {},
   "outputs": [],
   "source": [
    "years = list(range(1956, 1976))"
   ]
  },
  {
   "cell_type": "code",
   "execution_count": 8,
   "metadata": {},
   "outputs": [],
   "source": [
    "death_by_county_df = pd.DataFrame()"
   ]
  },
  {
   "cell_type": "code",
   "execution_count": 9,
   "metadata": {},
   "outputs": [],
   "source": [
    "death_by_county_df = pd.DataFrame()\n",
    "\n",
    "for year in years:\n",
    "    \n",
    "    start_date = f\"{year}-01-01\"\n",
    "    end_date = f\"{year+1}-01-01\"\n",
    "    mask = (records_df.incident_date > start_date) & (records_df.incident_date <= end_date)\n",
    "    \n",
    "    place_holder = records_df.loc[mask]\n",
    "    row_dict = {}\n",
    "    \n",
    "    for county_num in place_holder.FIPS.unique():\n",
    "        try:\n",
    "            row_dict['FIPS'] = place_holder.loc[place_holder.FIPS == county_num].FIPS.values[0]\n",
    "            row_dict['county'] = place_holder.loc[place_holder.FIPS == county_num].county.values[0]\n",
    "            row_dict['state_abbr'] = place_holder.loc[place_holder.FIPS == county_num].state_abbr.values[0]\n",
    "            row_dict['death_count'] = place_holder.loc[place_holder.FIPS == county_num].shape[0]\n",
    "            row_dict['year'] = year\n",
    "#             row_dict['ARMY'] = place_holder.loc[(place_holder.FIPS == county_num) & (place_holder.service_branch == 'ARMY')].shape[0]\n",
    "#             row_dict['AIR_FORCE'] = place_holder.loc[(place_holder.FIPS == county_num) & (place_holder.service_branch == 'AIR_FORCE')].shape[0]\n",
    "#             row_dict['MARINES'] = place_holder.loc[(place_holder.FIPS == county_num) & (place_holder.service_branch == 'MARINES')].shape[0]\n",
    "#             row_dict['NAVY'] = place_holder.loc[(place_holder.FIPS == county_num) & (place_holder.service_branch == 'NAVY')].shape[0]\n",
    "            death_by_county_df = death_by_county_df.append(row_dict, ignore_index=True)\n",
    "            \n",
    "        except:\n",
    "            pass"
   ]
  },
  {
   "cell_type": "code",
   "execution_count": 10,
   "metadata": {},
   "outputs": [
    {
     "data": {
      "text/plain": [
       "12334    54371.0\n",
       "Name: death_count, dtype: float64"
      ]
     },
     "execution_count": 10,
     "metadata": {},
     "output_type": "execute_result"
    }
   ],
   "source": [
    "death_by_county_df.death_count.cumsum()[-1:]"
   ]
  },
  {
   "cell_type": "code",
   "execution_count": 11,
   "metadata": {},
   "outputs": [
    {
     "data": {
      "text/html": [
       "<div>\n",
       "<style scoped>\n",
       "    .dataframe tbody tr th:only-of-type {\n",
       "        vertical-align: middle;\n",
       "    }\n",
       "\n",
       "    .dataframe tbody tr th {\n",
       "        vertical-align: top;\n",
       "    }\n",
       "\n",
       "    .dataframe thead th {\n",
       "        text-align: right;\n",
       "    }\n",
       "</style>\n",
       "<table border=\"1\" class=\"dataframe\">\n",
       "  <thead>\n",
       "    <tr style=\"text-align: right;\">\n",
       "      <th></th>\n",
       "      <th>FIPS</th>\n",
       "      <th>county</th>\n",
       "      <th>death_count</th>\n",
       "      <th>state_abbr</th>\n",
       "      <th>year</th>\n",
       "    </tr>\n",
       "  </thead>\n",
       "  <tbody>\n",
       "    <tr>\n",
       "      <th>0</th>\n",
       "      <td>25021</td>\n",
       "      <td>NORFOLK</td>\n",
       "      <td>1.0</td>\n",
       "      <td>MA</td>\n",
       "      <td>1956.0</td>\n",
       "    </tr>\n",
       "    <tr>\n",
       "      <th>1</th>\n",
       "      <td>42021</td>\n",
       "      <td>CAMBRIA</td>\n",
       "      <td>1.0</td>\n",
       "      <td>PA</td>\n",
       "      <td>1957.0</td>\n",
       "    </tr>\n",
       "    <tr>\n",
       "      <th>2</th>\n",
       "      <td>31173</td>\n",
       "      <td>THURSTON</td>\n",
       "      <td>1.0</td>\n",
       "      <td>NE</td>\n",
       "      <td>1959.0</td>\n",
       "    </tr>\n",
       "    <tr>\n",
       "      <th>3</th>\n",
       "      <td>48099</td>\n",
       "      <td>CORYELL</td>\n",
       "      <td>1.0</td>\n",
       "      <td>TX</td>\n",
       "      <td>1959.0</td>\n",
       "    </tr>\n",
       "    <tr>\n",
       "      <th>4</th>\n",
       "      <td>06037</td>\n",
       "      <td>LOS ANGELES</td>\n",
       "      <td>1.0</td>\n",
       "      <td>CA</td>\n",
       "      <td>1960.0</td>\n",
       "    </tr>\n",
       "  </tbody>\n",
       "</table>\n",
       "</div>"
      ],
      "text/plain": [
       "    FIPS       county  death_count state_abbr    year\n",
       "0  25021      NORFOLK          1.0         MA  1956.0\n",
       "1  42021      CAMBRIA          1.0         PA  1957.0\n",
       "2  31173     THURSTON          1.0         NE  1959.0\n",
       "3  48099      CORYELL          1.0         TX  1959.0\n",
       "4  06037  LOS ANGELES          1.0         CA  1960.0"
      ]
     },
     "execution_count": 11,
     "metadata": {},
     "output_type": "execute_result"
    }
   ],
   "source": [
    "death_by_county_df.head()"
   ]
  },
  {
   "cell_type": "code",
   "execution_count": 12,
   "metadata": {},
   "outputs": [
    {
     "name": "stdout",
     "output_type": "stream",
     "text": [
      "<class 'pandas.core.frame.DataFrame'>\n",
      "RangeIndex: 12335 entries, 0 to 12334\n",
      "Data columns (total 5 columns):\n",
      "FIPS           12335 non-null object\n",
      "county         12335 non-null object\n",
      "death_count    12335 non-null float64\n",
      "state_abbr     12335 non-null object\n",
      "year           12335 non-null float64\n",
      "dtypes: float64(2), object(3)\n",
      "memory usage: 481.9+ KB\n"
     ]
    }
   ],
   "source": [
    "death_by_county_df.info()"
   ]
  },
  {
   "cell_type": "code",
   "execution_count": 13,
   "metadata": {},
   "outputs": [],
   "source": [
    "death_by_county_df.year = pd.to_datetime(death_by_county_df.year, format='%Y')"
   ]
  },
  {
   "cell_type": "code",
   "execution_count": 14,
   "metadata": {},
   "outputs": [
    {
     "data": {
      "text/html": [
       "<div>\n",
       "<style scoped>\n",
       "    .dataframe tbody tr th:only-of-type {\n",
       "        vertical-align: middle;\n",
       "    }\n",
       "\n",
       "    .dataframe tbody tr th {\n",
       "        vertical-align: top;\n",
       "    }\n",
       "\n",
       "    .dataframe thead th {\n",
       "        text-align: right;\n",
       "    }\n",
       "</style>\n",
       "<table border=\"1\" class=\"dataframe\">\n",
       "  <thead>\n",
       "    <tr style=\"text-align: right;\">\n",
       "      <th></th>\n",
       "      <th>FIPS</th>\n",
       "      <th>county</th>\n",
       "      <th>death_count</th>\n",
       "      <th>state_abbr</th>\n",
       "      <th>year</th>\n",
       "    </tr>\n",
       "  </thead>\n",
       "  <tbody>\n",
       "    <tr>\n",
       "      <th>0</th>\n",
       "      <td>25021</td>\n",
       "      <td>NORFOLK</td>\n",
       "      <td>1.0</td>\n",
       "      <td>MA</td>\n",
       "      <td>1956-01-01</td>\n",
       "    </tr>\n",
       "    <tr>\n",
       "      <th>1</th>\n",
       "      <td>42021</td>\n",
       "      <td>CAMBRIA</td>\n",
       "      <td>1.0</td>\n",
       "      <td>PA</td>\n",
       "      <td>1957-01-01</td>\n",
       "    </tr>\n",
       "    <tr>\n",
       "      <th>2</th>\n",
       "      <td>31173</td>\n",
       "      <td>THURSTON</td>\n",
       "      <td>1.0</td>\n",
       "      <td>NE</td>\n",
       "      <td>1959-01-01</td>\n",
       "    </tr>\n",
       "    <tr>\n",
       "      <th>3</th>\n",
       "      <td>48099</td>\n",
       "      <td>CORYELL</td>\n",
       "      <td>1.0</td>\n",
       "      <td>TX</td>\n",
       "      <td>1959-01-01</td>\n",
       "    </tr>\n",
       "    <tr>\n",
       "      <th>4</th>\n",
       "      <td>06037</td>\n",
       "      <td>LOS ANGELES</td>\n",
       "      <td>1.0</td>\n",
       "      <td>CA</td>\n",
       "      <td>1960-01-01</td>\n",
       "    </tr>\n",
       "  </tbody>\n",
       "</table>\n",
       "</div>"
      ],
      "text/plain": [
       "    FIPS       county  death_count state_abbr       year\n",
       "0  25021      NORFOLK          1.0         MA 1956-01-01\n",
       "1  42021      CAMBRIA          1.0         PA 1957-01-01\n",
       "2  31173     THURSTON          1.0         NE 1959-01-01\n",
       "3  48099      CORYELL          1.0         TX 1959-01-01\n",
       "4  06037  LOS ANGELES          1.0         CA 1960-01-01"
      ]
     },
     "execution_count": 14,
     "metadata": {},
     "output_type": "execute_result"
    }
   ],
   "source": [
    "death_by_county_df.head()"
   ]
  },
  {
   "cell_type": "markdown",
   "metadata": {},
   "source": [
    "The above code did exclude anyone who didn't have a FIP on their name, so foriegn born. That is why our count isn't whole."
   ]
  },
  {
   "cell_type": "markdown",
   "metadata": {},
   "source": [
    "Now all we have left is the slider."
   ]
  },
  {
   "cell_type": "code",
   "execution_count": 15,
   "metadata": {},
   "outputs": [
    {
     "data": {
      "application/vnd.jupyter.widget-view+json": {
       "model_id": "92cf32fb63824b679e9133a0749ad702",
       "version_major": 2,
       "version_minor": 0
      },
      "text/plain": [
       "interactive(children=(IntSlider(value=1965, description='x', max=1975, min=1956), Output()), _dom_classes=('wi…"
      ]
     },
     "metadata": {},
     "output_type": "display_data"
    }
   ],
   "source": [
    "@interact\n",
    "def Years_of_the_war(x = (1956, 1975, 1)): #Have to put a int to get a slider, but my index is strings. Trying out capabilitles.\n",
    "    x = str(x)\n",
    "    return death_by_county_df.loc[death_by_county_df.year == x]"
   ]
  },
  {
   "cell_type": "markdown",
   "metadata": {},
   "source": [
    "Proof of concept for the slider. All that is left is to find a way to make a proper list of colors to dynamically depeding on the size of the dataframe."
   ]
  },
  {
   "cell_type": "code",
   "execution_count": 16,
   "metadata": {},
   "outputs": [],
   "source": [
    "new_df = death_by_county_df.loc[death_by_county_df.year == '1969']\n",
    "fips = list(new_df.FIPS.values)\n",
    "values = list(new_df.death_count.values)"
   ]
  },
  {
   "cell_type": "code",
   "execution_count": 17,
   "metadata": {},
   "outputs": [],
   "source": [
    "red = Color(\"grey\")\n",
    "colors = list(red.range_to(Color(\"red\"), len(set(values))))\n",
    "color_hex_list =[]\n",
    "    \n",
    "for color in colors:\n",
    "    color_hex_list.append(color.hex_l)"
   ]
  },
  {
   "cell_type": "code",
   "execution_count": 18,
   "metadata": {},
   "outputs": [
    {
     "data": {
      "text/plain": [
       "['#808080',\n",
       " '#827e7e',\n",
       " '#847c7c',\n",
       " '#867a7a',\n",
       " '#887878',\n",
       " '#8a7676',\n",
       " '#8c7373',\n",
       " '#8f7171',\n",
       " '#916f6f',\n",
       " '#936d6d',\n",
       " '#956b6b',\n",
       " '#976969',\n",
       " '#996767',\n",
       " '#9b6565',\n",
       " '#9d6363']"
      ]
     },
     "execution_count": 18,
     "metadata": {},
     "output_type": "execute_result"
    }
   ],
   "source": [
    "color_hex_list[:15]"
   ]
  },
  {
   "cell_type": "markdown",
   "metadata": {},
   "source": [
    "Now I need to make a fucntion that will update a dataframe. That \"new\" dataframe will feed into a plotly function to create the map. "
   ]
  },
  {
   "cell_type": "code",
   "execution_count": 19,
   "metadata": {},
   "outputs": [],
   "source": [
    "def Years_of_the_war(Year = (1956, 1975, 1)): #The variable is the name of the slider.\n",
    "    Year = str(Year)\n",
    "    new_df = death_by_county_df.loc[death_by_county_df.year == Year]\n",
    "    \n",
    "    fips = list(new_df.FIPS.values)\n",
    "    values = list(new_df.death_count.values)\n",
    "    \n",
    "    blue = Color(\"blue\")\n",
    "    colors = list(blue.range_to(Color(\"yellow\"),len(set(values)))) #One color for each unique value in my \"values\" list. Ensures I don't need binning_endpoints\n",
    "    color_hex_list =[]\n",
    "    \n",
    "    for color in colors:\n",
    "        color_hex_list.append(color.hex_l)\n",
    "    \n",
    "    fig = ff.create_choropleth(fips=fips, values=values, scope=['usa'],\n",
    "                               colorscale=color_hex_list,\n",
    "                               show_state_data=True,\n",
    "                               show_hover=True,\n",
    "                               asp = 2.9,\n",
    "                               title_text = f\"Vietnam Casualties, by county, in {Year}\",\n",
    "                               legend_title = 'Deaths'\n",
    "    )\n",
    "    fig.layout.template = None\n",
    "    return iplot(fig)"
   ]
  },
  {
   "cell_type": "code",
   "execution_count": 20,
   "metadata": {
    "scrolled": false
   },
   "outputs": [
    {
     "data": {
      "application/vnd.jupyter.widget-view+json": {
       "model_id": "6bef47f3dda64dcc96f33b431458e7ce",
       "version_major": 2,
       "version_minor": 0
      },
      "text/plain": [
       "interactive(children=(IntSlider(value=1965, description='Year', max=1975, min=1956), Output()), _dom_classes=(…"
      ]
     },
     "metadata": {},
     "output_type": "display_data"
    },
    {
     "data": {
      "text/plain": [
       "<function __main__.Years_of_the_war(Year=(1956, 1975, 1))>"
      ]
     },
     "execution_count": 20,
     "metadata": {},
     "output_type": "execute_result"
    }
   ],
   "source": [
    "interact(Years_of_the_war)"
   ]
  },
  {
   "cell_type": "markdown",
   "metadata": {},
   "source": [
    "Sweet. I have made a map per year. Now lets add a slider widget to this set up enable to see a span of deaths in years?"
   ]
  },
  {
   "cell_type": "code",
   "execution_count": 26,
   "metadata": {
    "scrolled": false
   },
   "outputs": [
    {
     "data": {
      "application/vnd.jupyter.widget-view+json": {
       "model_id": "6fa16140a6334e8ab066b2e7bb231d30",
       "version_major": 2,
       "version_minor": 0
      },
      "text/plain": [
       "IntRangeSlider(value=(1958, 1961), description='Years', max=1975, min=1956)"
      ]
     },
     "metadata": {},
     "output_type": "display_data"
    },
    {
     "data": {
      "application/vnd.jupyter.widget-view+json": {
       "model_id": "809d07e096f641fbb1bf29bc79f866f9",
       "version_major": 2,
       "version_minor": 0
      },
      "text/plain": [
       "Output()"
      ]
     },
     "metadata": {},
     "output_type": "display_data"
    }
   ],
   "source": [
    "range_year_slider = widgets.IntRangeSlider(value = [1958, 1961], min = 1956, max = 1975, step = 1, description=\"Years\")\n",
    "output1 = widgets.Output()\n",
    "display(range_year_slider, output1)\n",
    " \n",
    "def Years_of_the_war_slider(year):\n",
    "    with output1:\n",
    "        \n",
    "        start_date = str(year['new'][0])\n",
    "        end_date = str(year['new'][1])\n",
    "        \n",
    "        #print(start_date, end_date)\n",
    "        \n",
    "        mask = (death_by_county_df.year > start_date) & (death_by_county_df.year <= end_date)\n",
    "\n",
    "        new_df = death_by_county_df.loc[mask]\n",
    "\n",
    "        fips = list(new_df.FIPS.values)\n",
    "        values = list(new_df.death_count.values)\n",
    "\n",
    "        blue = Color(\"cornsilk\")\n",
    "        colors = list(blue.range_to(Color(\"crimson\"),len(set(values)))) #One color for each unique value in my \"values\" list. Ensures I don't need binning_endpoints\n",
    "        color_hex_list =[]\n",
    "\n",
    "        for color in colors:\n",
    "            color_hex_list.append(color.hex_l)\n",
    "\n",
    "        fig = ff.create_choropleth(fips=fips, values=values, scope=['usa'],\n",
    "                                   colorscale=color_hex_list,\n",
    "                                   show_state_data=True,\n",
    "                                   show_hover=True,\n",
    "                                   asp = 2.9,\n",
    "                                   title_text = f\"Vietnam Casualties, by county, from {start_date} to {end_date}\",\n",
    "                                   legend_title = 'Deaths'\n",
    "        )\n",
    "        fig.layout.template = None\n",
    "        return iplot(fig)\n",
    "range_year_slider.observe(Years_of_the_war_slider, names='value')"
   ]
  },
  {
   "cell_type": "code",
   "execution_count": null,
   "metadata": {},
   "outputs": [],
   "source": []
  },
  {
   "cell_type": "code",
   "execution_count": null,
   "metadata": {},
   "outputs": [],
   "source": []
  },
  {
   "cell_type": "code",
   "execution_count": null,
   "metadata": {},
   "outputs": [],
   "source": []
  },
  {
   "cell_type": "code",
   "execution_count": null,
   "metadata": {},
   "outputs": [],
   "source": []
  },
  {
   "cell_type": "code",
   "execution_count": null,
   "metadata": {},
   "outputs": [],
   "source": []
  },
  {
   "cell_type": "code",
   "execution_count": null,
   "metadata": {},
   "outputs": [],
   "source": [
    "buttons = widgets.RadioButtons(\n",
    "    options=[('All', 'ALL'), ('Army', 'ARMY'), ('Navy', 'NAVY'), ('Marine Corps', 'MARINES'), ('Air Force', 'AIR_FORCE')],\n",
    "    description='Service Branch:',\n",
    "    disabled=False\n",
    ")"
   ]
  },
  {
   "cell_type": "code",
   "execution_count": null,
   "metadata": {},
   "outputs": [],
   "source": [
    "int_range = widgets.IntRangeSlider(value = [1958, 1961], min = 1956, max = 1975, step = 1)\n",
    "output2 = widgets.Output()\n",
    "\n",
    "display(int_range, output2)\n",
    "\n",
    "def on_value_change(year):\n",
    "    with output2:\n",
    "        print(year['new'])\n",
    "\n",
    "int_range.observe(on_value_change, names='value')"
   ]
  },
  {
   "cell_type": "code",
   "execution_count": null,
   "metadata": {},
   "outputs": [],
   "source": [
    "death_by"
   ]
  },
  {
   "cell_type": "code",
   "execution_count": null,
   "metadata": {},
   "outputs": [],
   "source": [
    "def some_random_function(place_holder_variable):\n",
    "    with output2:\n",
    "        print(place_holder_variable)\n",
    "        print(place_holder_variable['new'])"
   ]
  },
  {
   "cell_type": "code",
   "execution_count": null,
   "metadata": {},
   "outputs": [],
   "source": [
    "int_range = widgets.IntRangeSlider(value = [1958, 1961], min = 1956, max = 1975, step = 1)\n",
    "output2 = widgets.Output()\n",
    "display(int_range, output2)\n",
    "int_range.observe(some_random_function, names='value')"
   ]
  },
  {
   "cell_type": "code",
   "execution_count": null,
   "metadata": {},
   "outputs": [],
   "source": [
    "def what_is_wrong_with_this(place_holder_variable):\n",
    "#     with output3:\n",
    "#         print(place_holder_variable)\n",
    "#         print(place_holder_variable['new'])\n",
    "    with output2:\n",
    "        print('FUCKING HELL!')"
   ]
  },
  {
   "cell_type": "code",
   "execution_count": null,
   "metadata": {},
   "outputs": [],
   "source": [
    "int_simple_range = widgets.IntSlider(value=5)\n",
    "output3 = widgets.Output()\n",
    "\n",
    "display(int_simple_range, output2)\n",
    "int_simple_range.observe(what_is_wrong_with_this, names='value')"
   ]
  },
  {
   "cell_type": "code",
   "execution_count": null,
   "metadata": {},
   "outputs": [],
   "source": [
    "slider.observe()"
   ]
  },
  {
   "cell_type": "markdown",
   "metadata": {},
   "source": [
    "Step one: Follow these and set up the base map. It is in the mapbox dictionary object where you will specifiy where to center the map https://towardsdatascience.com/how-to-create-interactive-map-plots-with-plotly-7b57e889239a\n",
    "https://plot.ly/python/mapbox-county-choropleth/\n",
    "\n",
    "\n",
    "Step two: Layers!\n",
    "___\n",
    "https://community.plot.ly/t/create-your-own-choropleth-map-with-custom-shapefiles/2567/20  \n",
    "DASH WITH CHOLORPLETH MAPS https://github.com/ConnectedSystems/Dash-Choropleth-Example/blob/master/choropleth_example.py  \n",
    "http://vincepota.com/plotly_choropleth_map.html"
   ]
  },
  {
   "cell_type": "code",
   "execution_count": null,
   "metadata": {},
   "outputs": [],
   "source": [
    "#Import geopandas\n",
    "import geopandas as gpd"
   ]
  },
  {
   "cell_type": "markdown",
   "metadata": {},
   "source": [
    "Try to get this going https://plot.ly/~empet/14692/mapbox-choropleth-that-works-with-plotly/#/"
   ]
  },
  {
   "cell_type": "code",
   "execution_count": null,
   "metadata": {},
   "outputs": [],
   "source": [
    "#Read in the shape file\n",
    "#shape files found at https://data.humdata.org/dataset/viet-nam-administrative-boundaries-polygon-polyline\n",
    "vn_df = gpd.read_file('data/geojson/vnm_polbnda_plyl_adm1_2014_pdc/vnm_polbnda_adm1_2014_pdc.shp')"
   ]
  },
  {
   "cell_type": "code",
   "execution_count": null,
   "metadata": {},
   "outputs": [],
   "source": [
    "vn_df.head()"
   ]
  },
  {
   "cell_type": "code",
   "execution_count": null,
   "metadata": {},
   "outputs": [],
   "source": [
    "vn_df.plot(figsize=(18,18))"
   ]
  },
  {
   "cell_type": "code",
   "execution_count": null,
   "metadata": {},
   "outputs": [],
   "source": [
    "list(vn_df.geometry[0])"
   ]
  },
  {
   "cell_type": "code",
   "execution_count": null,
   "metadata": {},
   "outputs": [],
   "source": [
    "records_df.groupby('Hor County')"
   ]
  },
  {
   "cell_type": "code",
   "execution_count": null,
   "metadata": {},
   "outputs": [],
   "source": [
    "prov = ops_df.location_1"
   ]
  },
  {
   "cell_type": "code",
   "execution_count": null,
   "metadata": {},
   "outputs": [],
   "source": [
    "prov.value_counts()"
   ]
  },
  {
   "cell_type": "code",
   "execution_count": null,
   "metadata": {},
   "outputs": [],
   "source": [
    "mapbox_key = \"pk.eyJ1Ijoic29jam9uIiwiYSI6ImNqenEwZDk4MjBqb3YzaG1tMmsycWEzZXkifQ.Zy16rF6eDSw9pqMA0R-b6Q\"\n",
    "#"
   ]
  },
  {
   "cell_type": "code",
   "execution_count": null,
   "metadata": {},
   "outputs": [],
   "source": [
    "from IPython.display import"
   ]
  },
  {
   "cell_type": "code",
   "execution_count": null,
   "metadata": {},
   "outputs": [],
   "source": [
    "figure = dict(data = {}, layout = map_layout)\n",
    "iplot(figure, filename = 'put_your_name_here')"
   ]
  },
  {
   "cell_type": "code",
   "execution_count": null,
   "metadata": {},
   "outputs": [],
   "source": []
  },
  {
   "cell_type": "code",
   "execution_count": null,
   "metadata": {},
   "outputs": [],
   "source": [
    "death_df = pd.DataFrame(index=['deaths_in_year'])"
   ]
  },
  {
   "cell_type": "code",
   "execution_count": null,
   "metadata": {},
   "outputs": [],
   "source": [
    "years = list(range(1956, 1976))"
   ]
  },
  {
   "cell_type": "code",
   "execution_count": null,
   "metadata": {},
   "outputs": [],
   "source": [
    "for year in years:\n",
    "    \n",
    "    start_date = f\"{year}-01-01\"\n",
    "    end_date = f\"{year+1}-01-01\"\n",
    "    mask = (records_df.incident_date > start_date) & (records_df.incident_date <= end_date)\n",
    "    \n",
    "    length = records_df.loc[mask].shape[0]\n",
    "    death_df[f\"{year}\"] = length"
   ]
  },
  {
   "cell_type": "markdown",
   "metadata": {},
   "source": [
    "Now that I have death by year, there are just a few more steps that I need to take before I have what I want."
   ]
  },
  {
   "cell_type": "code",
   "execution_count": null,
   "metadata": {},
   "outputs": [],
   "source": [
    "death_df = death_df.T\n",
    "death_df.head()"
   ]
  },
  {
   "cell_type": "markdown",
   "metadata": {},
   "source": [
    "Great, we have what we want to far. Now just making a cum_sum column."
   ]
  },
  {
   "cell_type": "code",
   "execution_count": null,
   "metadata": {
    "scrolled": true
   },
   "outputs": [],
   "source": [
    "death_df['total_deaths'] = death_df.deaths_in_year.cumsum()\n",
    "death_df.tail()"
   ]
  }
 ],
 "metadata": {
  "kernelspec": {
   "display_name": "Python 3",
   "language": "python",
   "name": "python3"
  },
  "language_info": {
   "codemirror_mode": {
    "name": "ipython",
    "version": 3
   },
   "file_extension": ".py",
   "mimetype": "text/x-python",
   "name": "python",
   "nbconvert_exporter": "python",
   "pygments_lexer": "ipython3",
   "version": "3.7.3"
  },
  "toc": {
   "base_numbering": 1,
   "nav_menu": {},
   "number_sections": true,
   "sideBar": true,
   "skip_h1_title": false,
   "title_cell": "Table of Contents",
   "title_sidebar": "Contents",
   "toc_cell": false,
   "toc_position": {},
   "toc_section_display": true,
   "toc_window_display": false
  }
 },
 "nbformat": 4,
 "nbformat_minor": 2
}
