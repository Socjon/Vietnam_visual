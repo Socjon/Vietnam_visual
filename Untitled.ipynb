{
 "cells": [
  {
   "cell_type": "markdown",
   "metadata": {},
   "source": [
    "Going to practice ripping text from PDFs enable to put them into a database."
   ]
  },
  {
   "cell_type": "code",
   "execution_count": 55,
   "metadata": {},
   "outputs": [],
   "source": [
    "import PyPDF2\n",
    "import re\n",
    "import os\n",
    "import pandas as pd\n",
    "import numpy as np"
   ]
  },
  {
   "cell_type": "markdown",
   "metadata": {},
   "source": [
    "## PUT FUNCTION INTO `.py` FILE"
   ]
  },
  {
   "cell_type": "code",
   "execution_count": 3,
   "metadata": {},
   "outputs": [],
   "source": [
    "pageObj = pdfReader.getPage(0)\n",
    "al = pageObj.extractText()"
   ]
  },
  {
   "cell_type": "markdown",
   "metadata": {},
   "source": [
    "So there is a head to this document and we need to remove it. Since it will not be standard slice (every state has a different length of a name), we will have to see if there are patterns between the documents that we can exploit."
   ]
  },
  {
   "cell_type": "code",
   "execution_count": 4,
   "metadata": {},
   "outputs": [
    {
     "data": {
      "text/plain": [
       "'U.S. Military Fatal Casualties of the Vietnam War for \\nHome-State-of-Record: Alabama\\nName\\nService\\nRank / \\nRate\\n   Birthdate \\n(YYYYMMDD)\\nIncident or \\nDeath Date \\n(YYYYMMDD)\\nRemains \\nRecovered\\nHome of Record:\\nCity                  County\\nABRAMS TIMOTHY C JR\\nARMY\\nPFC\\n19461104\\nTUSCALOOSA\\nTUSCALOOSA\\n19670103\\nY\\nABSTON JAMES ESTUS JR\\nARMY\\nPFC\\n19441102\\nCOTTONDALE\\nTUSCALOOSA\\n19670227\\nY\\nACTON MARION \\nFRANKLIN\\nARMY\\nPFC\\n19470901\\nHUNTSVILLE\\nMADISON\\n19660411\\nY\\nADAMS JAMES CONRAD\\nARMY\\nMAJ\\n19381025\\nPHENIX CITY\\nRUSSELL\\n19700501\\nY\\nADAMS SPENCER\\nARMY\\nSSG\\n19340506\\nMOBILE\\nMOBILE\\n19680215\\nY\\nADAMS WALTER LEE\\nARMY\\nPFC\\n19461227\\nMCINTOSH\\nWASHINGTON\\n19670610\\nY\\nADAMSON LARRY ONEAL\\nARMY\\nSP4\\n19460910\\nFAIRFAX\\nCHAMBERS\\n19691003\\nY\\nADDISON ONEAL\\nARMY\\nSP5\\n19270506\\nWEST ENSLEY\\nJEFFERSON\\n19660504\\nY\\nADKISON CARL ELMUS\\nARMY\\nSP4\\n19490531\\nGADSDEN\\nETOWAH\\n19690812\\nY\\nAKINS ADRIAN ALAN\\nARMY\\nSP5\\n19490404\\nCORDOVA\\nWALKER\\n19691025\\nY\\nALEXANDER BOBBY RAY\\nMARINE CORPS\\nCPL\\n19470213\\nDECATUR\\nMORGAN\\n19671116\\nY\\nALEXANDER DAVID J JR\\nARMY\\nPFC\\n19480228\\nANNISTON\\nCALHOUN\\n19680718\\nY\\nALLEN GRANVILLE JOEL \\nJR\\nNAVY\\nPO3\\n19471102\\nBIRMINGHAM\\nJEFFERSON\\n19680523\\nY\\nALLEN JOHNNY JR\\nARMY\\nSP4\\n19470502\\nBIRMINGHAM\\nJEFFERSON\\n19700702\\nY\\nALLEN ROBERT WARREN\\nMARINE CORPS\\nPFC\\n19471005\\nBIRMINGHAM\\nJEFFERSON\\n19651003\\nY\\nALLEN WILLIAM TERRY\\nARMY\\n1LT\\n19450317\\nENTERPRISE\\nCOFFEE\\n19671204\\nY\\nSource of data: the \\nVietnam Conflict Extract Data File, as of April 29, 2008\\n, of the \\nDefense Casualty Analysis System (DCAS) Files\\n, part of Record \\nGroup 330: Records of the Office of the Secretary of Defense.\\nYou can view the full \\nDCAS\\nrecord for an individual named in the list via the Access to Archival Databases resource, or AAD.  The link to the AAD main \\npage is as follows:\\nhttp://www.archives.gov/aad\\nPage 1 of 81\\n'"
      ]
     },
     "execution_count": 4,
     "metadata": {},
     "output_type": "execute_result"
    }
   ],
   "source": [
    "al"
   ]
  },
  {
   "cell_type": "code",
   "execution_count": 5,
   "metadata": {},
   "outputs": [
    {
     "data": {
      "text/plain": [
       "5"
      ]
     },
     "execution_count": 5,
     "metadata": {},
     "output_type": "execute_result"
    }
   ],
   "source": [
    "# pdf file object\n",
    "# you can find find the pdf file with complete code in below\n",
    "pdfFileObj = open('state_pdfs/ak-alpha.pdf', 'rb')\n",
    "# pdf reader object\n",
    "pdfReader = PyPDF2.PdfFileReader(pdfFileObj)\n",
    "# number of pages in pdf\n",
    "pages = pdfReader.numPages\n",
    "pages"
   ]
  },
  {
   "cell_type": "code",
   "execution_count": 6,
   "metadata": {},
   "outputs": [],
   "source": [
    "pageObj = pdfReader.getPage(0)\n",
    "ak = pageObj.extractText()"
   ]
  },
  {
   "cell_type": "code",
   "execution_count": 7,
   "metadata": {},
   "outputs": [
    {
     "data": {
      "text/plain": [
       "'U.S. Military Fatal Casualties of the Vietnam War for \\nHome-State-of-Record: Alaska\\nName\\nService\\nRank / \\nRate\\n   Birthdate \\n(YYYYMMDD)\\nIncident or \\nDeath Date \\n(YYYYMMDD)\\nRemains \\nRecovered\\nHome of Record:\\nCity                  County\\nANDERSON THOMAS \\nEDWARD\\nMARINE CORPS\\nCPL\\n19390727\\nSPENARD\\nANCHORAGE\\n19621006\\nN\\nBANTA MICHAEL DEAN\\nARMY\\nPFC\\n19491005\\nCORDOVA\\nVALDEZ-\\nCORDOVA\\n19701002\\nY\\nBARR EDWARD \\nNASUESAK\\nNAVY\\nSN\\n19491022\\nBREVIG \\nMISSION\\nNOME\\n19690503\\nY\\nBARR THOMAS M\\nARMY\\nSP5\\n19450701\\nANCHORAGE\\nANCHORAGE\\n19690512\\nY\\nBAUER RICHARD GENE\\nARMY\\nSP5\\n19500619\\nANCHORAGE\\nANCHORAGE\\n19691104\\nY\\nBETTS LARRY LE ROY\\nARMY\\n2LT\\n19461011\\nEAGLE RIVER\\nANCHORAGE\\n19691121\\nY\\nBROWN CHARLES \\nEDWARD\\nARMY\\nPFC\\n19421003\\nTHORNE BAY\\nPRINCE OF \\nWALES-OUTER \\nKETCHIKAN\\n19671206\\nY\\nBROWN DAVID DEE JR\\nMARINE CORPS\\nPFC\\n19491010\\nWRANGELL\\nWRANGELL-\\nPETERSBURG\\n19680416\\nY\\nBULLOCK GARY EDWIN\\nARMY\\nSP4\\n19420918\\nANCHORAGE\\nANCHORAGE\\n19670131\\nY\\nCHILDERS WILLIAM \\nSTEVEN\\nARMY\\nWO1\\n19470523\\nFAIRBANKS\\nFAIRBANKS \\nNORTH STAR\\n19690103\\nY\\nCHMIEL DONALD GEORGE\\nARMY\\nSSG\\n19440801\\nCHUGIAK\\nANCHORAGE\\n19700825\\nY\\nCOOK CLINTON ARTHUR\\nARMY\\nSGT\\n19481013\\nHYDABURG\\nPRINCE OF \\nWALES-OUTER \\nKETCHIKAN\\n19700428\\nY\\nCOX DANIEL FRANKLIN\\nARMY\\nSP5\\n19490904\\nELMENDORF \\nAFB\\nANCHORAGE\\n19710115\\nY\\nSource of data: the \\nVietnam Conflict Extract Data File, as of April 29, 2008\\n, of the \\nDefense Casualty Analysis System (DCAS) Files\\n, part of Record \\nGroup 330: Records of the Office of the Secretary of Defense.\\nYou can view the full \\nDCAS\\nrecord for an individual named in the list via the Access to Archival Databases resource, or AAD.  The link to the AAD main \\npage is as follows:\\nhttp://www.archives.gov/aad\\nPage 1 of 5\\n'"
      ]
     },
     "execution_count": 7,
     "metadata": {},
     "output_type": "execute_result"
    }
   ],
   "source": [
    "ak"
   ]
  },
  {
   "cell_type": "markdown",
   "metadata": {},
   "source": [
    "___\n",
    "For both of these records, all the data exists between the words \"County\" and \"Source\". I will grab everything in between the two words.\n",
    "___"
   ]
  },
  {
   "cell_type": "code",
   "execution_count": 8,
   "metadata": {},
   "outputs": [
    {
     "data": {
      "text/plain": [
       "'ANDERSON THOMAS \\nEDWARD\\nMARINE CORPS\\nCPL\\n19390727\\nSPENARD\\nANCHORAGE\\n19621006\\nN\\nBANTA MICHAEL DEAN\\nARMY\\nPFC\\n19491005\\nCORDOVA\\nVALDEZ-\\nCORDOVA\\n19701002\\nY\\nBARR EDWARD \\nNASUESAK\\nNAVY\\nSN\\n19491022\\nBREVIG \\nMISSION\\nNOME\\n19690503\\nY\\nBARR THOMAS M\\nARMY\\nSP5\\n19450701\\nANCHORAGE\\nANCHORAGE\\n19690512\\nY\\nBAUER RICHARD GENE\\nARMY\\nSP5\\n19500619\\nANCHORAGE\\nANCHORAGE\\n19691104\\nY\\nBETTS LARRY LE ROY\\nARMY\\n2LT\\n19461011\\nEAGLE RIVER\\nANCHORAGE\\n19691121\\nY\\nBROWN CHARLES \\nEDWARD\\nARMY\\nPFC\\n19421003\\nTHORNE BAY\\nPRINCE OF \\nWALES-OUTER \\nKETCHIKAN\\n19671206\\nY\\nBROWN DAVID DEE JR\\nMARINE CORPS\\nPFC\\n19491010\\nWRANGELL\\nWRANGELL-\\nPETERSBURG\\n19680416\\nY\\nBULLOCK GARY EDWIN\\nARMY\\nSP4\\n19420918\\nANCHORAGE\\nANCHORAGE\\n19670131\\nY\\nCHILDERS WILLIAM \\nSTEVEN\\nARMY\\nWO1\\n19470523\\nFAIRBANKS\\nFAIRBANKS \\nNORTH STAR\\n19690103\\nY\\nCHMIEL DONALD GEORGE\\nARMY\\nSSG\\n19440801\\nCHUGIAK\\nANCHORAGE\\n19700825\\nY\\nCOOK CLINTON ARTHUR\\nARMY\\nSGT\\n19481013\\nHYDABURG\\nPRINCE OF \\nWALES-OUTER \\nKETCHIKAN\\n19700428\\nY\\nCOX DANIEL FRANKLIN\\nARMY\\nSP5\\n19490904\\nELMENDORF \\nAFB\\nANCHORAGE\\n19710115\\nY\\n'"
      ]
     },
     "execution_count": 8,
     "metadata": {},
     "output_type": "execute_result"
    }
   ],
   "source": [
    "m = re.search(r\"(?<=County\\n).*(?=Source)\", ak, flags=re.DOTALL) #re.DOTALL - makes the '.' special character match any character at all, including a newline\n",
    "m.group(0)"
   ]
  },
  {
   "cell_type": "code",
   "execution_count": 9,
   "metadata": {},
   "outputs": [
    {
     "data": {
      "text/plain": [
       "'ABRAMS TIMOTHY C JR\\nARMY\\nPFC\\n19461104\\nTUSCALOOSA\\nTUSCALOOSA\\n19670103\\nY\\nABSTON JAMES ESTUS JR\\nARMY\\nPFC\\n19441102\\nCOTTONDALE\\nTUSCALOOSA\\n19670227\\nY\\nACTON MARION \\nFRANKLIN\\nARMY\\nPFC\\n19470901\\nHUNTSVILLE\\nMADISON\\n19660411\\nY\\nADAMS JAMES CONRAD\\nARMY\\nMAJ\\n19381025\\nPHENIX CITY\\nRUSSELL\\n19700501\\nY\\nADAMS SPENCER\\nARMY\\nSSG\\n19340506\\nMOBILE\\nMOBILE\\n19680215\\nY\\nADAMS WALTER LEE\\nARMY\\nPFC\\n19461227\\nMCINTOSH\\nWASHINGTON\\n19670610\\nY\\nADAMSON LARRY ONEAL\\nARMY\\nSP4\\n19460910\\nFAIRFAX\\nCHAMBERS\\n19691003\\nY\\nADDISON ONEAL\\nARMY\\nSP5\\n19270506\\nWEST ENSLEY\\nJEFFERSON\\n19660504\\nY\\nADKISON CARL ELMUS\\nARMY\\nSP4\\n19490531\\nGADSDEN\\nETOWAH\\n19690812\\nY\\nAKINS ADRIAN ALAN\\nARMY\\nSP5\\n19490404\\nCORDOVA\\nWALKER\\n19691025\\nY\\nALEXANDER BOBBY RAY\\nMARINE CORPS\\nCPL\\n19470213\\nDECATUR\\nMORGAN\\n19671116\\nY\\nALEXANDER DAVID J JR\\nARMY\\nPFC\\n19480228\\nANNISTON\\nCALHOUN\\n19680718\\nY\\nALLEN GRANVILLE JOEL \\nJR\\nNAVY\\nPO3\\n19471102\\nBIRMINGHAM\\nJEFFERSON\\n19680523\\nY\\nALLEN JOHNNY JR\\nARMY\\nSP4\\n19470502\\nBIRMINGHAM\\nJEFFERSON\\n19700702\\nY\\nALLEN ROBERT WARREN\\nMARINE CORPS\\nPFC\\n19471005\\nBIRMINGHAM\\nJEFFERSON\\n19651003\\nY\\nALLEN WILLIAM TERRY\\nARMY\\n1LT\\n19450317\\nENTERPRISE\\nCOFFEE\\n19671204\\nY\\n'"
      ]
     },
     "execution_count": 9,
     "metadata": {},
     "output_type": "execute_result"
    }
   ],
   "source": [
    "m = re.search(r\"(?<=County\\n).*(?=Source)\", al, flags=re.DOTALL) #re.DOTALL - makes the '.' special character match any character at all, including a newline\n",
    "m.group(0)"
   ]
  },
  {
   "cell_type": "code",
   "execution_count": 10,
   "metadata": {},
   "outputs": [
    {
     "data": {
      "text/plain": [
       "'ABRAMS TIMOTHY C JR\\nARMY\\nPFC\\n19461104\\nTUSCALOOSA\\nTUSCALOOSA\\n19670103\\nY\\nABSTON JAMES ESTUS JR\\nARMY\\nPFC\\n19441102\\nCOTTONDALE\\nTUSCALOOSA\\n19670227\\nY\\nACTON MARION \\nFRANKLIN\\nARMY\\nPFC\\n19470901\\nHUNTSVILLE\\nMADISON\\n19660411\\nY\\nADAMS JAMES CONRAD\\nARMY\\nMAJ\\n19381025\\nPHENIX CITY\\nRUSSELL\\n19700501\\nY\\nADAMS SPENCER\\nARMY\\nSSG\\n19340506\\nMOBILE\\nMOBILE\\n19680215\\nY\\nADAMS WALTER LEE\\nARMY\\nPFC\\n19461227\\nMCINTOSH\\nWASHINGTON\\n19670610\\nY\\nADAMSON LARRY ONEAL\\nARMY\\nSP4\\n19460910\\nFAIRFAX\\nCHAMBERS\\n19691003\\nY\\nADDISON ONEAL\\nARMY\\nSP5\\n19270506\\nWEST ENSLEY\\nJEFFERSON\\n19660504\\nY\\nADKISON CARL ELMUS\\nARMY\\nSP4\\n19490531\\nGADSDEN\\nETOWAH\\n19690812\\nY\\nAKINS ADRIAN ALAN\\nARMY\\nSP5\\n19490404\\nCORDOVA\\nWALKER\\n19691025\\nY\\nALEXANDER BOBBY RAY\\nMARINE CORPS\\nCPL\\n19470213\\nDECATUR\\nMORGAN\\n19671116\\nY\\nALEXANDER DAVID J JR\\nARMY\\nPFC\\n19480228\\nANNISTON\\nCALHOUN\\n19680718\\nY\\nALLEN GRANVILLE JOEL \\nJR\\nNAVY\\nPO3\\n19471102\\nBIRMINGHAM\\nJEFFERSON\\n19680523\\nY\\nALLEN JOHNNY JR\\nARMY\\nSP4\\n19470502\\nBIRMINGHAM\\nJEFFERSON\\n19700702\\nY\\nALLEN ROBERT WARREN\\nMARINE CORPS\\nPFC\\n19471005\\nBIRMINGHAM\\nJEFFERSON\\n19651003\\nY\\nALLEN WILLIAM TERRY\\nARMY\\n1LT\\n19450317\\nENTERPRISE\\nCOFFEE\\n19671204\\nY\\n'"
      ]
     },
     "execution_count": 10,
     "metadata": {},
     "output_type": "execute_result"
    }
   ],
   "source": [
    "m = re.search(r\"(?<=County\\n).*(?=Source)\", al, flags=re.DOTALL) #re.DOTALL - makes the '.' special character match any character at all, including a newline\n",
    "trial = m.group(0)\n",
    "trial"
   ]
  },
  {
   "cell_type": "code",
   "execution_count": 11,
   "metadata": {},
   "outputs": [
    {
     "name": "stdout",
     "output_type": "stream",
     "text": [
      "130\n"
     ]
    },
    {
     "data": {
      "text/plain": [
       "['ABRAMS TIMOTHY C JR',\n",
       " 'ARMY',\n",
       " 'PFC',\n",
       " '19461104',\n",
       " 'TUSCALOOSA',\n",
       " 'TUSCALOOSA',\n",
       " '19670103',\n",
       " 'Y',\n",
       " 'ABSTON JAMES ESTUS JR',\n",
       " 'ARMY']"
      ]
     },
     "execution_count": 11,
     "metadata": {},
     "output_type": "execute_result"
    }
   ],
   "source": [
    "state_list = trial.splitlines()  #breaks on the newline\n",
    "print(len(state_list))\n",
    "state_list[:10]"
   ]
  },
  {
   "cell_type": "markdown",
   "metadata": {},
   "source": [
    "Great. Now that I can get the data into lists with an indiviual entries.\n",
    "\n",
    "OK, now lets make a function that goes through each PDF to scrape the data. I will use the function above to put the data into the proper column. Then I will embed that into a loop that will go through all the PDFs in the folder."
   ]
  },
  {
   "cell_type": "code",
   "execution_count": 12,
   "metadata": {},
   "outputs": [],
   "source": [
    "def scrape_pdf(pdf_file): #Accepts in a PDF and returns the text of the PDF broken at newlines.\n",
    "    \n",
    "    pdfFileObj = open(pdf_file, 'rb')               #Opens file\n",
    "    pdfReader = PyPDF2.PdfFileReader(pdfFileObj)    #Reads the file\n",
    "    pages = pdfReader.numPages                      #Gets the number of pages to cycle through\n",
    "    \n",
    "    counter = 0\n",
    "    data_list = []\n",
    "    \n",
    "    while counter < pages:\n",
    "        \n",
    "        pageObj = pdfReader.getPage(counter)\n",
    "        text = pageObj.extractText()\n",
    "        \n",
    "        m = re.search(r\"(?<=County\\n).*(?=Source)\", text, flags=re.DOTALL) #re.DOTALL - makes the '.' special character match any character at all, including a newline\n",
    "        data = m.group(0)\n",
    "        data_list.extend(data.splitlines())\n",
    "        \n",
    "        counter += 1\n",
    "        \n",
    "    data_list.pop() #The last thing at the end of the PDF, on the last page, is some text. Removing it will make it easier to deal with the data.\n",
    "    \n",
    "    return (data_list)"
   ]
  },
  {
   "cell_type": "markdown",
   "metadata": {},
   "source": [
    "Now lets check if my function worked."
   ]
  },
  {
   "cell_type": "code",
   "execution_count": 13,
   "metadata": {},
   "outputs": [
    {
     "data": {
      "text/plain": [
       "10043"
      ]
     },
     "execution_count": 13,
     "metadata": {},
     "output_type": "execute_result"
    }
   ],
   "source": [
    "temp = scrape_pdf('state_pdfs/al-alpha.pdf')\n",
    "len(temp)"
   ]
  },
  {
   "cell_type": "code",
   "execution_count": 14,
   "metadata": {},
   "outputs": [
    {
     "data": {
      "text/plain": [
       "1434.7142857142858"
      ]
     },
     "execution_count": 14,
     "metadata": {},
     "output_type": "execute_result"
    }
   ],
   "source": [
    "10043/7"
   ]
  },
  {
   "cell_type": "markdown",
   "metadata": {},
   "source": [
    "There seems to be an issue. Had this worked properly, the above number should 1208 or at least a whole number. After reviewing the PDF, there is a newline character after some of the names. The following entry in the data is the `service` type. \n",
    "\n",
    "Since there is a limited number of military services, I will loop through the data checking the preceeding entires after the `name` column. If a name is broken into two lines, I will merge them into one. As long as the first entry is correct, this process will work for all the PDFs."
   ]
  },
  {
   "cell_type": "code",
   "execution_count": 15,
   "metadata": {},
   "outputs": [],
   "source": [
    "military = ['ARMY', 'NAVY', 'MARINE CORPS', 'AIR FORCE']"
   ]
  },
  {
   "cell_type": "code",
   "execution_count": 16,
   "metadata": {},
   "outputs": [
    {
     "name": "stdout",
     "output_type": "stream",
     "text": [
      "['ABRAMS TIMOTHY C JR', 'ARMY', 'PFC', '19461104', 'TUSCALOOSA', 'TUSCALOOSA', '19670103', 'Y']\n",
      "['ABSTON JAMES ESTUS JR', 'ARMY', 'PFC', '19441102', 'COTTONDALE', 'TUSCALOOSA', '19670227', 'Y']\n",
      "FRANKLIN WHAT, WHAT?!\n",
      "['ACTON MARION FRANKLIN', 'ARMY', 'PFC', '19470901', 'HUNTSVILLE', 'MADISON', '19660411', 'Y']\n",
      "['ADAMS JAMES CONRAD', 'ARMY', 'MAJ', '19381025', 'PHENIX CITY', 'RUSSELL', '19700501', 'Y']\n",
      "['ADAMS SPENCER', 'ARMY', 'SSG', '19340506', 'MOBILE', 'MOBILE', '19680215', 'Y']\n",
      "['ADAMS WALTER LEE', 'ARMY', 'PFC', '19461227', 'MCINTOSH', 'WASHINGTON', '19670610', 'Y']\n",
      "['ADAMSON LARRY ONEAL', 'ARMY', 'SP4', '19460910', 'FAIRFAX', 'CHAMBERS', '19691003', 'Y']\n",
      "['ADDISON ONEAL', 'ARMY', 'SP5', '19270506', 'WEST ENSLEY', 'JEFFERSON', '19660504', 'Y']\n",
      "['ADKISON CARL ELMUS', 'ARMY', 'SP4', '19490531', 'GADSDEN', 'ETOWAH', '19690812', 'Y']\n",
      "['AKINS ADRIAN ALAN', 'ARMY', 'SP5', '19490404', 'CORDOVA', 'WALKER', '19691025', 'Y']\n",
      "['ALEXANDER BOBBY RAY', 'MARINE CORPS', 'CPL', '19470213', 'DECATUR', 'MORGAN', '19671116', 'Y']\n",
      "['ALEXANDER DAVID J JR', 'ARMY', 'PFC', '19480228', 'ANNISTON', 'CALHOUN', '19680718', 'Y']\n",
      "JR WHAT, WHAT?!\n",
      "['ALLEN GRANVILLE JOEL JR', 'NAVY', 'PO3', '19471102', 'BIRMINGHAM', 'JEFFERSON', '19680523', 'Y']\n"
     ]
    }
   ],
   "source": [
    "check = temp[:106]\n",
    "\n",
    "counter = len(check)\n",
    "\n",
    "while counter > 0:\n",
    "    if check[1] not in military:\n",
    "        \n",
    "        print(check[1] + ' WHAT, WHAT?!')\n",
    "        \n",
    "        check[0] = check[0] + check[1]\n",
    "        check.remove(check[1])\n",
    "    \n",
    "    print(check[:8])\n",
    "    del check[:8]\n",
    "    counter = len(check)"
   ]
  },
  {
   "cell_type": "markdown",
   "metadata": {},
   "source": [
    "Fantastic, it works! now lets tweak this a bit and make a list of lists then I can throw into a `DataFrame` easily."
   ]
  },
  {
   "cell_type": "code",
   "execution_count": 17,
   "metadata": {},
   "outputs": [],
   "source": [
    "def prep_for_df(data_in_list, state):  #Takes in a list and the state, as a string. It will return a list of lists.\n",
    "    \n",
    "    big_long_list = data_in_list.copy()   #Making a deep copy, so I don't effect the underlying list. \n",
    "    output = []\n",
    "    counter = len(big_long_list)\n",
    "\n",
    "    while counter > 0:\n",
    "        if big_long_list[1] not in military:\n",
    "\n",
    "            big_long_list[0] = big_long_list[0] + ' ' + big_long_list[1]\n",
    "            big_long_list.remove(big_long_list[1])\n",
    "\n",
    "        place_holder = big_long_list[:8]\n",
    "        place_holder.append(state)\n",
    "        output.append(place_holder)\n",
    "        del big_long_list[:8]\n",
    "        counter = len(big_long_list)\n",
    "    \n",
    "    return(output)"
   ]
  },
  {
   "cell_type": "code",
   "execution_count": 18,
   "metadata": {},
   "outputs": [
    {
     "data": {
      "text/plain": [
       "1208"
      ]
     },
     "execution_count": 18,
     "metadata": {},
     "output_type": "execute_result"
    }
   ],
   "source": [
    "bama = scrape_pdf('state_pdfs/al-alpha.pdf')\n",
    "how_long = prep_for_df(bama, \"AL\")\n",
    "len(how_long)"
   ]
  },
  {
   "cell_type": "code",
   "execution_count": 19,
   "metadata": {},
   "outputs": [],
   "source": [
    "blerg = pd.DataFrame(how_long, columns = ['name', 'service', 'rank_rate', 'birthdate', 'home_city', 'home_county', 'incident_death', 'body_rec', 'state'])"
   ]
  },
  {
   "cell_type": "code",
   "execution_count": 20,
   "metadata": {},
   "outputs": [
    {
     "name": "stdout",
     "output_type": "stream",
     "text": [
      "(1208, 9)\n"
     ]
    },
    {
     "data": {
      "text/html": [
       "<div>\n",
       "<style scoped>\n",
       "    .dataframe tbody tr th:only-of-type {\n",
       "        vertical-align: middle;\n",
       "    }\n",
       "\n",
       "    .dataframe tbody tr th {\n",
       "        vertical-align: top;\n",
       "    }\n",
       "\n",
       "    .dataframe thead th {\n",
       "        text-align: right;\n",
       "    }\n",
       "</style>\n",
       "<table border=\"1\" class=\"dataframe\">\n",
       "  <thead>\n",
       "    <tr style=\"text-align: right;\">\n",
       "      <th></th>\n",
       "      <th>name</th>\n",
       "      <th>service</th>\n",
       "      <th>rank_rate</th>\n",
       "      <th>birthdate</th>\n",
       "      <th>home_city</th>\n",
       "      <th>home_county</th>\n",
       "      <th>incident_death</th>\n",
       "      <th>body_rec</th>\n",
       "      <th>state</th>\n",
       "    </tr>\n",
       "  </thead>\n",
       "  <tbody>\n",
       "    <tr>\n",
       "      <th>0</th>\n",
       "      <td>ABRAMS TIMOTHY C JR</td>\n",
       "      <td>ARMY</td>\n",
       "      <td>PFC</td>\n",
       "      <td>19461104</td>\n",
       "      <td>TUSCALOOSA</td>\n",
       "      <td>TUSCALOOSA</td>\n",
       "      <td>19670103</td>\n",
       "      <td>Y</td>\n",
       "      <td>AL</td>\n",
       "    </tr>\n",
       "    <tr>\n",
       "      <th>1</th>\n",
       "      <td>ABSTON JAMES ESTUS JR</td>\n",
       "      <td>ARMY</td>\n",
       "      <td>PFC</td>\n",
       "      <td>19441102</td>\n",
       "      <td>COTTONDALE</td>\n",
       "      <td>TUSCALOOSA</td>\n",
       "      <td>19670227</td>\n",
       "      <td>Y</td>\n",
       "      <td>AL</td>\n",
       "    </tr>\n",
       "    <tr>\n",
       "      <th>2</th>\n",
       "      <td>ACTON MARION  FRANKLIN</td>\n",
       "      <td>ARMY</td>\n",
       "      <td>PFC</td>\n",
       "      <td>19470901</td>\n",
       "      <td>HUNTSVILLE</td>\n",
       "      <td>MADISON</td>\n",
       "      <td>19660411</td>\n",
       "      <td>Y</td>\n",
       "      <td>AL</td>\n",
       "    </tr>\n",
       "    <tr>\n",
       "      <th>3</th>\n",
       "      <td>ADAMS JAMES CONRAD</td>\n",
       "      <td>ARMY</td>\n",
       "      <td>MAJ</td>\n",
       "      <td>19381025</td>\n",
       "      <td>PHENIX CITY</td>\n",
       "      <td>RUSSELL</td>\n",
       "      <td>19700501</td>\n",
       "      <td>Y</td>\n",
       "      <td>AL</td>\n",
       "    </tr>\n",
       "    <tr>\n",
       "      <th>4</th>\n",
       "      <td>ADAMS SPENCER</td>\n",
       "      <td>ARMY</td>\n",
       "      <td>SSG</td>\n",
       "      <td>19340506</td>\n",
       "      <td>MOBILE</td>\n",
       "      <td>MOBILE</td>\n",
       "      <td>19680215</td>\n",
       "      <td>Y</td>\n",
       "      <td>AL</td>\n",
       "    </tr>\n",
       "  </tbody>\n",
       "</table>\n",
       "</div>"
      ],
      "text/plain": [
       "                     name service rank_rate birthdate    home_city  \\\n",
       "0     ABRAMS TIMOTHY C JR    ARMY       PFC  19461104   TUSCALOOSA   \n",
       "1   ABSTON JAMES ESTUS JR    ARMY       PFC  19441102   COTTONDALE   \n",
       "2  ACTON MARION  FRANKLIN    ARMY       PFC  19470901   HUNTSVILLE   \n",
       "3      ADAMS JAMES CONRAD    ARMY       MAJ  19381025  PHENIX CITY   \n",
       "4           ADAMS SPENCER    ARMY       SSG  19340506       MOBILE   \n",
       "\n",
       "  home_county incident_death body_rec state  \n",
       "0  TUSCALOOSA       19670103        Y    AL  \n",
       "1  TUSCALOOSA       19670227        Y    AL  \n",
       "2     MADISON       19660411        Y    AL  \n",
       "3     RUSSELL       19700501        Y    AL  \n",
       "4      MOBILE       19680215        Y    AL  "
      ]
     },
     "execution_count": 20,
     "metadata": {},
     "output_type": "execute_result"
    }
   ],
   "source": [
    "print(blerg.shape)\n",
    "blerg.head()"
   ]
  },
  {
   "cell_type": "markdown",
   "metadata": {},
   "source": [
    "Well it looks like I got everything all the peieces together. All that is is left to run through the folder of the PDFs, get the `state` from the file name, and let it go."
   ]
  },
  {
   "cell_type": "code",
   "execution_count": 21,
   "metadata": {},
   "outputs": [
    {
     "data": {
      "text/plain": [
       "['state_pdfs/me-alpha.pdf',\n",
       " 'state_pdfs/al-alpha.pdf',\n",
       " 'state_pdfs/la-alpha.pdf',\n",
       " 'state_pdfs/nm-alpha.pdf',\n",
       " 'state_pdfs/ks-alpha.pdf',\n",
       " 'state_pdfs/il-alpha.pdf',\n",
       " 'state_pdfs/sc-alpha.pdf',\n",
       " 'state_pdfs/wy-alpha.pdf',\n",
       " 'state_pdfs/mn-alpha.pdf',\n",
       " 'state_pdfs/wa-alpha.pdf',\n",
       " 'state_pdfs/ia-alpha.pdf',\n",
       " 'state_pdfs/ar-alpha.pdf',\n",
       " 'state_pdfs/tn-alpha.pdf',\n",
       " 'state_pdfs/sd-alpha.pdf',\n",
       " 'state_pdfs/pa-alpha.pdf',\n",
       " 'state_pdfs/md-alpha.pdf',\n",
       " 'state_pdfs/ca-alpha.pdf',\n",
       " 'state_pdfs/oh-alpha.pdf',\n",
       " 'state_pdfs/ct-alpha.pdf',\n",
       " 'state_pdfs/mi-alpha.pdf',\n",
       " 'state_pdfs/ny-alpha.pdf',\n",
       " 'state_pdfs/ak-alpha.pdf',\n",
       " 'state_pdfs/ky-alpha.pdf',\n",
       " 'state_pdfs/hi-alpha.pdf',\n",
       " 'state_pdfs/mo-alpha.pdf',\n",
       " 'state_pdfs/fl-alpha.pdf',\n",
       " 'state_pdfs/ut-alpha.pdf',\n",
       " 'state_pdfs/nj-alpha.pdf',\n",
       " 'state_pdfs/tx-alpha.pdf',\n",
       " 'state_pdfs/de-alpha.pdf',\n",
       " 'state_pdfs/co-alpha.pdf',\n",
       " 'state_pdfs/va-alpha.pdf',\n",
       " 'state_pdfs/vt-alpha.pdf',\n",
       " 'state_pdfs/ok-alpha.pdf',\n",
       " 'state_pdfs/in-alpha.pdf',\n",
       " 'state_pdfs/mt-alpha.pdf',\n",
       " 'state_pdfs/nd-alpha.pdf',\n",
       " 'state_pdfs/dc-alpha.pdf',\n",
       " 'state_pdfs/ma-alpha.pdf',\n",
       " 'state_pdfs/wv-alpha.pdf',\n",
       " 'state_pdfs/or-alpha.pdf',\n",
       " 'state_pdfs/ga-alpha.pdf',\n",
       " 'state_pdfs/wi-alpha.pdf',\n",
       " 'state_pdfs/nv-alpha.pdf',\n",
       " 'state_pdfs/az-alpha.pdf',\n",
       " 'state_pdfs/ms-alpha.pdf',\n",
       " 'state_pdfs/nc-alpha.pdf',\n",
       " 'state_pdfs/id-alpha.pdf',\n",
       " 'state_pdfs/ne-alpha.pdf',\n",
       " 'state_pdfs/nh-alpha.pdf',\n",
       " 'state_pdfs/ri-alpha.pdf']"
      ]
     },
     "execution_count": 21,
     "metadata": {},
     "output_type": "execute_result"
    }
   ],
   "source": [
    "pdf_paths = []\n",
    "depth = 1\n",
    "#Getting the directory of the PDF files.\n",
    "for dirpath, dirname, filenames in os.walk('state_pdfs'):\n",
    "    for name in filenames:\n",
    "        #The len(dirpath) is just to focus on the .pdf files without grabbing the other folders.\n",
    "        if name.endswith('.pdf') == True and len(dirpath) == 10:\n",
    "            pdf_paths.append(os.path.join(dirpath, name))\n",
    "pdf_paths"
   ]
  },
  {
   "cell_type": "markdown",
   "metadata": {},
   "source": [
    "Now lets throw it all together to test. I am going to verify it works for all the states and DC."
   ]
  },
  {
   "cell_type": "code",
   "execution_count": 23,
   "metadata": {},
   "outputs": [
    {
     "name": "stdout",
     "output_type": "stream",
     "text": [
      "state_pdfs/me-alpha.pdf\n",
      "ME\n",
      "state_pdfs/al-alpha.pdf\n",
      "AL\n",
      "state_pdfs/la-alpha.pdf\n",
      "LA\n",
      "state_pdfs/nm-alpha.pdf\n",
      "NM\n",
      "state_pdfs/ks-alpha.pdf\n",
      "KS\n"
     ]
    },
    {
     "ename": "IndexError",
     "evalue": "list index out of range",
     "output_type": "error",
     "traceback": [
      "\u001b[0;31m---------------------------------------------------------------------------\u001b[0m",
      "\u001b[0;31mIndexError\u001b[0m                                Traceback (most recent call last)",
      "\u001b[0;32m<ipython-input-23-1ab3f62e6d70>\u001b[0m in \u001b[0;36m<module>\u001b[0;34m\u001b[0m\n\u001b[1;32m     10\u001b[0m     \u001b[0;31m#print(place_holder)\u001b[0m\u001b[0;34m\u001b[0m\u001b[0;34m\u001b[0m\u001b[0;34m\u001b[0m\u001b[0m\n\u001b[1;32m     11\u001b[0m \u001b[0;34m\u001b[0m\u001b[0m\n\u001b[0;32m---> 12\u001b[0;31m     \u001b[0mdata\u001b[0m \u001b[0;34m=\u001b[0m \u001b[0mprep_for_df\u001b[0m\u001b[0;34m(\u001b[0m\u001b[0mplace_holder\u001b[0m\u001b[0;34m,\u001b[0m \u001b[0mstate\u001b[0m\u001b[0;34m)\u001b[0m\u001b[0;34m\u001b[0m\u001b[0;34m\u001b[0m\u001b[0m\n\u001b[0m\u001b[1;32m     13\u001b[0m \u001b[0;34m\u001b[0m\u001b[0m\n\u001b[1;32m     14\u001b[0m     \u001b[0mpd\u001b[0m\u001b[0;34m.\u001b[0m\u001b[0mDataFrame\u001b[0m\u001b[0;34m(\u001b[0m\u001b[0mdata\u001b[0m\u001b[0;34m,\u001b[0m \u001b[0mcolumns\u001b[0m \u001b[0;34m=\u001b[0m \u001b[0;34m[\u001b[0m\u001b[0;34m'name'\u001b[0m\u001b[0;34m,\u001b[0m \u001b[0;34m'service'\u001b[0m\u001b[0;34m,\u001b[0m \u001b[0;34m'rank_rate'\u001b[0m\u001b[0;34m,\u001b[0m \u001b[0;34m'birthdate'\u001b[0m\u001b[0;34m,\u001b[0m \u001b[0;34m'home_city'\u001b[0m\u001b[0;34m,\u001b[0m \u001b[0;34m'home_county'\u001b[0m\u001b[0;34m,\u001b[0m \u001b[0;34m'incident_death'\u001b[0m\u001b[0;34m,\u001b[0m \u001b[0;34m'body_rec'\u001b[0m\u001b[0;34m,\u001b[0m \u001b[0;34m'state'\u001b[0m\u001b[0;34m]\u001b[0m\u001b[0;34m)\u001b[0m\u001b[0;34m\u001b[0m\u001b[0;34m\u001b[0m\u001b[0m\n",
      "\u001b[0;32m<ipython-input-17-96c37da1f4dc>\u001b[0m in \u001b[0;36mprep_for_df\u001b[0;34m(data_in_list, state)\u001b[0m\n\u001b[1;32m      6\u001b[0m \u001b[0;34m\u001b[0m\u001b[0m\n\u001b[1;32m      7\u001b[0m     \u001b[0;32mwhile\u001b[0m \u001b[0mcounter\u001b[0m \u001b[0;34m>\u001b[0m \u001b[0;36m0\u001b[0m\u001b[0;34m:\u001b[0m\u001b[0;34m\u001b[0m\u001b[0;34m\u001b[0m\u001b[0m\n\u001b[0;32m----> 8\u001b[0;31m         \u001b[0;32mif\u001b[0m \u001b[0mbig_long_list\u001b[0m\u001b[0;34m[\u001b[0m\u001b[0;36m1\u001b[0m\u001b[0;34m]\u001b[0m \u001b[0;32mnot\u001b[0m \u001b[0;32min\u001b[0m \u001b[0mmilitary\u001b[0m\u001b[0;34m:\u001b[0m\u001b[0;34m\u001b[0m\u001b[0;34m\u001b[0m\u001b[0m\n\u001b[0m\u001b[1;32m      9\u001b[0m \u001b[0;34m\u001b[0m\u001b[0m\n\u001b[1;32m     10\u001b[0m             \u001b[0mbig_long_list\u001b[0m\u001b[0;34m[\u001b[0m\u001b[0;36m0\u001b[0m\u001b[0;34m]\u001b[0m \u001b[0;34m=\u001b[0m \u001b[0mbig_long_list\u001b[0m\u001b[0;34m[\u001b[0m\u001b[0;36m0\u001b[0m\u001b[0;34m]\u001b[0m \u001b[0;34m+\u001b[0m \u001b[0;34m' '\u001b[0m \u001b[0;34m+\u001b[0m \u001b[0mbig_long_list\u001b[0m\u001b[0;34m[\u001b[0m\u001b[0;36m1\u001b[0m\u001b[0;34m]\u001b[0m\u001b[0;34m\u001b[0m\u001b[0;34m\u001b[0m\u001b[0m\n",
      "\u001b[0;31mIndexError\u001b[0m: list index out of range"
     ]
    }
   ],
   "source": [
    "for pdf in pdf_paths:\n",
    "    \n",
    "    state = str(pdf[11:13].upper())\n",
    "    \n",
    "    print(pdf)\n",
    "    print(state)\n",
    "    \n",
    "    place_holder = scrape_pdf(pdf)\n",
    "    \n",
    "    #print(place_holder)\n",
    "    \n",
    "    data = prep_for_df(place_holder, state)\n",
    "    \n",
    "    pd.DataFrame(data, columns = ['name', 'service', 'rank_rate', 'birthdate', 'home_city', 'home_county', 'incident_death', 'body_rec', 'state'])"
   ]
  },
  {
   "cell_type": "markdown",
   "metadata": {},
   "source": [
    "There seems to be an issue with the KS records, so going to investigate that."
   ]
  },
  {
   "cell_type": "code",
   "execution_count": 24,
   "metadata": {},
   "outputs": [],
   "source": [
    "ks_data = scrape_pdf('state_pdfs/ks-alpha.pdf')"
   ]
  },
  {
   "cell_type": "code",
   "execution_count": 25,
   "metadata": {},
   "outputs": [
    {
     "name": "stdout",
     "output_type": "stream",
     "text": [
      "5262\n"
     ]
    },
    {
     "data": {
      "text/plain": [
       "['ACHESON CHARLES ',\n",
       " 'RALPH',\n",
       " 'ARMY',\n",
       " 'PFC',\n",
       " '19470120',\n",
       " 'PALCO',\n",
       " 'ROOKS',\n",
       " '19671121',\n",
       " 'Y',\n",
       " 'ACOSTA JOSE FRANCISCO',\n",
       " 'MARINE CORPS',\n",
       " 'CPL',\n",
       " '19470525',\n",
       " 'WICHITA',\n",
       " 'SEDGWICK',\n",
       " '19671001',\n",
       " 'Y',\n",
       " 'ADAM JOHN QUINCY',\n",
       " 'AIR FORCE',\n",
       " 'SMSGT',\n",
       " '19471222',\n",
       " 'BETHEL',\n",
       " 'WYANDOTTE',\n",
       " '19680522',\n",
       " 'N',\n",
       " 'ADAMS THOMAS ',\n",
       " 'EDWARD',\n",
       " 'NAVY',\n",
       " 'SN',\n",
       " '19451105',\n",
       " 'TOPEKA',\n",
       " 'SHAWNEE',\n",
       " '19690227',\n",
       " 'Y']"
      ]
     },
     "execution_count": 25,
     "metadata": {},
     "output_type": "execute_result"
    }
   ],
   "source": [
    "print(len(ks_data))\n",
    "ks_data[:34]"
   ]
  },
  {
   "cell_type": "code",
   "execution_count": 26,
   "metadata": {},
   "outputs": [
    {
     "ename": "IndexError",
     "evalue": "list index out of range",
     "output_type": "error",
     "traceback": [
      "\u001b[0;31m---------------------------------------------------------------------------\u001b[0m",
      "\u001b[0;31mIndexError\u001b[0m                                Traceback (most recent call last)",
      "\u001b[0;32m<ipython-input-26-41f8cbee818a>\u001b[0m in \u001b[0;36m<module>\u001b[0;34m\u001b[0m\n\u001b[0;32m----> 1\u001b[0;31m \u001b[0mprep_for_df\u001b[0m\u001b[0;34m(\u001b[0m\u001b[0mks_data\u001b[0m\u001b[0;34m,\u001b[0m \u001b[0;34m'KS'\u001b[0m\u001b[0;34m)\u001b[0m\u001b[0;34m\u001b[0m\u001b[0;34m\u001b[0m\u001b[0m\n\u001b[0m",
      "\u001b[0;32m<ipython-input-17-96c37da1f4dc>\u001b[0m in \u001b[0;36mprep_for_df\u001b[0;34m(data_in_list, state)\u001b[0m\n\u001b[1;32m      6\u001b[0m \u001b[0;34m\u001b[0m\u001b[0m\n\u001b[1;32m      7\u001b[0m     \u001b[0;32mwhile\u001b[0m \u001b[0mcounter\u001b[0m \u001b[0;34m>\u001b[0m \u001b[0;36m0\u001b[0m\u001b[0;34m:\u001b[0m\u001b[0;34m\u001b[0m\u001b[0;34m\u001b[0m\u001b[0m\n\u001b[0;32m----> 8\u001b[0;31m         \u001b[0;32mif\u001b[0m \u001b[0mbig_long_list\u001b[0m\u001b[0;34m[\u001b[0m\u001b[0;36m1\u001b[0m\u001b[0;34m]\u001b[0m \u001b[0;32mnot\u001b[0m \u001b[0;32min\u001b[0m \u001b[0mmilitary\u001b[0m\u001b[0;34m:\u001b[0m\u001b[0;34m\u001b[0m\u001b[0;34m\u001b[0m\u001b[0m\n\u001b[0m\u001b[1;32m      9\u001b[0m \u001b[0;34m\u001b[0m\u001b[0m\n\u001b[1;32m     10\u001b[0m             \u001b[0mbig_long_list\u001b[0m\u001b[0;34m[\u001b[0m\u001b[0;36m0\u001b[0m\u001b[0;34m]\u001b[0m \u001b[0;34m=\u001b[0m \u001b[0mbig_long_list\u001b[0m\u001b[0;34m[\u001b[0m\u001b[0;36m0\u001b[0m\u001b[0;34m]\u001b[0m \u001b[0;34m+\u001b[0m \u001b[0;34m' '\u001b[0m \u001b[0;34m+\u001b[0m \u001b[0mbig_long_list\u001b[0m\u001b[0;34m[\u001b[0m\u001b[0;36m1\u001b[0m\u001b[0;34m]\u001b[0m\u001b[0;34m\u001b[0m\u001b[0;34m\u001b[0m\u001b[0m\n",
      "\u001b[0;31mIndexError\u001b[0m: list index out of range"
     ]
    }
   ],
   "source": [
    "prep_for_df(ks_data, 'KS')"
   ]
  },
  {
   "cell_type": "markdown",
   "metadata": {},
   "source": [
    "My prep function is not working as intended. I am going to make a trouble shooting one that I will add print statesments enable to troubleshoot."
   ]
  },
  {
   "cell_type": "code",
   "execution_count": 28,
   "metadata": {},
   "outputs": [],
   "source": [
    "def TS_prep_for_df(data_in_list, state):  #Takes in a list and the state, as a string. It will return a list of lists.\n",
    "    \n",
    "    big_long_list = data_in_list.copy()    #Making a deep copy, so I don't effect the underlying list. \n",
    "    \n",
    "    output = []\n",
    "    \n",
    "    counter = len(big_long_list)\n",
    "\n",
    "    while counter > 0:\n",
    "        \n",
    "        if big_long_list[1] not in military:\n",
    "\n",
    "            big_long_list[0] = big_long_list[0] + ' ' + big_long_list[1]\n",
    "            big_long_list.remove(big_long_list[1])\n",
    "\n",
    "        place_holder = big_long_list[:8]\n",
    "        place_holder.append(state)\n",
    "        \n",
    "        output.append(place_holder)\n",
    "        \n",
    "        print(place_holder)\n",
    "        \n",
    "        del big_long_list[:8]\n",
    "        counter = len(big_long_list)\n",
    "    \n",
    "    #return(output)"
   ]
  },
  {
   "cell_type": "code",
   "execution_count": 29,
   "metadata": {},
   "outputs": [
    {
     "name": "stdout",
     "output_type": "stream",
     "text": [
      "['ACHESON CHARLES  RALPH', 'ARMY', 'PFC', '19470120', 'PALCO', 'ROOKS', '19671121', 'Y', 'KS']\n",
      "['ACOSTA JOSE FRANCISCO', 'MARINE CORPS', 'CPL', '19470525', 'WICHITA', 'SEDGWICK', '19671001', 'Y', 'KS']\n",
      "['ADAM JOHN QUINCY', 'AIR FORCE', 'SMSGT', '19471222', 'BETHEL', 'WYANDOTTE', '19680522', 'N', 'KS']\n",
      "['ADAMS THOMAS  EDWARD', 'NAVY', 'SN', '19451105', 'TOPEKA', 'SHAWNEE', '19690227', 'Y', 'KS']\n",
      "['ADAMS WILLIAM CARL', 'MARINE CORPS', 'SGT', '19451002', 'JUNCTION CITY', 'GEARY', '19690823', 'Y', 'KS']\n",
      "['ALDERMAN ANDREW  ALBERT', 'NAVY', 'PO3', '19440512', 'COFFEYVILLE', 'MONTGOMERY', '19670317', 'Y', 'KS']\n",
      "['ALLENDORF MICHAEL  GEORGE', 'ARMY', 'CPL', '19480702', 'TOPEKA', 'SHAWNEE', '19690311', 'Y', 'KS']\n",
      "['ALLGOOD FRANKIE  EUGENE', 'MARINE CORPS', 'LTCOL', '19300501', 'FT SCOTT', 'BOURBON', '19680326', 'N', 'KS']\n",
      "['ALVORD RONNIE EUGENE', 'ARMY', 'PFC', '19470111', 'HUTCHINSON', 'RENO', '19680305', 'Y', 'KS']\n",
      "['AMERINE KENT L', 'ARMY', 'SP4', '19430404', 'GREAT BEND', 'BARTON', '19660802', 'Y', 'KS']\n",
      "['AMMANN ALBERT FRANK', 'ARMY', '1LT', '19440110', 'ARGONIA', 'SUMNER', '19700915', 'Y', 'KS']\n",
      "['ANDERSON ALFRED EARL', 'MARINE CORPS', 'LCPL', '19480207', 'SUNFLOWER', 'JOHNSON', '19671106', 'Y', 'KS']\n",
      "['ANDERSON DENIS LEON', 'NAVY', 'LTJG', '19421024', 'HOPE', 'DICKINSON', '19680111', 'Y', 'KS']\n",
      "['ANDERSON JAMES  RICHMOND', 'ARMY', 'SSG', '19430807', 'SCRANTON', 'OSAGE', '19680209', 'Y', 'KS']\n",
      "['ANDERSON LANNIE RAY', 'ARMY', 'PFC', '19500719', 'LINCOLN', 'LINCOLN', '19700211', 'Y', 'KS']\n",
      "['APPLEGATE NEWELL F SR', 'ARMY', 'SGM', '19290728', 'EUREKA', 'GREENWOOD', '19710410', 'Y', 'KS']\n",
      "['ARB FRANCIS LOREN', 'ARMY', 'PFC', '19430116', 'MELVERN', 'OSAGE', '19670601', 'Y', 'KS']\n",
      "['ARBUTHNOT JAMES  MALCOLM', 'ARMY', 'SP4', '19461105', 'PRAIRIE ', 'VILLAGE', 'JOHNSON', '19660330', 'KS']\n",
      "['Y ARNETT JAMES DOUGLAS', 'ARMY', 'PFC', '19490124', 'WICHITA', 'SEDGWICK', '19680915', 'Y', 'KS']\n",
      "['ARNOLD RICHARD EARL', 'ARMY', 'SP4', '19410722', 'LARNED', 'PAWNEE', '19660129', 'Y', 'KS']\n",
      "['AST STEVEN VINCENT', 'ARMY', 'CPL', '19500209', 'EMPORIA', 'LYON', '19710302', 'Y', 'KS']\n",
      "['ATKINS JAMES', 'MARINE CORPS', 'LCPL', '19470610', 'WICHITA', 'SEDGWICK', '19691005', 'Y', 'KS']\n",
      "['AVILA THOMAS ROBERT', 'MARINE CORPS', 'CPL', '19471221', 'WICHITA', 'SEDGWICK', '19680107', 'Y', 'KS']\n",
      "['BADWAY VICTOR WOLF  JR', 'MARINE CORPS', 'LCPL', '19500925', 'WICHITA', 'SEDGWICK', '19700221', 'Y', 'KS']\n",
      "['BAILEY CHARLES  CLIFFORD', 'ARMY', 'PFC', '19470424', 'EUREKA', 'GREENWOOD', '19680602', 'Y', 'KS']\n",
      "['BALENTINE ROLAND JR', 'ARMY', 'PFC', '19480424', 'KANSAS CITY', 'WYANDOTTE', '19671003', 'Y', 'KS']\n",
      "['BALES CHARLES ROBERT', 'ARMY', 'SP4', '19471117', 'SHAWNEE ', 'MISSION', 'JOHNSON', '19680822', 'KS']\n",
      "['Y BALL MERLIN EUGENE', 'ARMY', 'PFC', '19470101', 'GARDEN CITY', 'FINNEY', '19670314', 'Y', 'KS']\n",
      "['BANNON GARY CLIFFORD', 'ARMY', 'PFC', '19451009', 'LEON', 'BUTLER', '19670520', 'Y', 'KS']\n",
      "['BARKSDALE JERRY DEAN', 'MARINE CORPS', 'LCPL', '19460514', 'BERRYTON', 'SHAWNEE', '19680131', 'Y', 'KS']\n",
      "['BARNETT GARY JOE', 'ARMY', 'CPT', '19460513', 'MISSION', 'JOHNSON', '19700321', 'Y', 'KS']\n",
      "['BARR TERRY LEE', 'ARMY', 'SP4', '19460522', 'KANSAS CITY', 'WYANDOTTE', '19690817', 'Y', 'KS']\n",
      "['BARRETT GEORGE  DWAYNE', 'ARMY', 'PFC', '19440618', 'READING', 'LYON', '19680320', 'Y', 'KS']\n",
      "['BAUER LAWRENCE  EDWARD', 'ARMY', 'CPL', '19460416', 'LOUISBURG', 'MIAMI', '19690430', 'Y', 'KS']\n",
      "['BAUGHMAN JOHN OLIVER', 'ARMY', 'SGT', '19490513', 'JUNCTION CITY', 'GEARY', '19690419', 'Y', 'KS']\n",
      "['BELDEN LARRY GENE', 'MARINE CORPS', 'PFC', '19491110', 'ESBON', 'JEWELL', '19690726', 'Y', 'KS']\n",
      "['BELL CHARLES MARTIN', 'NAVY', 'PO3', '19421126', 'WATHENA', 'DONIPHAN', '19680103', 'Y', 'KS']\n",
      "['BELLER WILLIAM  RUSSELL JR', 'MARINE CORPS', 'PFC', '19461027', 'SALINA', 'SALINE', '19670430', 'Y', 'KS']\n",
      "['BENNEFELD STEVEN  HENRY', 'MARINE CORPS', 'PFC', '19471224', 'GIRARD', 'CRAWFORD', '19670729', 'N', 'KS']\n",
      "['BERGAN MERLIN  HERMAN', 'ARMY', 'SFC', '19250826', 'JUNCTION CITY', 'GEARY', '19680812', 'Y', 'KS']\n",
      "['BERGER GERALD DAVID', 'MARINE CORPS', 'CAPT', '19420707', 'TOPEKA', 'SHAWNEE', '19680805', 'Y', 'KS']\n",
      "['BERRIER TOMMY JOE', 'MARINE CORPS', 'LCPL', '19500125', 'KANSAS CITY', 'WYANDOTTE', '19690816', 'Y', 'KS']\n",
      "['BERWERT PATRICK  MICHAEL', 'MARINE CORPS', 'PFC', '19470323', 'TOPEKA', 'SHAWNEE', '19680325', 'Y', 'KS']\n",
      "['BICKFORD RALPH NEVIN', 'ARMY', 'CPL', '19490121', 'WICHITA', 'SEDGWICK', '19690322', 'Y', 'KS']\n",
      "['BILLINGSLY LEE WAYNE', 'ARMY', 'CPT', '19440426', 'HUTCHINSON', 'RENO', '19720722', 'Y', 'KS']\n",
      "['BINDER GARY LEE', 'NAVY', 'CN', '19461206', 'HAYS', 'ELLIS', '19671013', 'Y', 'KS']\n",
      "['BIRD DANNIE LEON', 'ARMY', 'SP4', '19471230', 'WEBBER', 'JEWELL', '19690114', 'Y', 'KS']\n",
      "['BIRD SAMUEL RICHARD', 'ARMY', 'MAJ', '19400127', 'WICHITA', 'SEDGWICK', '19670127', 'Y', 'KS']\n",
      "['BISHOP JAMES LOUIS', 'ARMY', 'SP4', '19460227', 'WICHITA', 'SEDGWICK', '19690623', 'Y', 'KS']\n",
      "['BITTLE DOUGLAS ROBERT', 'ARMY', 'SP4', '19431004', 'ARKANSAS ', 'CITY', 'COWLEY', '19690621', 'KS']\n",
      "['Y BLAND ISAAC', 'ARMY', 'PFC', '19421229', 'WICHITA', 'SEDGWICK', '19680320', 'Y', 'KS']\n",
      "['BLANSCET MICHAEL  JOHN', 'ARMY', 'CPT', '19481203', 'MERRIAM', 'JOHNSON', '19700606', 'Y', 'KS']\n",
      "['BLITCH BERNARD L', 'ARMY', 'SP5', '19320418', 'JUNCTION CITY', 'GEARY', '19660916', 'Y', 'KS']\n",
      "['BOESE ROBERT LEE', 'ARMY', 'CPL', '19461229', 'MARION', 'MARION', '19690523', 'Y', 'KS']\n",
      "['BOOLIN CLARENCE  HENRY', 'ARMY', 'SP4', '19480317', 'OVERLAND ', 'PARK', 'JOHNSON', '19690322', 'KS']\n",
      "['Y BORDERS DARELD ', 'NORVAL', 'ARMY', 'SGT', '19470210', 'MISSION', 'JOHNSON', '19680702', 'KS']\n",
      "['Y BOWLES HARRY OWEN', 'ARMY', 'SP4', '19530413', 'DOWNS', 'OSBORNE', '19711017', 'Y', 'KS']\n",
      "['BOWLING JOSEPH PERRY', 'ARMY', 'SGT', '19440127', 'WICHITA', 'SEDGWICK', '19680211', 'Y', 'KS']\n",
      "['BOWMAN DONALD  ROBERT', 'ARMY', 'PFC', '19471124', 'LAWRENCE', 'DOUGLAS', '19680208', 'Y', 'KS']\n",
      "['BOYD RICHARD EUGENE', 'NAVY', 'SN', '19440723', 'LAWRENCE', 'DOUGLAS', '19680325', 'Y', 'KS']\n",
      "['BRACK HARRY HUBERT  JR', 'ARMY', 'PFC', '19501204', 'LEOTI', 'WICHITA', '19711022', 'Y', 'KS']\n",
      "['BRADBURY STEVEN  WAYNE', 'ARMY', 'SP4', '19490119', 'WICHITA', 'SEDGWICK', '19690713', 'Y', 'KS']\n",
      "['BRADFORD ALLEN ROYAL', 'ARMY', 'CPL', '19470101', 'LIBERAL', 'SEWARD', '19680507', 'Y', 'KS']\n",
      "['BRANDT GEAROLD LEE', 'ARMY', 'PFC', '19500508', 'SALINA', 'SALINE', '19690610', 'Y', 'KS']\n",
      "['BRAY RALPH OSCAR JR', 'ARMY', 'CPT', '19420612', 'OLATHE', 'JOHNSON', '19690712', 'Y', 'KS']\n",
      "['BREEDING MICHAEL  HUGH', 'MARINE CORPS', '1STLT', '19450319', 'BLUE RAPIDS', 'MARSHALL', '19700212', 'N', 'KS']\n",
      "['BRENNER DAVID ALDEN', 'ARMY', 'SSG', '19460402', 'PARSONS', 'LABETTE', '19680401', 'Y', 'KS']\n",
      "['BRENNER DAVID GEORGE', 'AIR FORCE', 'MAJ', '19330926', 'MANHATTAN', 'RILEY', '19680613', 'Y', 'KS']\n",
      "['BRENNER KENNETH  JAMES', 'ARMY', 'CPL', '19480615', 'HOPE', 'DICKINSON', '19690329', 'Y', 'KS']\n",
      "['BRESHEARS ALAN  WAYNE', 'NAVY', 'PO3', '19481010', 'FT SCOTT', 'BOURBON', '19690812', 'Y', 'KS']\n",
      "['BROOKS BARTON W', 'ARMY', 'SP4', '19470118', 'CLAYTON', 'DECATUR', '19680225', 'Y', 'KS']\n",
      "['BROWN KENNETH  LAVERN', 'ARMY', 'SP5', '19500111', 'FT SCOTT', 'BOURBON', '19701102', 'Y', 'KS']\n",
      "['BROWNING GARY LEE', 'ARMY', 'SP4', '19480909', 'HUTCHINSON', 'RENO', '19680918', 'Y', 'KS']\n",
      "['BROWNING RAYMOND  VENSON', 'ARMY', 'CPL', '19460806', 'LAWRENCE', 'DOUGLAS', '19671012', 'Y', 'KS']\n",
      "['BRULL MICHAEL JOSEPH', 'ARMY', 'SGT', '19471016', 'ATCHISON', 'ATCHISON', '19690508', 'Y', 'KS']\n",
      "['BRYANT BOBBY RAY', 'ARMY', 'PFC', '19470517', 'WICHITA', 'SEDGWICK', '19661002', 'Y', 'KS']\n",
      "['BUCHANAN JACK LYNN', 'MARINE CORPS', 'CPL', '19471009', 'WICHITA', 'SEDGWICK', '19670901', 'Y', 'KS']\n",
      "['BUCKRIDGE MARVIN  DOUGLAS', 'ARMY', 'SP4', '19480105', 'EMPORIA', 'LYON', '19670818', 'Y', 'KS']\n",
      "['BUNCH JAMES GEORGE JR', 'ARMY', 'SGT', '19480428', 'TOPEKA', 'SHAWNEE', '19690409', 'Y', 'KS']\n",
      "['BURGESS LAWRENCE  DEAN', 'ARMY', 'SGT', '19491228', 'OTTAWA', 'FRANKLIN', '19700606', 'Y', 'KS']\n",
      "['BURKETT CLOYCE ORAL  JR', 'AIR FORCE', 'TSGT', '19301104', 'KANSAS CITY', 'WYANDOTTE', '19671008', 'Y', 'KS']\n",
      "['BURNAM STEVEN WAYNE', 'ARMY', 'SP4', '19480414', 'WICHITA', 'SEDGWICK', '19681104', 'Y', 'KS']\n",
      "['BUSH EDWARD L', 'ARMY', 'WO1', '19430312', 'WICHITA', 'SEDGWICK', '19670320', 'Y', 'KS']\n",
      "['BUTTS DARRELL WAYNE', 'ARMY', 'PFC', '19480327', 'WICHITA', 'SEDGWICK', '19670622', 'Y', 'KS']\n",
      "['CALVIN STANLEY DEAN', 'ARMY', 'SP4', '19490404', 'EL DORADO', 'BUTLER', '19700221', 'Y', 'KS']\n",
      "['CAMDEN JOHNNIE ROGER', 'MARINE CORPS', 'PFC', '19500410', 'WICHITA', 'SEDGWICK', '19680714', 'Y', 'KS']\n",
      "['CANADY TROY VERNAL', 'ARMY', 'SP4', '19510102', 'KANSAS CITY', 'WYANDOTTE', '19700413', 'Y', 'KS']\n",
      "['CANFIELD BOYD', 'ARMY', 'CPL', '19480530', 'TOPEKA', 'SHAWNEE', '19680828', 'Y', 'KS']\n",
      "['CAREY BARTON  WAINWRIGHT', 'ARMY', 'PFC', '19460426', 'MANHATTAN', 'RILEY', '19680326', 'Y', 'KS']\n",
      "['CARLEY TIMOTHY LYNN', 'ARMY', 'SP4', '19490330', 'EMPORIA', 'LYON', '19690326', 'Y', 'KS']\n",
      "['CARTER OTIS', 'ARMY', 'PFC', '19500615', 'INDEPENDENCE', 'MONTGOMERY', '19700930', 'Y', 'KS']\n",
      "['CASE DANIEL CHARLES', 'NAVY', 'SN', '19450712', 'WICHITA', 'SEDGWICK', '19700411', 'Y', 'KS']\n",
      "['CASTOR JAMES WILLIAM', 'MARINE CORPS', 'CPL', '19480924', 'NATOMA', 'OSBORNE', '19690813', 'Y', 'KS']\n",
      "['CHADWICK BILLY  RAYMOND', 'ARMY', 'SP4', '19480903', 'MANHATTAN', 'RILEY', '19690617', 'Y', 'KS']\n",
      "['CHAPMAN KURTIS NOLAN', 'MARINE CORPS', 'LCPL', '19471202', 'OVERLAND ', 'PARK', 'JOHNSON', '19680509', 'KS']\n",
      "['Y CHRISTESON LEONARD ', 'WAYNE', 'ARMY', 'PFC', '19490227', 'DURHAM', 'MARION', '19680812', 'KS']\n",
      "['Y CHRISTIAN DAVID ', 'MARION', 'NAVY', 'LTJG', '19410115', 'LANE', 'FRANKLIN', '19650602', 'KS']\n",
      "['Y CLAFLIN RICHARD AMES', 'AIR FORCE', 'MAJ', '19390702', 'KANSAS CITY', 'WYANDOTTE', '19670726', 'N', 'KS']\n",
      "['CLARK LARRY RAY', 'ARMY', 'SP5', '19420518', 'WICHITA', 'SEDGWICK', '19690619', 'Y', 'KS']\n",
      "['CLARK RONNIE LEE', 'ARMY', 'CPL', '19480217', 'HUGOTON', 'STEVENS', '19680225', 'Y', 'KS']\n",
      "['CLARK TIMOTHY  RICHARD', 'ARMY', 'PFC', '19460325', 'KANSAS CITY', 'WYANDOTTE', '19670608', 'Y', 'KS']\n",
      "['COE KENNETH EUGENE', 'ARMY', 'SP4', '19451215', 'ANTHONY', 'HARPER', '19670702', 'Y', 'KS']\n",
      "['COLLINS GARY DEAN', 'NAVY', 'SN', '19480817', 'JAMESTOWN', 'CLOUD', '19680928', 'Y', 'KS']\n",
      "['COMER WILLIAM  MARVIN JR', 'NAVY', 'PO2', '19421210', 'LARNED', 'PAWNEE', '19680201', 'Y', 'KS']\n",
      "['CONRARDY RICHARD  JOHN', 'ARMY', 'PFC', '19510505', 'WRIGHT', 'FORD', '19700702', 'Y', 'KS']\n",
      "['CONROY RONALD LEE', 'ARMY', 'WO1', '19471103', 'TOPEKA', 'SHAWNEE', '19681003', 'Y', 'KS']\n",
      "['COOMBS DAN L F III', 'ARMY', '1LT', '19470401', 'OVERLAND ', 'PARK', 'JOHNSON', '19701219', 'KS']\n",
      "['Y COON KEITH DAVID ED ', 'WILL', 'MARINE CORPS', 'PFC', '19490316', 'TOPEKA', 'SHAWNEE', '19680216', 'KS']\n",
      "['Y COOPER CHARLES ', 'EDWARD', 'ARMY', 'SGT', '19380217', 'BELLE PLAINE', 'SUMNER', '19660415', 'KS']\n",
      "['Y COOPER JAMES ', 'RAYMOND', 'MARINE CORPS', 'PFC', '19470801', 'LAWRENCE', 'DOUGLAS', '19670510', 'KS']\n",
      "['Y COPELAND WILLIAM E II', 'MARINE CORPS', 'LCPL', '19461114', 'ESKRIDGE', 'WABAUNSEE', '19660325', 'Y', 'KS']\n",
      "['CORCORAN BRUCE  ANTHONY', 'ARMY', 'PFC', '19470611', 'OBERLIN', 'DECATUR', '19670319', 'Y', 'KS']\n",
      "['CORR CLIFFORD WAYNE', 'ARMY', 'SGT', '19491005', 'VIOLA', 'SEDGWICK', '19710328', 'Y', 'KS']\n",
      "['COSTELLO LAWRENCE R', 'ARMY', 'SGT', '19410312', 'KANSAS CITY', 'WYANDOTTE', '19661101', 'Y', 'KS']\n",
      "['COURTNEY JAMES IRA', 'ARMY', 'SSG', '19240310', 'KANSAS CITY', 'WYANDOTTE', '19660608', 'Y', 'KS']\n",
      "['COWAN SAMUEL PAIGE JR', 'ARMY', 'SP4', '19470912', 'KANSAS CITY', 'WYANDOTTE', '19680418', 'Y', 'KS']\n",
      "['COX GARY DEAN', 'MARINE CORPS', 'PFC', '19480501', 'KANSAS CITY', 'WYANDOTTE', '19681117', 'Y', 'KS']\n",
      "['CRAIG EDWARD LEE', 'ARMY', 'SP4', '19490120', 'LIBERAL', 'SEWARD', '19700201', 'Y', 'KS']\n",
      "['CRAIG JIMMY LEON', 'MARINE CORPS', 'LCPL', '19490403', 'MULVANE', 'MULTIPLE', '19670929', 'Y', 'KS']\n",
      "['CRAIG REX LEE', 'MARINE CORPS', 'CAPT', '19421010', 'KANSAS CITY', 'WYANDOTTE', '19670405', 'Y', 'KS']\n",
      "['CRAWSHAW STEEVE  ALEXANDER', 'ARMY', 'SSG', '19461229', 'WILLIAMSTOW', 'N', 'JEFFERSON', '19690506', 'KS']\n",
      "['Y CRIST KENNETH ROY', 'AIR FORCE', 'CAPT', '19440825', 'BREWSTER', 'THOMAS', '19681217', 'Y', 'KS']\n",
      "['CRUSE GEORGE LARRY', 'ARMY', 'PFC', '19471005', 'LIBERAL', 'SEWARD', '19680502', 'Y', 'KS']\n",
      "['CUNNINGHAM CARL  EDWIN', 'MARINE CORPS', 'PFC', '19441209', 'NEOSHO ', 'RAPIDS', 'LYON', '19690716', 'KS']\n",
      "['Y DANIELS JAMES MICHAEL', 'MARINE CORPS', 'LCPL', '19460328', 'WICHITA', 'SEDGWICK', '19670907', 'Y', 'KS']\n",
      "['DARTY OMER GENE', 'ARMY', 'PSG', '19280514', 'FT RILEY', 'MULTIPLE', '19651210', 'Y', 'KS']\n",
      "['DAVENPORT JOHN  JUNIOR', 'ARMY', 'SP4', '19400602', 'JUNCTION CITY', 'GEARY', '19650731', 'Y', 'KS']\n",
      "['DAVIS CHARLES EUGENE', 'MARINE CORPS', 'CPL', '19471022', 'WICHITA', 'SEDGWICK', '19680428', 'Y', 'KS']\n",
      "['DAVIS EMMETT RAY', 'MARINE CORPS', 'PFC', '19480419', 'KANSAS CITY', 'WYANDOTTE', '19661122', 'Y', 'KS']\n",
      "['DAVIS JAMES THOMAS', 'AIR FORCE', 'CAPT', '19370824', 'HUGOTON', 'STEVENS', '19670708', 'Y', 'KS']\n",
      "['DAVIS JOHN LAWRENCE', 'MARINE CORPS', 'LCPL', '19481128', 'PLEASANTON', 'LINN', '19680829', 'Y', 'KS']\n",
      "['DAVIS YALE REZIN JR', 'AIR FORCE', 'MAJ', '19331220', 'SALINA', 'SALINE', '19681119', 'Y', 'KS']\n",
      "['DECOW MELVIN DALE', 'MARINE CORPS', 'LCPL', '19431005', 'DENNIS', 'LABETTE', '19680525', 'Y', 'KS']\n",
      "['DELAUGHDER DAVID LEE', 'MARINE CORPS', 'PFC', '19490219', 'AUGUSTA', 'BUTLER', '19670420', 'Y', 'KS']\n",
      "['DENNIS WILLIAM R III', 'NAVY', 'SA', '19460707', 'LAWRENCE', 'DOUGLAS', '19670318', 'Y', 'KS']\n",
      "['DENTON DENNIS ALAN', 'MARINE CORPS', 'PFC', '19500131', 'HOLTON', 'JACKSON', '19690917', 'Y', 'KS']\n",
      "['DERRITT EDDIE RAY', 'MARINE CORPS', 'CPL', '19450720', 'LEAVENWORTH', 'LEAVENWORTH', '19660503', 'Y', 'KS']\n",
      "['DICKEY DERREL KEITH', 'ARMY', 'SGT', '19500211', 'ARCADIA', 'CRAWFORD', '19700723', 'Y', 'KS']\n",
      "['DICKEY GARY LYNN', 'MARINE CORPS', 'LCPL', '19431107', 'WICHITA', 'SEDGWICK', '19650723', 'Y', 'KS']\n",
      "['DICKINSON DANIEL  ALBERT', 'ARMY', 'SP4', '19440811', 'WICHITA', 'SEDGWICK', '19651206', 'Y', 'KS']\n",
      "['DIEDERICH JOHN LEO', 'ARMY', 'SGT', '19480129', 'JENNINGS', 'DECATUR', '19680823', 'Y', 'KS']\n",
      "['DILLON DONALD EUGENE', 'MARINE CORPS', 'SSGT', '19340812', 'LAWRENCE', 'DOUGLAS', '19670706', 'Y', 'KS']\n",
      "['DILORENZO RAYMOND  JOHN', 'ARMY', '1LT', '19440727', 'EDNA', 'LABETTE', '19700207', 'Y', 'KS']\n",
      "['DIMITT ROBERT VICTOR', 'ARMY', 'SP4', '19470827', 'JOHNSON', 'STANTON', '19681024', 'Y', 'KS']\n",
      "['DODGE WARD KENT', 'AIR FORCE', 'COL', '19290314', 'DIGHTON', 'LANE', '19670705', 'Y', 'KS']\n",
      "['DODSON ERNEST DEAN', 'ARMY', 'SP4', '19460716', 'WICHITA', 'SEDGWICK', '19690103', 'Y', 'KS']\n",
      "['DONOVAN MICHAEL LEO', 'AIR FORCE', 'CAPT', '19441109', 'NORTON', 'NORTON', '19710930', 'N', 'KS']\n",
      "['DOORNBOS DON  MICHAEL', 'MARINE CORPS', 'CPL', '19460218', 'WICHITA', 'SEDGWICK', '19680214', 'Y', 'KS']\n",
      "['DORNON CHARLES  WILLIAM', 'ARMY', 'SP4', '19460826', 'WICHITA', 'SEDGWICK', '19690618', 'Y', 'KS']\n",
      "['DORSEY LEWIS R G', 'ARMY', 'PFC', '19471109', 'EMPORIA', 'LYON', '19680312', 'Y', 'KS']\n",
      "['DOTTER EDWIN EARL', 'ARMY', 'SGT', '19421029', 'WICHITA', 'SEDGWICK', '19690530', 'Y', 'KS']\n",
      "['DROUHARD PETER  AUGUST', 'ARMY', 'SP4', '19480115', 'WICHITA', 'SEDGWICK', '19690714', 'Y', 'KS']\n",
      "['DUDLEY GARY WILLIAM', 'MARINE CORPS', 'PFC', '19500524', 'TOPEKA', 'SHAWNEE', '19690114', 'Y', 'KS']\n",
      "['DUKELOW CORNELIOUS  P II', 'ARMY', 'PFC', '19460510', 'KANSAS CITY', 'WYANDOTTE', '19690122', 'Y', 'KS']\n",
      "['ECKELL JOHN W', 'ARMY', 'SP4', '19450325', 'ISABEL', 'BARBER', '19680505', 'Y', 'KS']\n",
      "['ECKHART RUSS EUGENE', 'MARINE CORPS', 'LCPL', '19470108', 'NORCATUR', 'DECATUR', '19670529', 'Y', 'KS']\n",
      "['EISENHOUR JAMES  DOYLE', 'ARMY', 'WO1', '19451010', 'LA CROSSE', 'RUSH', '19680818', 'Y', 'KS']\n",
      "['EITEL JACK ORVAL', 'MARINE CORPS', '1STLT', '19410727', 'SCOTT CITY', 'SCOTT', '19650708', 'Y', 'KS']\n",
      "['ELDRIDGE JAMES WILBUR', 'ARMY', 'PFC', '19461202', 'NICKERSON', 'RENO', '19670519', 'Y', 'KS']\n",
      "['ELGAARD ROBERT JAMES', 'MARINE CORPS', 'CAPT', '19350529', 'WICHITA', 'SEDGWICK', '19670205', 'Y', 'KS']\n",
      "['ELLIOTT ROBERT JOE', 'ARMY', 'CW2', '19500125', 'WELLINGTON', 'SUMNER', '19710908', 'Y', 'KS']\n",
      "['ELSENRATH JOHN JOE', 'ARMY', 'SGT', '19431207', 'WICHITA', 'SEDGWICK', '19690329', 'Y', 'KS']\n",
      "['EMBREY RALPH CURTIS II', 'ARMY', 'CW2', '19461019', 'VIRGIL', 'GREENWOOD', '19700413', 'Y', 'KS']\n",
      "['EMERY JOE LOUIS', 'ARMY', 'PFC', '19490607', 'LEAVENWORTH', 'LEAVENWORTH', '19681227', 'Y', 'KS']\n",
      "['ENLOW PHILIP JAMES', 'ARMY', 'SP5', '19500228', 'MANHATTAN', 'RILEY', '19691101', 'Y', 'KS']\n",
      "['EVANS DONALD ALLEN', 'ARMY', 'CPT', '19341020', 'AUGUSTA', 'BUTLER', '19680130', 'Y', 'KS']\n",
      "['EVANS GERALD BRUCE', 'ARMY', 'SGT', '19300927', 'JUNCTION CITY', 'GEARY', '19651117', 'Y', 'KS']\n",
      "['EVANS JAMES JOSEPH', 'NAVY', 'CDR', '19300509', 'VALLEY FALLS', 'JEFFERSON', '19650402', 'Y', 'KS']\n",
      "['EVERHART WILLIAM  JOSEPH', 'ARMY', 'SFC', '19310724', 'CANTON', 'MCPHERSON', '19631108', 'Y', 'KS']\n",
      "['FEARNO JOSEPH  BARNETT', 'AIR FORCE', 'MAJ', '19320717', 'COOLIDGE', 'HAMILTON', '19660321', 'Y', 'KS']\n",
      "['FEW SAMUEL ARTHUR', 'ARMY', '1LT', '19440818', 'KANSAS CITY', 'WYANDOTTE', '19680820', 'Y', 'KS']\n",
      "['FIFFE RICHARD LEE', 'ARMY', 'CPL', '19490419', 'CONCORDIA', 'CLOUD', '19690320', 'Y', 'KS']\n",
      "['FINCH JOHN WEBSTER', 'ARMY', 'SP4', '19450911', 'ARKANSAS ', 'CITY', 'COWLEY', '19650630', 'KS']\n",
      "['Y FISHER HENRY LEE', 'ARMY', 'PFC', '19470531', 'HAVEN', 'RENO', '19670618', 'Y', 'KS']\n",
      "['FONSECA MICHAEL  JEROME', 'MARINE CORPS', 'PFC', '19470608', 'GARDNER', 'JOHNSON', '19671027', 'Y', 'KS']\n",
      "['FORD JOSEPH AVERLL III', 'MARINE CORPS', 'LCPL', '19430831', 'PARSONS', 'LABETTE', '19650824', 'Y', 'KS']\n",
      "['FORREST MONTE WAYNE', 'ARMY', 'CPL', '19481106', 'ARGONIA', 'SUMNER', '19700805', 'Y', 'KS']\n",
      "['FOUNDS GERALD DEAN', 'ARMY', 'SP5', '19290325', 'FRANKFORT', 'MARSHALL', '19650207', 'Y', 'KS']\n",
      "['FOWLER JAMES ISIAH JR', 'ARMY', 'SGT', '19391027', 'WHITE CITY', 'MORRIS', '19680804', 'Y', 'KS']\n",
      "['FRY ROLLAND KEITH', 'ARMY', 'SP4', '19490225', 'HUTCHINSON', 'RENO', '19690502', 'Y', 'KS']\n",
      "['FUQUA HARRY IVAN JR', 'ARMY', 'PFC', '19470701', 'LEAVENWORTH', 'LEAVENWORTH', '19680229', 'Y', 'KS']\n",
      "['GADSON EDDIE DEAN', 'MARINE CORPS', 'PFC', '19490309', 'SALINA', 'SALINE', '19680508', 'Y', 'KS']\n",
      "['GANDY MICHAEL LEE', 'ARMY', '2LT', '19451015', 'DEXTER', 'COWLEY', '19680329', 'Y', 'KS']\n",
      "['GARDNER SAMUEL RAY', 'ARMY', '1LT', '19430507', 'WICHITA', 'SEDGWICK', '19680505', 'Y', 'KS']\n",
      "['GARRETT JAMES  MICHAEL', 'NAVY', 'PO3', '19470816', 'TOPEKA', 'SHAWNEE', '19691129', 'Y', 'KS']\n",
      "['GENTRY HENRY JR', 'ARMY', 'PFC', '19390930', 'WICHITA', 'SEDGWICK', '19651205', 'Y', 'KS']\n",
      "['GERBER MICHAEL  EUGENE', 'ARMY', 'SP4', '19480916', 'CONWAY ', 'SPRINGS', 'SUMNER', '19690527', 'KS']\n",
      "['Y GFELLER JOHN HERBERT', 'ARMY', 'PSG', '19330214', 'ABILENE', 'DICKINSON', '19680219', 'Y', 'KS']\n",
      "['GIBSON DAVID PARKER', 'ARMY', 'CPT', '19390220', 'LAWRENCE', 'DOUGLAS', '19670408', 'Y', 'KS']\n",
      "['GILLASPIE PAUL THOMAS', 'ARMY', 'SGT', '19500501', 'TOPEKA', 'SHAWNEE', '19701127', 'Y', 'KS']\n",
      "['GILLEN THOMAS ELDON', 'AIR FORCE', 'COL', '19330508', 'KINGMAN', 'KINGMAN', '19700218', 'N', 'KS']\n",
      "['GIRDNER ROBERT ORAL', 'ARMY', 'PFC', '19460416', 'SHAWNEE ', 'MISSION', 'JOHNSON', '19680404', 'KS']\n",
      "['Y GLADDEN JAMES ', 'TAYLOR JR', 'NAVY', 'PO2', '19400606', 'WATHENA', 'DONIPHAN', '19700612', 'KS']\n",
      "['Y GLAZE KENNETH LEE', 'MARINE CORPS', 'SSGT', '19330131', 'HUTCHINSON', 'RENO', '19660823', 'Y', 'KS']\n",
      "['GLYNN DENNIS WAYNE', 'MARINE CORPS', 'PFC', '19490820', 'SHAWNEE ', 'MISSION', 'JOHNSON', '19680912', 'KS']\n",
      "['Y GODSEY JAMES ', 'FREDERICK', 'ARMY', '1LT', '19420815', 'HUMBOLDT', 'ALLEN', '19670824', 'KS']\n",
      "['Y GOOCH WESLEY LEE', 'ARMY', 'PFC', '19470428', 'LEAVENWORTH', 'LEAVENWORTH', '19680112', 'Y', 'KS']\n",
      "['GOODE JACK DEE', 'ARMY', 'SP4', '19470217', 'TOPEKA', 'SHAWNEE', '19680421', 'Y', 'KS']\n",
      "['GOODNER ROBERT  EUGENE', 'ARMY', 'PFC', '19491208', 'IOLA', 'ALLEN', '19690521', 'Y', 'KS']\n",
      "['GOODWIN BOB JACK', 'ARMY', 'CPL', '19480116', 'WICHITA', 'SEDGWICK', '19670903', 'Y', 'KS']\n",
      "['GORDON JOHN SWAIN', 'ARMY', 'SP4', '19470606', 'NORTH ', 'WICHITA', 'SEDGWICK', '19671115', 'KS']\n",
      "['Y GORMAN EDWARD ', 'THEODORE III', 'MARINE CORPS', 'CPL', '19460902', 'MANHATTAN', 'RILEY', '19680516', 'KS']\n",
      "['Y GOSSELIN PHILIP LYN', 'MARINE CORPS', 'CPL', '19490622', 'TOPEKA', 'SHAWNEE', '19680728', 'Y', 'KS']\n",
      "['GOUDY RICHARD LEE', 'AIR FORCE', 'CAPT', '19380314', 'SHARON ', 'SPRINGS', 'WALLACE', '19650809', 'KS']\n",
      "['Y GRABER JOHN ALLEN JR', 'MARINE CORPS', 'PFC', '19480620', 'WICHITA', 'SEDGWICK', '19670316', 'Y', 'KS']\n",
      "['GRACE MARTIN JOSEPH  JR', 'MARINE CORPS', 'PFC', '19480314', 'TOPEKA', 'SHAWNEE', '19680526', 'Y', 'KS']\n",
      "['GRAHAM DENNIS LEE', 'AIR FORCE', 'CAPT', '19410511', 'GREENSBURG', 'KIOWA', '19680328', 'N', 'KS']\n",
      "['GREATHOUSE ROBERT  CHARLES', 'ARMY', 'PFC', '19490916', 'HUTCHINSON', 'RENO', '19691012', 'Y', 'KS']\n",
      "['GREEN DENNIS BLAINE', 'NAVY', 'SA', '19490113', 'HUTCHINSON', 'RENO', '19690119', 'Y', 'KS']\n",
      "['GREEN LUTHER JR', 'ARMY', 'PFC', '19460917', 'PARSONS', 'LABETTE', '19701212', 'Y', 'KS']\n",
      "['GREER CHARLES ROBERT', 'ARMY', 'PFC', '19451023', 'THAYER', 'NEOSHO', '19670321', 'Y', 'KS']\n",
      "['GRETENCORD DEAN LEE', 'ARMY', 'PFC', '19410811', 'RICHMOND', 'FRANKLIN', '19670926', 'Y', 'KS']\n",
      "['GRIFFIN KEITH D', 'ARMY', 'SGT', '19360927', 'HUTCHINSON', 'RENO', '19670316', 'Y', 'KS']\n",
      "['GRIFFIN PATRICK JOSEPH', 'NAVY', 'PO3', '19461025', 'TOPEKA', 'SHAWNEE', '19680818', 'Y', 'KS']\n",
      "['GROTHAUS ROBERT  JOHN II', 'ARMY', 'PFC', '19470323', 'PRAIRIE ', 'VILLAGE', 'JOHNSON', '19680514', 'KS']\n",
      "['Y GUILLEN JOHN DAVID', 'ARMY', 'CPL', '19480823', 'WICHITA', 'SEDGWICK', '19700202', 'Y', 'KS']\n",
      "['GURTLER CHARLES  RONALD', 'MARINE CORPS', 'LCPL', '19451213', 'WICHITA', 'SEDGWICK', '19660421', 'Y', 'KS']\n",
      "['GUYER ALBERT  MARSHALL', 'ARMY', '1LT', '19420824', 'KANSAS CITY', 'WYANDOTTE', '19670408', 'Y', 'KS']\n",
      "['HADLEY LEO LARRY', 'ARMY', '1LT', '19431009', 'MANHATTAN', 'RILEY', '19680814', 'Y', 'KS']\n",
      "['HAGEMAN JOEL THOMAS', 'ARMY', 'CPT', '19461021', 'WICHITA', 'SEDGWICK', '19710312', 'Y', 'KS']\n",
      "['HALBOWER HARLOW  KENNETH', 'AIR FORCE', 'CAPT', '19361224', 'ANTHONY', 'HARPER', '19660102', 'Y', 'KS']\n",
      "['HALE VICTOR', 'MARINE CORPS', 'LCPL', '19421027', 'TOPEKA', 'SHAWNEE', '19681208', 'Y', 'KS']\n",
      "['HANDSHUMAKER LLOYD  E JR', 'ARMY', 'PFC', '19471013', 'COFFEYVILLE', 'MONTGOMERY', '19690517', 'Y', 'KS']\n",
      "['HARBOUR DEXTER  DUANE', 'ARMY', 'SP4', '19500827', 'ULYSSES', 'GRANT', '19700220', 'Y', 'KS']\n",
      "['HARRIS JOHN JAMES', 'MARINE CORPS', 'CPL', '19480703', 'IOLA', 'ALLEN', '19680317', 'Y', 'KS']\n",
      "['HARRIS ROBERT LEE', 'ARMY', 'SFC', '19271007', 'JUNCTION CITY', 'GEARY', '19690904', 'Y', 'KS']\n",
      "['HARRISON JIMMY KEN', 'ARMY', 'SP5', '19481231', 'WICHITA', 'SEDGWICK', '19691101', 'Y', 'KS']\n",
      "['HARROLD PATRICK  KENDAL', 'AIR FORCE', 'CAPT', '19441217', 'FT ', 'LEAVENWORTH', 'LEAVENWORTH', '19691205', 'KS']\n",
      "['Y HARVEY LARRY WAYNE', 'ARMY', 'SSG', '19430629', 'INDEPENDENCE', 'MONTGOMERY', '19720321', 'Y', 'KS']\n",
      "['HASSETT JAMES PETER', 'ARMY', 'SSG', '19490503', 'SHAWNEE', 'JOHNSON', '19700605', 'Y', 'KS']\n",
      "['HAUG RONALD LEE', 'ARMY', 'SSG', '19481021', 'WICHITA', 'SEDGWICK', '19700213', 'Y', 'KS']\n",
      "['HAWTHORNE WILLIAM  ALLEN', 'ARMY', 'PFC', '19470116', 'EUREKA', 'GREENWOOD', '19671120', 'Y', 'KS']\n",
      "['HAYES GEORGE E', 'ARMY', 'SGT', '19410328', 'WILLIAMSTOW', 'N', 'JEFFERSON', '19660214', 'KS']\n",
      "['Y HAYS CLIFTON WALTER', 'ARMY', 'SP5', '19200808', 'WALDO', 'RUSSELL', '19651110', 'Y', 'KS']\n",
      "['HAYWOOD JAZREAL  LEVITE', 'ARMY', 'PSG', '19330510', 'JUNCTION CITY', 'GEARY', '19680305', 'Y', 'KS']\n",
      "['HAZELWOOD JOHN  EDWARD', 'MARINE CORPS', 'CPL', '19440209', 'GYPSUM', 'SALINE', '19680528', 'Y', 'KS']\n",
      "['HEAD DAVID NEIL', 'ARMY', 'CPT', '19450111', 'ARKANSAS ', 'CITY', 'COWLEY', '19710220', 'KS']\n",
      "['Y HEFFNER STEVEN ', 'CLINTON', 'ARMY', 'SP4', '19490823', 'WINFIELD', 'COWLEY', '19680426', 'KS']\n",
      "['Y HEMMINGWAY CHARLES ', 'LYNN', 'ARMY', '1LT', '19430225', 'DODGE CITY', 'FORD', '19670613', 'KS']\n",
      "['Y HENDRICKSON GARY ', 'ARLAND', 'MARINE CORPS', 'PFC', '19470804', 'OTTAWA', 'FRANKLIN', '19670301', 'KS']\n",
      "['Y HENDRICKSON GAYLORD ', 'BLAIN', 'ARMY', 'PSG', '19320617', 'MISSION', 'JOHNSON', '19680605', 'KS']\n",
      "['Y HENDRIX JERRY WAYNE', 'MARINE CORPS', 'SSGT', '19421227', 'WICHITA', 'SEDGWICK', '19720711', 'Y', 'KS']\n",
      "['HERRIMAN RONNIE LEE', 'ARMY', 'SP4', '19420118', 'MARQUETTE', 'MCPHERSON', '19690725', 'Y', 'KS']\n",
      "['HESKETT JAMES EARL', 'ARMY', 'SP4', '19440209', 'HAYS', 'ELLIS', '19680107', 'Y', 'KS']\n",
      "['HESS KERRY EUGENE', 'ARMY', '1LT', '19450607', 'TOPEKA', 'SHAWNEE', '19690605', 'Y', 'KS']\n",
      "['HEWITT THOMAS  THEODORE', 'ARMY', 'CPT', '19450421', 'TOPEKA', 'SHAWNEE', '19700702', 'Y', 'KS']\n",
      "['HIEBERT JOHN MICHAEL', 'ARMY', 'WO1', '19480124', 'HESSTON', 'HARVEY', '19711202', 'Y', 'KS']\n",
      "['HIGLEY LYNNFORD  HARLOW', 'ARMY', '1LT', '19460522', 'LAWRENCE', 'DOUGLAS', '19690109', 'Y', 'KS']\n",
      "['HILMES STEVEN LEE', 'ARMY', 'PFC', '19480331', 'RANSOM', 'NESS', '19680902', 'Y', 'KS']\n",
      "['HINES PHILIP BLAINE', 'MARINE CORPS', '1STLT', '19420618', 'GALENA', 'CHEROKEE', '19660706', 'Y', 'KS']\n",
      "['HINES PHILLIP MASON', 'NAVY', 'PO3', '19450921', 'DODGE CITY', 'FORD', '19670519', 'Y', 'KS']\n",
      "['HINTON RODNEY GENE', 'NAVY', 'HN', '19481210', 'TOPEKA', 'SHAWNEE', '19680207', 'Y', 'KS']\n",
      "['HLADIK HAROLD  HERBERT', 'ARMY', 'SP4', '19471014', 'WICHITA', 'SEDGWICK', '19690217', 'Y', 'KS']\n",
      "['HOEME FORREST DEAN', 'ARMY', 'PFC', '19440923', 'PRESTON', 'PRATT', '19670311', 'Y', 'KS']\n",
      "['HOFFMAN WILLIAM  DAVID', 'MARINE CORPS', 'PFC', '19490907', 'RUSSELL', 'RUSSELL', '19680406', 'Y', 'KS']\n",
      "['HOLCOMB REBEL LEE', 'ARMY', 'SGT', '19270809', 'WICHITA', 'SEDGWICK', '19651108', 'Y', 'KS']\n",
      "['HOLMES JACK EUGENE', 'ARMY', 'SP5', '19510518', 'ABILENE', 'DICKINSON', '19691227', 'Y', 'KS']\n",
      "['HOLROYD JAMES  LAWRENCE', 'ARMY', 'PFC', '19480811', 'ROELAND PARK', 'JOHNSON', '19670409', 'Y', 'KS']\n",
      "['HOLT ALLEN LEE', 'ARMY', 'CW2', '19320410', 'TOPEKA', 'SHAWNEE', '19650705', 'Y', 'KS']\n",
      "['HOLTOM MARK RICHARD', 'ARMY', 'WO1', '19490326', 'BALDWIN CITY', 'DOUGLAS', '19700926', 'Y', 'KS']\n",
      "['HONEYCUTT BLAINE  LEROY', 'ARMY', 'SFC', '19300207', 'ARKANSAS ', 'CITY', 'COWLEY', '19690309', 'KS']\n",
      "['Y HORINEK DONALD ', 'EDWARD', 'ARMY', 'SGT', '19461110', 'WICHITA', 'SEDGWICK', '19680823', 'KS']\n",
      "['Y HOSKINS CHARLES LEE', 'AIR FORCE', 'CAPT', '19440805', 'SHAWNEE ', 'MISSION', 'JOHNSON', '19710216', 'KS']\n",
      "['N HOUSEHOLTER TERRY ', 'AUGUST', 'MARINE CORPS', 'LCPL', '19480917', 'CONCORDIA', 'CLOUD', '19690623', 'KS']\n",
      "['Y HOWARD CHARLES ', 'EMORY', 'NAVY', 'PO3', '19421111', 'ERIE', 'NEOSHO', '19680701', 'KS']\n",
      "['Y HOWARD STEVEN DALE', 'ARMY', 'CPT', '19410323', 'EL DORADO', 'BUTLER', '19721031', 'Y', 'KS']\n",
      "['HUBERT MICHAEL NEIL', 'ARMY', 'SSG', '19421108', 'EMPORIA', 'LYON', '19690224', 'Y', 'KS']\n",
      "['HUMPHREY JAMES  GILBERT', 'ARMY', 'SGT', '19470329', 'SHAWNEE ', 'MISSION', 'JOHNSON', '19681111', 'KS']\n",
      "['Y HURST QUENTIN FOXX', 'ARMY', '1LT', '19441116', 'VALLEY FALLS', 'JEFFERSON', '19680927', 'Y', 'KS']\n",
      "['HUTTIE FREDERICK E III', 'ARMY', 'SSG', '19451116', 'PRAIRIE ', 'VILLAGE', 'JOHNSON', '19700815', 'KS']\n",
      "['Y HUTTON EARL DEWITT', 'ARMY', 'PFC', '19460710', 'LA HARPE', 'ALLEN', '19661105', 'Y', 'KS']\n",
      "['INGRUM JOSEPH HENRY', 'NAVY', 'PO2', '19461212', 'ABILENE', 'DICKINSON', '19680512', 'Y', 'KS']\n",
      "['ISHMAN HUEY LEE', 'MARINE CORPS', 'PVT', '19481016', 'TOPEKA', 'SHAWNEE', '19691119', 'Y', 'KS']\n",
      "['JACKSON GARY RAY', 'ARMY', 'SP4', '19510731', 'SHAWNEE', 'JOHNSON', '19690908', 'Y', 'KS']\n",
      "['JAMESON RODGER LEE', 'ARMY', 'PFC', '19500616', 'SALINA', 'SALINE', '19690827', 'Y', 'KS']\n",
      "['JANKE THEODORE JR', 'MARINE CORPS', 'SGT', '19461005', 'SALINA', 'SALINE', '19680519', 'Y', 'KS']\n",
      "['JANTZ ROBERT WAYNE', 'ARMY', 'WO1', '19470624', 'SYRACUSE', 'HAMILTON', '19690102', 'Y', 'KS']\n",
      "['JARVIS RONALD ALAN', 'ARMY', 'PFC', '19481107', 'NESS CITY', 'NESS', '19681220', 'Y', 'KS']\n",
      "['JENKINS ROBERT EARL', 'ARMY', 'SGT', '19470803', 'WICHITA', 'SEDGWICK', '19680519', 'Y', 'KS']\n",
      "['JEWELL EUGENE  MILLARD', 'AIR FORCE', 'CAPT', '19410115', 'TOPEKA', 'SHAWNEE', '19650904', 'N', 'KS']\n",
      "['JIM MARTIN JR', 'ARMY', 'PFC', '19510508', 'MAYETTA', 'JACKSON', '19710116', 'Y', 'KS']\n",
      "['JIMENEZ EDUARDO', 'ARMY', 'PFC', '19490304', 'HUMBOLDT', 'ALLEN', '19680308', 'Y', 'KS']\n",
      "['JOHNSON CHARLES  FRANKLIN', 'ARMY', 'SP4', '19400709', 'HUTCHINSON', 'RENO', '19670503', 'Y', 'KS']\n",
      "['JOHNSON FREDERICK  PETER JR', 'ARMY', 'SGT', '19440625', 'WICHITA', 'SEDGWICK', '19690530', 'Y', 'KS']\n",
      "['JOHNSON GARY DALE', 'ARMY', 'PFC', '19471106', 'BALDWIN CITY', 'DOUGLAS', '19680216', 'Y', 'KS']\n",
      "['JOHNSON JIMMIE LE ROY', 'MARINE CORPS', 'LCPL', '19480814', 'OTTAWA', 'FRANKLIN', '19671006', 'Y', 'KS']\n",
      "['JOHNSON KENNETH  DUANE', 'ARMY', 'CPL', '19490619', 'EL DORADO', 'BUTLER', '19690823', 'Y', 'KS']\n",
      "['JOHNSON PHIL DAVID', 'ARMY', '1LT', '19421017', 'STERLING', 'RICE', '19690225', 'Y', 'KS']\n",
      "['JOHNSON ROBERT FRED  JR', 'ARMY', 'PFC', '19440522', 'KANSAS CITY', 'WYANDOTTE', '19680203', 'Y', 'KS']\n",
      "['JONES MERLE ELDON', 'ARMY', '2LT', '19420523', 'LINCOLN', 'LINCOLN', '19660327', 'Y', 'KS']\n",
      "['JONES RICHARD LEE', 'ARMY', 'CPL', '19461201', 'WICHITA', 'SEDGWICK', '19680927', 'Y', 'KS']\n",
      "['JORDAN FRANCIS  EUGENE', 'ARMY', 'PFC', '19470804', 'RUSSELL ', 'SPRINGS', 'LOGAN', '19680514', 'KS']\n",
      "['Y JUSTICE WALTER ', 'EUGENE SR', 'ARMY', 'SFC', '19340307', 'KANSAS CITY', 'WYANDOTTE', '19690419', 'KS']\n",
      "['Y KAEBERLE DANA JAMES', 'ARMY', 'CPL', '19470711', 'OSAGE CITY', 'OSAGE', '19690108', 'Y', 'KS']\n",
      "['KARLIN DONALD DEAN', 'MARINE CORPS', 'CPL', '19400831', 'WICHITA', 'SEDGWICK', '19651218', 'Y', 'KS']\n",
      "['KARST CARL FREDERICK', 'AIR FORCE', 'COL', '19301027', 'GALATIA', 'BARTON', '19681116', 'Y', 'KS']\n",
      "['KECK WARREN EDWARD', 'ARMY', 'SP5', '19460905', 'KANSAS CITY', 'WYANDOTTE', '19670310', 'Y', 'KS']\n",
      "['KENAGA GARY LYLE', 'ARMY', 'PFC', '19471022', 'WICHITA', 'SEDGWICK', '19670621', 'Y', 'KS']\n",
      "['KIER CHARLES RICHARD', 'ARMY', 'PFC', '19460711', 'MOUND ', 'VALLEY', 'LABETTE', '19651227', 'KS']\n",
      "['Y KIMMEL ROBERT GENE', 'ARMY', 'LTC', '19280817', 'TOPEKA', 'SHAWNEE', '19671114', 'Y', 'KS']\n",
      "['KINNAMON SAMMY  EDWARD', 'ARMY', 'SP4', '19471208', 'INDEPENDENCE', 'MONTGOMERY', '19690226', 'Y', 'KS']\n",
      "['KIRKENDOLL CLEE  ANDREW', 'ARMY', 'PFC', '19470503', 'KANSAS CITY', 'WYANDOTTE', '19680905', 'Y', 'KS']\n",
      "['KIRKENDOLL JERRY  WAYNE', 'ARMY', 'WO1', '19471107', 'OVERLAND ', 'PARK', 'JOHNSON', '19710315', 'KS']\n",
      "['Y KITCHEN DAVID LEE', 'MARINE CORPS', 'LCPL', '19490707', 'WAMEGO', 'POTTAWATOMI', 'E', '19690425', 'KS']\n",
      "['Y KLAUS ARTHUR LEE', 'ARMY', 'CPL', '19480907', 'HAYS', 'ELLIS', '19690208', 'Y', 'KS']\n",
      "['KLENDA DEAN ALBERT', 'AIR FORCE', 'MAJ', '19400820', 'MANHATTAN', 'RILEY', '19650917', 'N', 'KS']\n",
      "['KNOWLES KENNETH  JOSEPH', 'ARMY', 'SP4', '19470731', 'ATCHISON', 'ATCHISON', '19680521', 'Y', 'KS']\n",
      "['KRAMER KEVIN CLINTON', 'ARMY', 'CPL', '19500118', 'WICHITA', 'SEDGWICK', '19710310', 'Y', 'KS']\n",
      "['KREHBIEL KENNETH  DILLARD', 'AIR FORCE', 'CAPT', '19390120', 'MCPHERSON', 'MCPHERSON', '19671019', 'Y', 'KS']\n",
      "['KRIG DAVID LEE', 'NAVY', 'HN', '19470824', 'LINDSBORG', 'MCPHERSON', '19670515', 'Y', 'KS']\n",
      "['LACEY FRANKLIN D', 'MARINE CORPS', 'PFC', '19490130', 'MERIDEN', 'JEFFERSON', '19680328', 'Y', 'KS']\n",
      "['LACKEY JACK VERNON JR', 'MARINE CORPS', 'LCPL', '19491126', 'IUKA', 'PRATT', '19690710', 'Y', 'KS']\n",
      "['LAFRANCE JON PATRICK', 'ARMY', 'PFC', '19440927', 'OVERLAND ', 'PARK', 'JOHNSON', '19681229', 'KS']\n",
      "['Y LAKE LLOYD DEAN', 'MARINE CORPS', 'PFC', '19451004', 'SALINA', 'SALINE', '19660115', 'Y', 'KS']\n",
      "['LAKIN ROGER ALAN', 'MARINE CORPS', '1STLT', '19440727', 'DERBY', 'SEDGWICK', '19700325', 'Y', 'KS']\n",
      "['LAMON ROY ALLEN', 'ARMY', 'SGT', '19461126', 'LIBERAL', 'SEWARD', '19680426', 'Y', 'KS']\n",
      "['LAND DAVID ALDEN', 'NAVY', 'SN', '19490405', 'WICHITA', 'SEDGWICK', '19690114', 'Y', 'KS']\n",
      "['LAPLANT KURT ELTON', 'MARINE CORPS', 'LCPL', '19481211', 'LENEXA', 'JOHNSON', '19680606', 'N', 'KS']\n",
      "['LARRABEE FLOYD  MICHAEL', 'MARINE CORPS', 'LCPL', '19470205', 'OLATHE', 'JOHNSON', '19670326', 'Y', 'KS']\n",
      "['LARSON LOREN HENRY', 'ARMY', 'PFC', '19480303', 'LEONARDVILLE', 'RILEY', '19690620', 'Y', 'KS']\n",
      "['LASKOWSKI ANTHONY  JAMES', 'ARMY', 'PFC', '19460104', 'KANSAS CITY', 'WYANDOTTE', '19681026', 'Y', 'KS']\n",
      "['LEBOMBARB LONNIE GUY', 'ARMY', 'SGT', '19461030', 'LAWRENCE', 'DOUGLAS', '19680209', 'Y', 'KS']\n",
      "['LEFTWICH RAYMOND  FRANCIS', 'AIR FORCE', 'TSGT', '19250920', 'FT SCOTT', 'BOURBON', '19670309', 'Y', 'KS']\n",
      "['LEHNHOFF EDWARD  WILLIAM JR', 'AIR FORCE', 'LTCOL', '19360314', 'FT SCOTT', 'BOURBON', '19671118', 'Y', 'KS']\n",
      "['LEIKAM NORMAN  ALEXIUS', 'ARMY', 'MAJ', '19320602', 'HAYS', 'ELLIS', '19651023', 'Y', 'KS']\n",
      "['LEMLEY BILLY JOE', 'ARMY', 'SP4', '19340327', 'WICHITA', 'SEDGWICK', '19691026', 'Y', 'KS']\n",
      "['LEWALLEN JACKIE LEE', 'ARMY', 'PFC', '19491206', 'KANSAS CITY', 'WYANDOTTE', '19700222', 'Y', 'KS']\n",
      "['LEWIS CLARENCE PAUL', 'AIR FORCE', '1STLT', '19470125', 'LOUISBURG', 'MIAMI', '19720521', 'Y', 'KS']\n",
      "['LEWIS DONALD ALLEN', 'MARINE CORPS', 'SGT', '19420406', 'EUREKA', 'GREENWOOD', '19660826', 'Y', 'KS']\n",
      "['LEWIS JESSIE ROY', 'MARINE CORPS', 'PFC', '19501212', 'WICHITA', 'SEDGWICK', '19690716', 'Y', 'KS']\n",
      "['LINDAHL JOHN CARL', 'NAVY', 'LT', '19410328', 'LINDSBORG', 'MCPHERSON', '19730106', 'N', 'KS']\n",
      "['LINDHOLM DAN VICTOR', 'ARMY', 'SP4', '19480524', 'LINDSBORG', 'MCPHERSON', '19680908', 'Y', 'KS']\n",
      "['LINDQUIST WILLIAM  FRANCIS', 'ARMY', 'SP4', '19460520', 'KANSAS CITY', 'WYANDOTTE', '19690623', 'Y', 'KS']\n",
      "['LITTLE GARY DEAN', 'ARMY', 'SP5', '19441025', 'LEAVENWORTH', 'LEAVENWORTH', '19670708', 'Y', 'KS']\n",
      "['LLAMAS JOSE', 'ARMY', 'CPT', '19261108', 'NEWTON', 'HARVEY', '19690819', 'Y', 'KS']\n",
      "['LONG ELDON DALE', 'ARMY', 'PFC', '19440906', 'LIBERAL', 'SEWARD', '19660310', 'Y', 'KS']\n",
      "['LONG GEORGE WENDELL', 'AIR FORCE', 'A1C', '19480930', 'MEDICINE ', 'LODGE', 'BARBER', '19680512', 'KS']\n",
      "['Y LONG JEROME ALBERT', 'MARINE CORPS', 'PFC', '19470327', 'BELOIT', 'MITCHELL', '19681204', 'Y', 'KS']\n",
      "['LONG MELVIN RAY', 'MARINE CORPS', 'PFC', '19460308', 'TOPEKA', 'SHAWNEE', '19680913', 'Y', 'KS']\n",
      "['LOVE DARRELL STEVE', 'ARMY', 'CPL', '19440916', 'CLEARWATER', 'SEDGWICK', '19681102', 'Y', 'KS']\n",
      "['LOVE JOHN ARTHUR', 'ARMY', 'SGT', '19480903', 'LIBERAL', 'SEWARD', '19690513', 'Y', 'KS']\n",
      "['LOYD LONNY LEE', 'MARINE CORPS', 'PFC', '19491031', 'KANSAS CITY', 'WYANDOTTE', '19681124', 'Y', 'KS']\n",
      "['LUKERT EDWARD ROY', 'ARMY', 'SGT', '19440924', 'FAIRVIEW', 'BROWN', '19670611', 'Y', 'KS']\n",
      "['LUNDY MAURICE  EDWARD', 'AIR FORCE', '1STLT', '19440205', 'KANSAS CITY', 'WYANDOTTE', '19690510', 'Y', 'KS']\n",
      "['LYONS ROBERT PAUL', 'ARMY', 'SP5', '19430810', 'WICHITA', 'SEDGWICK', '19690406', 'Y', 'KS']\n",
      "['MACDONALD ALLAN  HERBERT', 'ARMY', 'SP4', '19460922', 'OVERLAND ', 'PARK', 'JOHNSON', '19660626', 'KS']\n",
      "['Y MALONE CHARLES ', 'WALTER', 'ARMY', 'MAJ', '19250225', 'HAYS', 'ELLIS', '19691005', 'KS']\n",
      "['Y MALONE ROBERT GARY', 'MARINE CORPS', 'CPL', '19430830', 'WICHITA', 'SEDGWICK', '19660728', 'Y', 'KS']\n",
      "['MARTIN LARRY EUGENE', 'AIR FORCE', 'MAJ', '19400211', 'WAKEFIELD', 'CLAY', '19680715', 'Y', 'KS']\n",
      "['MARTIN STEVEN LOUIS', 'ARMY', 'WO1', '19470428', 'WICHITA', 'SEDGWICK', '19690531', 'Y', 'KS']\n",
      "['MARTIN WALTER WESLEY', 'AIR FORCE', 'MAJ', '19351016', 'OPOLIS', 'CRAWFORD', '19690117', 'Y', 'KS']\n",
      "['MARTINEZ GEORGE  FRANCIS', 'ARMY', 'SP4', '19360509', 'NEWTON', 'HARVEY', '19690608', 'Y', 'KS']\n",
      "['MARTINEZ PETER', 'MARINE CORPS', 'SGT', '19400321', 'ARKANSAS ', 'CITY', 'COWLEY', '19660121', 'KS']\n",
      "['Y MASLAK JOHN JOSEPH', 'ARMY', 'SP4', '19440429', 'KANSAS CITY', 'WYANDOTTE', '19690807', 'Y', 'KS']\n",
      "['MASON ROMAN GALE', 'ARMY', 'SGT', '19470925', 'EDWARDSVILL', 'E', 'WYANDOTTE', '19690127', 'KS']\n",
      "['Y MATHER ALVIN EUGENE', 'AIR FORCE', 'MAJ', '19330926', 'TOPEKA', 'SHAWNEE', '19700604', 'Y', 'KS']\n",
      "['MATTHEWS WILLIAM  CLAY', 'MARINE CORPS', 'PFC', '19500409', 'DERBY', 'SEDGWICK', '19690226', 'Y', 'KS']\n",
      "['MCCUBBIN GLENN  DEWAYNE', 'AIR FORCE', 'MAJ', '19420821', 'ALMENA', 'NORTON', '19680519', 'Y', 'KS']\n",
      "['MCCULLOUGH PATRICK  ELVIN', 'ARMY', 'SP4', '19491215', 'CLEARWATER', 'SEDGWICK', '19690207', 'Y', 'KS']\n",
      "['MCDERMOTT JOHN  PATRICK', 'NAVY', 'PO2', '19451209', 'PITTSBURG', 'CRAWFORD', '19680907', 'Y', 'KS']\n",
      "['MCDONALD DANNY LEE', 'ARMY', 'PFC', '19460328', 'EUREKA', 'GREENWOOD', '19661030', 'Y', 'KS']\n",
      "['MCDONALD MICHAEL JAY', 'ARMY', 'PFC', '19481217', 'WICHITA', 'SEDGWICK', '19681221', 'Y', 'KS']\n",
      "['MCGINNIS LESTER CLEO II', 'ARMY', 'SGT', '19471114', 'KANSAS CITY', 'WYANDOTTE', '19681018', 'Y', 'KS']\n",
      "['MCGONIGLE WILLIAM  DEE', 'MARINE CORPS', 'PFC', '19481029', 'WICHITA', 'SEDGWICK', '19680510', 'Y', 'KS']\n",
      "['MCGOVERN JEROME  GEORGE', 'ARMY', 'SGT', '19460510', 'TOPEKA', 'SHAWNEE', '19670712', 'Y', 'KS']\n",
      "['MCINTOSH DONALD  WILLIAM', 'ARMY', 'PFC', '19510118', 'HUTCHINSON', 'RENO', '19701108', 'Y', 'KS']\n",
      "['MCKAIN BOBBY LYN', 'ARMY', 'CW2', '19460211', 'GARDEN CITY', 'FINNEY', '19680503', 'N', 'KS']\n",
      "['MCKAY GERALD OTTO', 'MARINE CORPS', '1STLT', '19411025', 'ST MARYS', 'MULTIPLE', '19650606', 'Y', 'KS']\n",
      "['MCKINNELL RICHARD  LEE', 'MARINE CORPS', 'PFC', '19471113', 'WICHITA', 'SEDGWICK', '19670704', 'Y', 'KS']\n",
      "['MCLAREN ROBERT DALE', 'ARMY', 'SP4', '19510418', 'WICHITA', 'SEDGWICK', '19720624', 'Y', 'KS']\n",
      "['MCTEER JEFFERY CLARK', 'MARINE CORPS', 'PFC', '19480102', 'OVERLAND ', 'PARK', 'JOHNSON', '19680131', 'KS']\n",
      "['Y MEADE JAMES ROBERT', 'ARMY', 'CW2', '19411027', 'TOPEKA', 'SHAWNEE', '19710402', 'Y', 'KS']\n",
      "['MEANS WILLIAM  HARLEY JR', 'AIR FORCE', 'COL', '19350713', 'TOPEKA', 'SHAWNEE', '19660720', 'Y', 'KS']\n",
      "['MEIS DONALD DAVID', 'ARMY', 'SP4', '19470602', 'WICHITA', 'SEDGWICK', '19680601', 'Y', 'KS']\n",
      "['MERYS ROBERT KEITH', 'ARMY', 'SP4', '19480925', 'OVERLAND ', 'PARK', 'JOHNSON', '19681210', 'KS']\n",
      "['Y METZGER GEORGE ', 'LEONARD', 'MARINE CORPS', 'LCPL', '19500320', 'KANSAS CITY', 'WYANDOTTE', '19690909', 'KS']\n",
      "['Y MILBRADT DALE ', 'LAVERNE', 'ARMY', '1LT', '19430821', 'TOPEKA', 'SHAWNEE', '19690411', 'KS']\n",
      "['Y MILLER KENNETH ', 'WALTER', 'ARMY', 'PFC', '19490305', 'PHILLIPSBURG', 'PHILLIPS', '19680930', 'KS']\n",
      "['Y MILLER TIMMY LARRY', 'MARINE CORPS', 'SGT', '19470504', 'STOCKTON', 'ROOKS', '19681124', 'Y', 'KS']\n",
      "['MISCHLER HAROLD LOUIS', 'AIR FORCE', 'CAPT', '19460109', 'OSBORNE', 'OSBORNE', '19721223', 'Y', 'KS']\n",
      "['MITCHELL CRAIG WESLEY', 'ARMY', 'SP4', '19470210', 'EL DORADO', 'BUTLER', '19680511', 'Y', 'KS']\n",
      "['MIZER LENTON EUGENE', 'ARMY', 'WO1', '19500210', 'EL DORADO', 'BUTLER', '19700715', 'Y', 'KS']\n",
      "['MOHLER TIMOTHY ALLEN', 'ARMY', 'PFC', '19481127', 'QUENEMO', 'OSAGE', '19690819', 'Y', 'KS']\n",
      "['MONTEMAYOR JAMES  MICHAEL', 'ARMY', 'PFC', '19471003', 'KANSAS CITY', 'WYANDOTTE', '19690117', 'Y', 'KS']\n",
      "['MOORE BILLY RAY', 'MARINE CORPS', 'PFC', '19461108', 'KANSAS CITY', 'WYANDOTTE', '19660906', 'Y', 'KS']\n",
      "['MOORE DONALD EUGENE', 'ARMY', 'SFC', '19361002', 'PRATT', 'PRATT', '19680207', 'Y', 'KS']\n",
      "['MOORE JAMES EZRA', 'MARINE CORPS', 'PFC', '19490817', 'KANSAS CITY', 'WYANDOTTE', '19680306', 'Y', 'KS']\n",
      "['MOORE WILLIAM RAY', 'NAVY', 'PO2', '19451221', 'PRINCETON', 'FRANKLIN', '19691002', 'N', 'KS']\n",
      "['MORA RAYMOND  CASTILLO', 'MARINE CORPS', 'PFC', '19470721', 'KANSAS CITY', 'WYANDOTTE', '19680611', 'Y', 'KS']\n",
      "['MORGAN LELAND RAY', 'ARMY', 'PFC', '19470121', 'WICHITA', 'SEDGWICK', '19661203', 'Y', 'KS']\n",
      "['MORTIBOY WILLIAM  SHELTON', 'MARINE CORPS', 'CPL', '19470613', 'OVERLAND ', 'PARK', 'JOHNSON', '19670401', 'KS']\n",
      "['Y MOTT JOHN ARTHUR', 'ARMY', 'SP4', '19440113', 'IOLA', 'ALLEN', '19670322', 'Y', 'KS']\n",
      "['MOUNTS JERRY DUANE', 'MARINE CORPS', 'PFC', '19480509', 'WICHITA', 'SEDGWICK', '19680213', 'Y', 'KS']\n",
      "['MOWREY RICHARD LYNN', 'NAVY', 'LTJG', '19430401', 'SHAWNEE ', 'MISSION', 'JOHNSON', '19661214', 'KS']\n",
      "['N MUEHLBERG RONALD ', 'LEE', 'ARMY', 'PFC', '19461215', 'SALINA', 'SALINE', '19680812', 'KS']\n",
      "['Y MUELLER STEVEN AL', 'AIR FORCE', '1STLT', '19440907', 'SYLVAN GROVE', 'LINCOLN', '19700118', 'Y', 'KS']\n",
      "['MULLER DANIEL SCOTT', 'NAVY', 'PO3', '19430718', 'PITTSBURG', 'CRAWFORD', '19690604', 'Y', 'KS']\n",
      "['MUNDAY PHILLIP DEAN', 'MARINE CORPS', 'PFC', '19470429', 'WICHITA', 'SEDGWICK', '19670502', 'Y', 'KS']\n",
      "['MUNGER RONALD  WILLIAM', 'ARMY', 'SGT', '19481106', 'BEATTIE', 'MARSHALL', '19700821', 'Y', 'KS']\n",
      "['MURRAY CARL EUGENE', 'ARMY', 'SP4', '19490126', 'TOPEKA', 'SHAWNEE', '19671220', 'Y', 'KS']\n",
      "['MURRAY VIRGIL ARTHUR', 'ARMY', 'SP4', '19300623', 'LARNED', 'PAWNEE', '19660317', 'Y', 'KS']\n",
      "['MYERS GENE ALLEN', 'ARMY', 'SP4', '19480521', 'ST MARYS', 'MULTIPLE', '19690609', 'Y', 'KS']\n",
      "['NAIL GARY DEAN', 'MARINE CORPS', 'CPL', '19450817', 'SALINA', 'SALINE', '19660403', 'Y', 'KS']\n",
      "['NEER GERALD KING', 'MARINE CORPS', 'SSGT', '19420404', 'WINFIELD', 'COWLEY', '19690617', 'Y', 'KS']\n",
      "['NELSON DAVID REID', 'MARINE CORPS', 'LCPL', '19461203', 'HUTCHINSON', 'RENO', '19680704', 'Y', 'KS']\n",
      "['NETH FRED ALBERT', 'NAVY', 'LCDR', '19320317', 'FT SCOTT', 'BOURBON', '19660116', 'N', 'KS']\n",
      "['NEUBURGER DANIEL LEO', 'ARMY', '1LT', '19450721', 'ELLIS', 'ELLIS', '19680814', 'Y', 'KS']\n",
      "['NEVINS ELDON EUGENE', 'NAVY', 'CN', '19470822', 'OSBORNE', 'OSBORNE', '19680308', 'Y', 'KS']\n",
      "['NEVINS FLOYD CHARLES', 'ARMY', 'SGT', '19471110', 'VALLEY FALLS', 'JEFFERSON', '19690515', 'Y', 'KS']\n",
      "['NEWMAN JERRY LEE', 'NAVY', 'PO2', '19440516', 'AGENDA', 'REPUBLIC', '19670828', 'Y', 'KS']\n",
      "['NICKS BENJAMIN  ARNOLD III', 'ARMY', 'SGT', '19460809', 'SHAWNEE', 'JOHNSON', '19700423', 'Y', 'KS']\n",
      "['NORTHROP JAMES  LEEROY', 'ARMY', 'SP4', '19410717', 'NEWTON', 'HARVEY', '19660626', 'Y', 'KS']\n",
      "['NUFER JAMES LEO', 'ARMY', 'PFC', '19471106', 'DODGE CITY', 'FORD', '19680311', 'Y', 'KS']\n",
      "['OATNEY ALLEN EUGENE', 'ARMY', 'CPL', '19491004', 'WATERVILLE', 'MARSHALL', '19700622', 'Y', 'KS']\n",
      "['OBRIEN PATRICK  EDWARD', 'MARINE CORPS', 'CPL', '19461204', 'LIBERAL', 'SEWARD', '19670222', 'Y', 'KS']\n",
      "['OCONNOR GERARD  FRANCIS', 'ARMY', 'WO1', '19471020', 'HERINGTON', 'DICKINSON', '19700426', 'Y', 'KS']\n",
      "['OGLE DAVID ROBERT', 'ARMY', 'SP4', '19480218', 'LYNDON', 'OSAGE', '19680303', 'Y', 'KS']\n",
      "['ONEIL RILEY CHARLES JR', 'ARMY', 'CPL', '19470604', 'KANSAS CITY', 'WYANDOTTE', '19671215', 'Y', 'KS']\n",
      "['ORNELAS CARL JOHN', 'MARINE CORPS', 'SGT', '19480521', 'WICHITA', 'SEDGWICK', '19680205', 'Y', 'KS']\n",
      "['ORTEGA ERNEST', 'MARINE CORPS', 'SGT', '19451202', 'WICHITA', 'SEDGWICK', '19661221', 'Y', 'KS']\n",
      "['OSENBAUGH JAMES DALE', 'ARMY', 'PFC', '19471220', 'HUTCHINSON', 'RENO', '19680104', 'Y', 'KS']\n",
      "['OWENS TIMOTHY  EUGENE', 'MARINE CORPS', 'PFC', '19481001', 'KANSAS CITY', 'WYANDOTTE', '19680416', 'Y', 'KS']\n",
      "['PACHECO FELIX', 'ARMY', 'PFC', '19470306', 'KANSAS CITY', 'WYANDOTTE', '19660825', 'Y', 'KS']\n",
      "['PAPPAN BOBBY JACK', 'ARMY', 'SGT', '19471220', 'DERBY', 'SEDGWICK', '19680905', 'Y', 'KS']\n",
      "['PARKER HARVEY R', 'ARMY', 'PVT', '19461028', 'FULTON', 'BOURBON', '19670105', 'Y', 'KS']\n",
      "['PARRISH ROGER ALAN', 'ARMY', '1LT', '19470612', 'MANHATTAN', 'RILEY', '19690610', 'Y', 'KS']\n",
      "['PARSONS GARY REED', 'MARINE CORPS', 'PFC', '19471117', 'TOPEKA', 'SHAWNEE', '19660926', 'Y', 'KS']\n",
      "['PARTRIDGE NORMAN  WAYNE', 'ARMY', 'WO1', '19441212', 'TOWANDA', 'BUTLER', '19680916', 'Y', 'KS']\n",
      "['PATRICK DARYL WAYNE', 'ARMY', 'SP4', '19481013', 'MURDOCK', 'KINGMAN', '19691215', 'Y', 'KS']\n",
      "['PATTERSON JEROME  DEAN', 'NAVY', 'CN', '19451128', 'PLEASANTON', 'LINN', '19670828', 'Y', 'KS']\n",
      "['PATTON WARD KARL', 'NAVY', 'PO1', '19340118', 'FONTANA', 'MIAMI', '19680727', 'N', 'KS']\n",
      "['PAXSON STEVEN DUANE', 'ARMY', 'SGT', '19480921', 'TOPEKA', 'SHAWNEE', '19690522', 'Y', 'KS']\n",
      "['PAYNE KENNETH RAY', 'MARINE CORPS', 'PFC', '19490808', 'WICHITA', 'SEDGWICK', '19681030', 'Y', 'KS']\n",
      "['PAYNE RICHARD  NORMAN', 'MARINE CORPS', 'LCPL', '19450610', 'TOPEKA', 'SHAWNEE', '19660724', 'Y', 'KS']\n",
      "['PAYNE ROBERT ELGIN', 'MARINE CORPS', 'LCPL', '19430806', 'GEUDA ', 'SPRINGS', 'SUMNER', '19670520', 'KS']\n",
      "['Y PEEL LAWRENCE RAY', 'ARMY', 'SP4', '19511211', 'KANSAS CITY', 'WYANDOTTE', '19710428', 'Y', 'KS']\n",
      "['PERRYMAN RONALD  GLEN', 'ARMY', '2LT', '19440402', 'WICHITA', 'SEDGWICK', '19661025', 'Y', 'KS']\n",
      "['PETERSEN DANNY JOHN', 'ARMY', 'SP4', '19490311', 'ATCHISON', 'ATCHISON', '19700109', 'Y', 'KS']\n",
      "['PETETT LARRY WYNN', 'ARMY', '2LT', '19440921', 'SHAWNEE ', 'MISSION', 'JOHNSON', '19680227', 'KS']\n",
      "['Y PETTY JOHN CABLE II', 'ARMY', 'SGT', '19421230', 'LARNED', 'PAWNEE', '19660813', 'Y', 'KS']\n",
      "['PHALP WILLIAM  ANDERSON JR', 'ARMY', 'PFC', '19481002', 'MISSION', 'JOHNSON', '19690210', 'Y', 'KS']\n",
      "['PHILLIPS JACK WARREN', 'MARINE CORPS', 'CAPT', '19350125', 'MISSION', 'JOHNSON', '19671014', 'Y', 'KS']\n",
      "['PHILLIPS MARLEN LE ROY', 'MARINE CORPS', 'CPL', '19360310', 'BUCKLIN', 'FORD', '19680906', 'Y', 'KS']\n",
      "['PHILLIPS MICHAEL GENE', 'ARMY', 'SP4', '19470517', 'SALINA', 'SALINE', '19671031', 'Y', 'KS']\n",
      "['PIERCE CLINTON DWIGHT', 'MARINE CORPS', 'PFC', '19490907', 'AUGUSTA', 'BUTLER', '19691108', 'Y', 'KS']\n",
      "['PIKE RAYMOND HORACE  JR', 'ARMY', 'SP4', '19480303', 'LEAVENWORTH', 'LEAVENWORTH', '19680131', 'Y', 'KS']\n",
      "['POKE DONALD MAURICE', 'ARMY', 'CPL', '19501128', 'KANSAS CITY', 'WYANDOTTE', '19710514', 'Y', 'KS']\n",
      "['PONTING JOHN L', 'ARMY', 'SFC', '19360117', 'EMPORIA', 'LYON', '19671122', 'Y', 'KS']\n",
      "['PORRAS JUAN', 'MARINE CORPS', 'PFC', '19490311', 'KANSAS CITY', 'WYANDOTTE', '19680910', 'Y', 'KS']\n",
      "['PORTER JAMES HOLLAND', 'MARINE CORPS', 'CPL', '19480615', 'ENTERPRISE', 'DICKINSON', '19690121', 'Y', 'KS']\n",
      "['POSEY CHARLES ALBERT', 'ARMY', 'SP4', '19461102', 'WICHITA', 'SEDGWICK', '19691105', 'Y', 'KS']\n",
      "['PRIETO RUBEN', 'ARMY', 'SP4', '19460424', 'KANSAS CITY', 'WYANDOTTE', '19681221', 'Y', 'KS']\n",
      "['PROBERTS WAYNE  DOUGLAS', 'ARMY', 'PFC', '19420419', 'GARDEN CITY', 'FINNEY', '19651112', 'Y', 'KS']\n",
      "['PROCINO NICHOLAS  RALPH', 'ARMY', 'SP4', '19490913', 'GALENA', 'CHEROKEE', '19691108', 'Y', 'KS']\n",
      "['PUGH DENNIS GERARD', 'AIR FORCE', 'MAJ', '19440210', 'SALINA', 'SALINE', '19700319', 'N', 'KS']\n",
      "['PULLIAM DALE ALLAN', 'MARINE CORPS', 'LCPL', '19470313', 'WICHITA', 'SEDGWICK', '19670514', 'Y', 'KS']\n",
      "['RAGER WILLIAM EARL', 'ARMY', 'SFC', '19300804', 'ABILENE', 'DICKINSON', '19670310', 'Y', 'KS']\n",
      "['RAIMEY CHRISTOPHER  LAG', 'MARINE CORPS', 'PFC', '19510720', 'TOPEKA', 'SHAWNEE', '19710210', 'Y', 'KS']\n",
      "['RAMSEY MILTON HARDIN', 'AIR FORCE', 'MAJ', '19370215', 'KANSAS CITY', 'WYANDOTTE', '19710301', 'Y', 'KS']\n",
      "['RAY RANDY DAVID', 'ARMY', 'PFC', '19480819', 'PRAIRIE ', 'VILLAGE', 'JOHNSON', '19701205', 'KS']\n",
      "['Y REDD BOBBY EDWARD', 'ARMY', 'SFC', '19311212', 'CHAPMAN', 'DICKINSON', '19680713', 'Y', 'KS']\n",
      "['REDMOND RALPH  GEORGE', 'ARMY', '1LT', '19380501', 'TOPEKA', 'SHAWNEE', '19640604', 'Y', 'KS']\n",
      "['REGIER RAYMOND DEAN', 'ARMY', 'CPL', '19490206', 'LIBERAL', 'SEWARD', '19700205', 'Y', 'KS']\n",
      "['REID JAMES EDWARD', 'MARINE CORPS', 'PFC', '19451227', 'WICHITA', 'SEDGWICK', '19660826', 'Y', 'KS']\n",
      "['REISSIG LARRY LEROY', 'ARMY', 'PFC', '19470624', 'ASSARIA', 'SALINE', '19670513', 'Y', 'KS']\n",
      "['RENFRO JACK DENNIS', 'NAVY', 'LT', '19390422', 'OVERLAND ', 'PARK', 'JOHNSON', '19661107', 'KS']\n",
      "['Y REUKAUF LEE EDWARD', 'ARMY', 'PFC', '19460308', 'KANSAS CITY', 'WYANDOTTE', '19670228', 'Y', 'KS']\n",
      "['REYNOLDS WILLIAM  LAWRENCE', 'ARMY', '1LT', '19460925', 'WINFIELD', 'COWLEY', '19700528', 'Y', 'KS']\n",
      "['RHODES LARRY WAYNE', 'MARINE CORPS', 'PFC', '19490218', 'WICHITA', 'SEDGWICK', '19690428', 'Y', 'KS']\n",
      "['RICHARDSON ARLEN DEL', 'ARMY', '1LT', '19430206', 'LAWRENCE', 'DOUGLAS', '19700217', 'Y', 'KS']\n",
      "['RICHARDSON GARY  WAYNE', 'ARMY', 'SP4', '19490817', 'WICHITA', 'SEDGWICK', '19701030', 'Y', 'KS']\n",
      "['RIEDEL ROBERT EUGENE', 'MARINE CORPS', 'PFC', '19450121', 'HOISINGTON', 'BARTON', '19650831', 'Y', 'KS']\n",
      "['RIGBY OLIS RAY', 'ARMY', 'SP4', '19480816', 'HAYS', 'ELLIS', '19671121', 'Y', 'KS']\n",
      "['RING HAROLD KENNETH', 'ARMY', '1LT', '19470710', 'LEAVENWORTH', 'LEAVENWORTH', '19690223', 'Y', 'KS']\n",
      "['ROBERTS RICHARD  STEPHEN', 'MARINE CORPS', 'LCPL', '19481010', 'KANSAS CITY', 'WYANDOTTE', '19680219', 'Y', 'KS']\n",
      "['ROBINSON FLOYD HENRY', 'ARMY', 'SSG', '19490128', 'BURLINGTON', 'COFFEY', '19690312', 'N', 'KS']\n",
      "['ROBINSON MICHAEL  BERNARD', 'MARINE CORPS', 'CPL', '19491005', 'WICHITA', 'SEDGWICK', '19700107', 'Y', 'KS']\n",
      "['ROLFE GARY FAY', 'ARMY', 'SGT', '19481219', 'WICHITA', 'SEDGWICK', '19690305', 'Y', 'KS']\n",
      "['ROMINE ALBERT W', 'ARMY', 'SGT', '19450301', 'BURLINGAME', 'OSAGE', '19680516', 'Y', 'KS']\n",
      "['ROOT EDWARD CHARLES', 'MARINE CORPS', 'CPL', '19470730', 'BERRYTON', 'SHAWNEE', '19680425', 'Y', 'KS']\n",
      "['ROSALES MARTIN ANGEL', 'MARINE CORPS', 'PFC', '19460802', 'BETHEL', 'WYANDOTTE', '19670910', 'Y', 'KS']\n",
      "['ROSS DENNIS WAYNE', 'ARMY', 'SP4', '19440621', 'PARKER', 'LINN', '19691112', 'Y', 'KS']\n",
      "['ROUCHON ALAN  MICHAEL', 'ARMY', 'SP4', '19481219', 'FT ', 'LEAVENWORTH', 'LEAVENWORTH', '19690619', 'KS']\n",
      "['Y ROYSTON LOUIS DON JR', 'MARINE CORPS', 'PFC', '19450301', 'WICHITA', 'SEDGWICK', '19650901', 'Y', 'KS']\n",
      "['RUCKLE CLINTON GEAN', 'MARINE CORPS', 'PFC', '19500824', 'WICHITA', 'SEDGWICK', '19700106', 'Y', 'KS']\n",
      "['RUDISILL DAYTON  LUTHER', 'NAVY', 'PO2', '19350913', 'GREENSBURG', 'KIOWA', '19660214', 'Y', 'KS']\n",
      "['RUNKLE ROBERT LESLIE', 'ARMY', 'LTC', '19260320', 'FT SCOTT', 'BOURBON', '19680404', 'Y', 'KS']\n",
      "['RYAN DELBERT LEROY', 'ARMY', 'PFC', '19450415', 'LAWRENCE', 'DOUGLAS', '19660602', 'Y', 'KS']\n",
      "['SAENZ EDWARD LLOYD', 'MARINE CORPS', 'PFC', '19480108', 'GREAT BEND', 'BARTON', '19681002', 'Y', 'KS']\n",
      "['SAGE TERENCE  FAIRCHILD', 'ARMY', 'CPT', '19420608', 'LEAVENWORTH', 'LEAVENWORTH', '19680131', 'Y', 'KS']\n",
      "['SALINAS PHILLIP LOUIE', 'MARINE CORPS', 'LCPL', '19460417', 'LEOTI', 'WICHITA', '19680206', 'Y', 'KS']\n",
      "['SAMUELS GEORGE LEROY', 'MARINE CORPS', 'PFC', '19471028', 'EUREKA', 'GREENWOOD', '19660408', 'Y', 'KS']\n",
      "['SANCHEZ FRANKIE', 'ARMY', 'SP4', '19370612', 'DODGE CITY', 'FORD', '19660223', 'Y', 'KS']\n",
      "['SASEK RICHARD JOHN', 'MARINE CORPS', 'CAPT', '19370208', 'TOPEKA', 'SHAWNEE', '19670706', 'Y', 'KS']\n",
      "['SCANLAN LAWRENCE  WALKER', 'ARMY', 'PFC', '19450123', 'SHAWNEE ', 'MISSION', 'JOHNSON', '19680309', 'KS']\n",
      "['Y SCATES CHARLES ', 'EDWARD JR', 'MARINE CORPS', 'PFC', '19490901', 'NEWTON', 'HARVEY', '19680518', 'KS']\n",
      "['Y SCHALIPP MURVIN JR', 'ARMY', 'SP4', '19420225', 'LEAVENWORTH', 'LEAVENWORTH', '19651117', 'Y', 'KS']\n",
      "['SCHMELZLE JOHN JOSEPH', 'ARMY', 'SP4', '19490928', 'EDWARDSVILL', 'E', 'WYANDOTTE', '19690413', 'KS']\n",
      "['Y SCHOTH WILLIAM ', 'WESLEY II', 'ARMY', 'SP5', '19480729', 'MISSION', 'JOHNSON', '19690326', 'KS']\n",
      "['Y SCHULTZ RONALD JAMES', 'ARMY', 'SFC', '19480527', 'HILLSBORO', 'MARION', '19700721', 'N', 'KS']\n",
      "['SCHULTZ WILLIAM LEE', 'AIR FORCE', 'CAPT', '19370319', 'CHANUTE', 'NEOSHO', '19661008', 'Y', 'KS']\n",
      "['SCHULZ RONALD  DOUGLAS', 'ARMY', 'SP4', '19490919', 'HUNTER', 'MITCHELL', '19700414', 'Y', 'KS']\n",
      "['SCOTT DAVE RUSSELL', 'ARMY', 'SP4', '19461119', 'JUNCTION CITY', 'GEARY', '19680124', 'Y', 'KS']\n",
      "['SCOTT LARRY EUGENE', 'ARMY', 'SP4', '19470825', 'ATCHISON', 'ATCHISON', '19690609', 'Y', 'KS']\n",
      "['SEGLEM RICHARD NOYCE', 'ARMY', 'PFC', '19500712', 'WICHITA', 'SEDGWICK', '19700924', 'Y', 'KS']\n",
      "['SEVICK JOHN FRANCIS', 'ARMY', '2LT', '19421222', 'KANSAS CITY', 'WYANDOTTE', '19680201', 'Y', 'KS']\n",
      "['SHAMBAUGH DALE K', 'MARINE CORPS', '2NDLT', '19420721', 'TOPEKA', 'SHAWNEE', '19650818', 'Y', 'KS']\n",
      "['SHANK GARY LESLIE', 'NAVY', 'LT', '19470316', 'PRAIRIE ', 'VILLAGE', 'JOHNSON', '19720723', 'KS']\n",
      "['Y SHANNON RICHARD ', 'DEAN JR', 'ARMY', 'CPL', '19431013', 'PIPER', 'WYANDOTTE', '19690512', 'KS']\n",
      "['Y SHERMAN DANIEL L', 'ARMY', 'PFC', '19401226', 'OVERLAND ', 'PARK', 'JOHNSON', '19660109', 'KS']\n",
      "['Y SHERRILL AMOS ', 'CHESTER II', 'ARMY', 'PFC', '19470619', 'STAFFORD', 'STAFFORD', '19680719', 'KS']\n",
      "['Y SHUE RUSSELL DELMAR', 'ARMY', 'SGT', '19480205', 'OSWEGO', 'LABETTE', '19700604', 'Y', 'KS']\n",
      "['SIDENER WESLEY MELVIN', 'MARINE CORPS', 'PFC', '19481111', 'BURNS', 'MARION', '19691122', 'Y', 'KS']\n",
      "['SIMMONS JOHN STEPHEN', 'ARMY', '2LT', '19450506', 'HOISINGTON', 'BARTON', '19680301', 'Y', 'KS']\n",
      "['SMALL NORMAN EUGENE', 'ARMY', 'CPL', '19460213', 'ALDEN', 'RICE', '19680405', 'Y', 'KS']\n",
      "['SMITH AARON BRUCE', 'ARMY', 'PFC', '19461009', 'ARKANSAS ', 'CITY', 'COWLEY', '19690812', 'KS']\n",
      "['Y SMITH KENNETH WAYNE', 'MARINE CORPS', '1STLT', '19440105', 'BETHEL', 'WYANDOTTE', '19680128', 'Y', 'KS']\n",
      "['SMITH MAYNARD LEE', 'NAVY', 'PO3', '19461113', 'TROY', 'DONIPHAN', '19680207', 'Y', 'KS']\n",
      "['SMITH MICHAEL JOSEPH', 'NAVY', 'SA', '19461226', 'KANSAS CITY', 'WYANDOTTE', '19670412', 'Y', 'KS']\n",
      "['SMITH RICHARD DEAN', 'AIR FORCE', 'LTCOL', '19370816', 'WICHITA', 'SEDGWICK', '19650311', 'Y', 'KS']\n",
      "['SMITH STEPHEN LEE', 'ARMY', 'PFC', '19510102', 'OTTAWA', 'FRANKLIN', '19710301', 'Y', 'KS']\n",
      "['SNOW LONNIE DALE', 'MARINE CORPS', 'LCPL', '19431223', 'LAWRENCE', 'DOUGLAS', '19650730', 'Y', 'KS']\n",
      "['SONDERMAN THOMAS  LEE', 'ARMY', 'CW2', '19501119', 'DERBY', 'SEDGWICK', '19710408', 'Y', 'KS']\n",
      "['SORENSEN KENNETH LEE', 'ARMY', 'PFC', '19440323', 'KANSAS CITY', 'WYANDOTTE', '19651204', 'Y', 'KS']\n",
      "['SOUTHALL JOHN GEORGE', 'MARINE CORPS', 'CPL', '19460209', 'WAMEGO', 'POTTAWATOMI', 'E', '19680616', 'KS']\n",
      "['Y SOUTHERN EDWARD ', 'CHARLES', 'MARINE CORPS', 'PFC', '19500328', 'NEWTON', 'HARVEY', '19690226', 'KS']\n",
      "['Y SPIESS JOHN CHARLES', 'NAVY', 'PO1', '19410825', 'WICHITA', 'SEDGWICK', '19670729', 'Y', 'KS']\n",
      "['SPRAGINS CARROLL  WAYNE', 'ARMY', 'CPT', '19431001', 'LEAVENWORTH', 'LEAVENWORTH', '19700310', 'Y', 'KS']\n",
      "['SPRINGER GERALD  WAYNE', 'ARMY', 'PFC', '19480427', 'PRESCOTT', 'LINN', '19680829', 'Y', 'KS']\n",
      "['SQUIER WILLIAM  RUSSELL JR', 'ARMY', 'SSG', '19490118', 'BROWNELL', 'NESS', '19690913', 'Y', 'KS']\n",
      "['STAHL EDWARD ARNOLD', 'ARMY', 'SP4', '19450919', 'WESTPHALIA', 'ANDERSON', '19670525', 'Y', 'KS']\n",
      "['STANDEFORD JAMES  MICHAEL', 'ARMY', 'SGT', '19471020', 'CHETOPA', 'LABETTE', '19681201', 'Y', 'KS']\n",
      "['STANDERWICK ROBERT L  SR', 'AIR FORCE', 'COL', '19300623', 'MANKATO', 'JEWELL', '19710203', 'N', 'KS']\n",
      "['STANFIELD GARY KELVIN', 'ARMY', 'SP4', '19490617', 'CHANUTE', 'NEOSHO', '19690914', 'Y', 'KS']\n",
      "['STEIMEL GREGG FRANCIS', 'ARMY', 'SGT', '19500812', 'WRIGHT', 'FORD', '19700731', 'Y', 'KS']\n",
      "['STEPHENS LESTER AL', 'ARMY', 'SP4', '19430714', 'WICHITA', 'SEDGWICK', '19690112', 'Y', 'KS']\n",
      "['STEWART LEONARD  KEITH', 'ARMY', 'CPL', '19460911', 'SALINA', 'SALINE', '19680721', 'Y', 'KS']\n",
      "['STEWART MICHAEL  HENRY', 'ARMY', 'CPL', '19490526', 'WICHITA', 'SEDGWICK', '19680508', 'Y', 'KS']\n",
      "['STEWART WILLIAM  STEVEN', 'NAVY', 'PO2', '19470904', 'TOPEKA', 'SHAWNEE', '19701215', 'Y', 'KS']\n",
      "['STIGGINS DOUGLAS LEE', 'ARMY', 'PFC', '19490503', 'PARTRIDGE', 'RENO', '19690724', 'Y', 'KS']\n",
      "['STONE GEORGE  DAVIDSON', 'ARMY', 'PFC', '19471102', 'SHAWNEE ', 'MISSION', 'JOHNSON', '19680414', 'KS']\n",
      "['Y STRAUB CONRAD ', 'FRANCIS', 'ARMY', 'SP4', '19461230', 'CLAFLIN', 'BARTON', '19670227', 'KS']\n",
      "['Y STRUBE JAMES ', 'CLARENCE', 'ARMY', 'CPL', '19470905', 'POWHATTAN', 'BROWN', '19690611', 'KS']\n",
      "['Y STULTZ CHARLES ', 'GILBERT', 'ARMY', 'SP4', '19480213', 'QUENEMO', 'OSAGE', '19690512', 'KS']\n",
      "['Y SULLIVAN MICHAEL ', 'JAMES', 'ARMY', 'CPL', '19460603', 'WEIR', 'CHEROKEE', '19671121', 'KS']\n",
      "['Y SUTTER FREDERICK JOHN', 'AIR FORCE', 'CAPT', '19460226', 'LEAWOOD', 'JOHNSON', '19711231', 'N', 'KS']\n",
      "['SWAZICK DANNY  GEORGE', 'ARMY', 'CPL', '19430125', 'KANSAS CITY', 'WYANDOTTE', '19680302', 'Y', 'KS']\n",
      "['SWENDER JACK SHIVELY', 'MARINE CORPS', 'LCPL', '19430214', 'KANSAS CITY', 'WYANDOTTE', '19651218', 'Y', 'KS']\n",
      "['SWINK JACKIE LEE', 'ARMY', 'PFC', '19501218', 'LIBERAL', 'SEWARD', '19691014', 'Y', 'KS']\n",
      "['SZIJJARTO STEPHEN  JOSEPH', 'ARMY', 'SGT', '19401112', 'WAMEGO', 'POTTAWATOMI', 'E', '19661217', 'KS']\n",
      "['Y TALBURT RAYMOND ', 'THURL', 'ARMY', 'SGT', '19441026', 'WICHITA', 'SEDGWICK', '19690607', 'KS']\n",
      "['Y TALIAFERRO GLEN ', 'JOHNSON', 'AIR FORCE', '1STLT', '19460206', 'EL DORADO', 'BUTLER', '19710802', 'KS']\n",
      "['Y TAYLOR WALTER LEE JR', 'ARMY', 'SP4', '19490919', 'EL DORADO', 'BUTLER', '19700414', 'Y', 'KS']\n",
      "['THOENNES MICHAEL  WALTER', 'MARINE CORPS', '1STLT', '19440823', 'LEAWOOD', 'JOHNSON', '19670530', 'Y', 'KS']\n",
      "['THOMAS PAUL EDWARD', 'ARMY', 'SGT', '19481230', 'ESBON', 'JEWELL', '19700405', 'Y', 'KS']\n",
      "['THOMPSON CECIL  TRUMAN', 'AIR FORCE', 'SSGT', '19350114', 'SABETHA', 'NEMAHA', '19670109', 'Y', 'KS']\n",
      "['THOMPSON RICHARD W', 'ARMY', '1LT', '19410310', 'ATCHISON', 'ATCHISON', '19671119', 'Y', 'KS']\n",
      "['THOMPSON ROBERT  EUGENE', 'ARMY', 'PFC', '19470816', 'EDWARDSVILL', 'E', 'WYANDOTTE', '19660504', 'KS']\n",
      "['Y THOMPSON WILLIAM ', 'JOSEPH', 'NAVY', 'LCDR', '19301213', 'KANSAS CITY', 'WYANDOTTE', '19680116', 'KS']\n",
      "['N TIDERMAN JOHN MARK', 'NAVY', 'LCDR', '19340823', 'KANSAS CITY', 'WYANDOTTE', '19660321', 'N', 'KS']\n",
      "['TINKUM ETHER ARNOLD', 'ARMY', 'PFC', '19480502', 'WICHITA', 'SEDGWICK', '19680915', 'Y', 'KS']\n",
      "['TODD JEROME DEAN', 'ARMY', 'SP5', '19490606', 'WICHITA', 'SEDGWICK', '19710924', 'Y', 'KS']\n",
      "['TODD JIMMIE LESTER', 'ARMY', 'MSG', '19300906', 'HERINGTON', 'DICKINSON', '19680228', 'Y', 'KS']\n",
      "['TOOMES WILLIS ALBERT', 'ARMY', 'SGT', '19470409', 'SHAWNEE ', 'MISSION', 'JOHNSON', '19680921', 'KS']\n",
      "['Y TRAIN STEVE WARREN', 'AIR FORCE', '1STLT', '19451031', 'LINDSBORG', 'MCPHERSON', '19700402', 'Y', 'KS']\n",
      "['TRAVIS MICHAEL  RICHARD', 'MARINE CORPS', 'SGT', '19470831', 'WICHITA', 'SEDGWICK', '19680302', 'Y', 'KS']\n",
      "['TREAS RICHARD LEE', 'ARMY', 'CPT', '19350820', 'MUNCIE', 'WYANDOTTE', '19680822', 'Y', 'KS']\n",
      "['TROWER GARY RAY', 'MARINE CORPS', 'LCPL', '19470509', 'CHAPMAN', 'DICKINSON', '19690518', 'Y', 'KS']\n",
      "['TROXEL CHARLES  LEONARD', 'ARMY', 'PFC', '19480607', 'IOLA', 'ALLEN', '19690816', 'Y', 'KS']\n",
      "['TRUBE DELBERT LEROY  JR', 'MARINE CORPS', 'PFC', '19470818', 'BURDICK', 'MORRIS', '19660304', 'Y', 'KS']\n",
      "['TUCKER ROBERT EUGENE', 'MARINE CORPS', 'LCPL', '19481112', 'ABBYVILLE', 'RENO', '19701118', 'Y', 'KS']\n",
      "['TURNER JAMES EARL', 'ARMY', 'SP4', '19470731', 'EL DORADO', 'BUTLER', '19680807', 'Y', 'KS']\n",
      "['TURNER JOHN HAROLD', 'ARMY', 'SSG', '19420312', 'POTWIN', 'BUTLER', '19680520', 'Y', 'KS']\n",
      "['TURNER ROBERT ELDON', 'ARMY', 'MAJ', '19270813', 'MCPHERSON', 'MCPHERSON', '19690508', 'Y', 'KS']\n",
      "['URBAN ROBERT LEE', 'ARMY', 'PFC', '19481123', 'HAYS', 'ELLIS', '19681008', 'Y', 'KS']\n",
      "['VANWINKLE JESS H JR', 'ARMY', 'SGT', '19500331', 'JUNCTION CITY', 'GEARY', '19690907', 'Y', 'KS']\n",
      "['VELASQUEZ DAVID  ROBERT', 'MARINE CORPS', 'PFC', '19460305', 'GARDNER', 'JOHNSON', '19660206', 'Y', 'KS']\n",
      "['VIEGRA LUZ', 'ARMY', 'SP4', '19421213', 'LARNED', 'PAWNEE', '19651204', 'Y', 'KS']\n",
      "['WALKER CHARLES  BUTNER JR', 'MARINE CORPS', 'LCPL', '19480229', 'OVERLAND ', 'PARK', 'JOHNSON', '19690903', 'KS']\n",
      "['Y WALLACE DONALD DEAN', 'ARMY', 'SP4', '19460406', 'WESKAN', 'WALLACE', '19660801', 'Y', 'KS']\n",
      "['WALLACE LANNY JOHN', 'ARMY', '1LT', '19420916', 'SHAWNEE ', 'MISSION', 'JOHNSON', '19700721', 'KS']\n",
      "['Y WALTERS JOHN EDMOND', 'ARMY', 'CPL', '19491025', 'PARSONS', 'LABETTE', '19690302', 'Y', 'KS']\n",
      "['WARD RONALD RAY', 'ARMY', 'PFC', '19491211', 'HAYSVILLE', 'SEDGWICK', '19690523', 'Y', 'KS']\n",
      "['WARDS DAN THOMAS', 'NAVY', 'HN', '19471224', 'PAOLA', 'MIAMI', '19680107', 'Y', 'KS']\n",
      "['WARREN LARRY DEAN', 'ARMY', 'PFC', '19471031', 'LIBERAL', 'SEWARD', '19680416', 'Y', 'KS']\n",
      "['WATTS LARRY DEAN', 'ARMY', 'PFC', '19430716', 'COFFEYVILLE', 'MONTGOMERY', '19670307', 'Y', 'KS']\n",
      "['WEBB GARY ALAN', 'ARMY', 'SGT', '19450720', 'WA KEENEY', 'TREGO', '19670226', 'Y', 'KS']\n",
      "['WEBB JOHNNY ROBERT', 'ARMY', 'PFC', '19440209', 'CHANUTE', 'NEOSHO', '19680418', 'Y', 'KS']\n",
      "['WEIS KENNETH D', 'ARMY', 'MSG', '19300603', 'SALINA', 'SALINE', '19670913', 'Y', 'KS']\n",
      "['WELCH JODIE VARNER JR', 'MARINE CORPS', 'CPL', '19470914', 'KANSAS CITY', 'WYANDOTTE', '19670324', 'Y', 'KS']\n",
      "['WELDON ROBERT P', 'AIR FORCE', 'SGT', '19551010', 'KANSAS CITY', 'WYANDOTTE', '19750513', 'Y', 'KS']\n",
      "['WELLS BRIAN LEE', 'MARINE CORPS', 'CPL', '19480202', 'WICHITA', 'SEDGWICK', '19690215', 'Y', 'KS']\n",
      "['WELSCH CLARENCE  LEON JR', 'ARMY', 'CPL', '19470110', 'GARFIELD', 'PAWNEE', '19681228', 'Y', 'KS']\n",
      "['WELSH LARRY DON', 'ARMY', 'SSG', '19470616', 'KANSAS CITY', 'WYANDOTTE', '19690107', 'N', 'KS']\n",
      "['WEST JOHN MICHAEL', 'ARMY', 'SP4', '19470206', 'MEDICINE ', 'LODGE', 'BARBER', '19670331', 'KS']\n",
      "['Y WEST PAUL EDWARD', 'ARMY', 'PFC', '19470610', 'SHAWNEE', 'JOHNSON', '19680302', 'Y', 'KS']\n",
      "['WESTOVER DAVID EDWIN', 'NAVY', 'SN', '19461229', 'WINDOM', 'MCPHERSON', '19690728', 'Y', 'KS']\n",
      "['WESTPHAL JERELD  EUGENE', 'MARINE CORPS', 'LCPL', '19450416', 'BETHEL', 'WYANDOTTE', '19670603', 'Y', 'KS']\n",
      "['WHEELER MORRIS CRAIG', 'MARINE CORPS', 'LCPL', '19470326', 'MUNCIE', 'WYANDOTTE', '19670110', 'Y', 'KS']\n",
      "['WHELCHEL RUSSELL  DESMOND', 'MARINE CORPS', 'LCPL', '19470719', 'LIBERAL', 'SEWARD', '19670907', 'Y', 'KS']\n",
      "['WHINERY ROGER LEE', 'NAVY', 'HN', '19450216', 'FREDONIA', 'WILSON', '19670601', 'Y', 'KS']\n",
      "['WHITE GLENN EARL', 'MARINE CORPS', 'PFC', '19480722', 'WICHITA', 'SEDGWICK', '19671106', 'Y', 'KS']\n",
      "['WHITE MICHAEL ALAN', 'ARMY', 'SSG', '19490617', 'EL DORADO', 'BUTLER', '19690609', 'Y', 'KS']\n",
      "['WHITE MICHAEL LAVERN', 'NAVY', 'PO3', '19480820', 'LENEXA', 'JOHNSON', '19690923', 'Y', 'KS']\n",
      "['WHITEHEAD THOMAS  LEROY', 'ARMY', 'SP4', '19441029', 'WICHITA', 'SEDGWICK', '19680118', 'Y', 'KS']\n",
      "['WHITERS DONALD  EMERY', 'MARINE CORPS', 'LCPL', '19480313', 'WICHITA', 'SEDGWICK', '19680618', 'Y', 'KS']\n",
      "['WILLIAM RONALD  WAYNE', 'ARMY', 'SP4', '19500726', 'HOXIE', 'SHERIDAN', '19700321', 'Y', 'KS']\n",
      "['WILLIAMS BILLIE JOE', 'MARINE CORPS', 'PFC', '19451118', 'KANSAS CITY', 'WYANDOTTE', '19660321', 'Y', 'KS']\n",
      "['WILLIAMS JOHN CHARLES', 'ARMY', 'SP4', '19480326', 'SHAWNEE', 'JOHNSON', '19690811', 'Y', 'KS']\n",
      "['WILLIAMS ROGER RALPH', 'ARMY', 'SP4', '19460215', 'KANSAS CITY', 'WYANDOTTE', '19670303', 'Y', 'KS']\n",
      "['WILLIAMS THOMAS  VERNON JR', 'ARMY', 'PFC', '19480820', 'LAKIN', 'KEARNY', '19680828', 'Y', 'KS']\n",
      "['WILSON BILLIE JOE', 'MARINE CORPS', 'SSGT', '19290121', 'VALLEY ', 'CENTER', 'SEDGWICK', '19700209', 'KS']\n",
      "['Y WILSON JOHN LEE', 'ARMY', 'SP4', '19490127', 'BONNER ', 'SPRINGS', 'WYANDOTTE', '19700507', 'KS']\n",
      "['Y WILSON MICHAEL LUND', 'ARMY', '2LT', '19450403', 'HUTCHINSON', 'RENO', '19680603', 'Y', 'KS']\n",
      "['WILSON RODNEY DAVID', 'ARMY', 'PFC', '19490928', 'TOPEKA', 'SHAWNEE', '19690703', 'Y', 'KS']\n",
      "['WINDLE PAUL RALPH', 'AIR FORCE', 'CAPT', '19341114', 'MULLINVILLE', 'KIOWA', '19650630', 'Y', 'KS']\n",
      "['WINN DONALD DEAN', 'ARMY', 'SP4', '19440806', 'EUREKA', 'GREENWOOD', '19710101', 'Y', 'KS']\n",
      "['WINNINGHAM CLIFTON', 'ARMY', 'PSG', '19301122', 'JUNCTION CITY', 'GEARY', '19660305', 'Y', 'KS']\n",
      "['WINTERS JOHN EDWARD', 'NAVY', 'PO1', '19370226', 'LIBERAL', 'SEWARD', '19701030', 'Y', 'KS']\n",
      "['WISWELL SAMMY RAY', 'ARMY', 'SSG', '19410904', 'OTTAWA', 'FRANKLIN', '19661119', 'Y', 'KS']\n",
      "['WOLFE RICHARD OGDEN', 'NAVY', 'PO1', '19421108', 'KANSAS CITY', 'WYANDOTTE', '19691130', 'Y', 'KS']\n",
      "['WOOD LLOYD JOSEPH SR', 'ARMY', 'SFC', '19340323', 'INDEPENDENCE', 'MONTGOMERY', '19690430', 'Y', 'KS']\n",
      "['WOODY WILLARD  EVERETT', 'ARMY', 'SP4', '19500728', 'GARLAND', 'BOURBON', '19710109', 'Y', 'KS']\n",
      "['WRIGHT RICHARD HUGH', 'MARINE CORPS', 'PFC', '19440814', 'HALSTEAD', 'HARVEY', '19660402', 'Y', 'KS']\n",
      "['WYRICK MICHAEL ALLEN', 'MARINE CORPS', 'PFC', '19481122', 'EDWARDSVILL', 'E', 'WYANDOTTE', '19671021', 'KS']\n",
      "['Y ZELLER MICHAEL ', 'CHARLES', 'ARMY', 'SP4', '19470902', 'WAMEGO', 'POTTAWATOMI', 'E', 'KS']\n",
      "['19680225 Y', 'ZUTTERMAN JOSEPH A JR', 'MARINE CORPS', 'SGT', '19441003', 'MARYSVILLE', 'MARSHALL', '19680420', 'KS']\n"
     ]
    },
    {
     "ename": "IndexError",
     "evalue": "list index out of range",
     "output_type": "error",
     "traceback": [
      "\u001b[0;31m---------------------------------------------------------------------------\u001b[0m",
      "\u001b[0;31mIndexError\u001b[0m                                Traceback (most recent call last)",
      "\u001b[0;32m<ipython-input-29-11cc46f0f956>\u001b[0m in \u001b[0;36m<module>\u001b[0;34m\u001b[0m\n\u001b[0;32m----> 1\u001b[0;31m \u001b[0mTS_prep_for_df\u001b[0m\u001b[0;34m(\u001b[0m\u001b[0mks_data\u001b[0m\u001b[0;34m,\u001b[0m \u001b[0;34m'KS'\u001b[0m\u001b[0;34m)\u001b[0m\u001b[0;34m\u001b[0m\u001b[0;34m\u001b[0m\u001b[0m\n\u001b[0m",
      "\u001b[0;32m<ipython-input-28-0d8953bc2dd8>\u001b[0m in \u001b[0;36mTS_prep_for_df\u001b[0;34m(data_in_list, state)\u001b[0m\n\u001b[1;32m      9\u001b[0m     \u001b[0;32mwhile\u001b[0m \u001b[0mcounter\u001b[0m \u001b[0;34m>\u001b[0m \u001b[0;36m0\u001b[0m\u001b[0;34m:\u001b[0m\u001b[0;34m\u001b[0m\u001b[0;34m\u001b[0m\u001b[0m\n\u001b[1;32m     10\u001b[0m \u001b[0;34m\u001b[0m\u001b[0m\n\u001b[0;32m---> 11\u001b[0;31m         \u001b[0;32mif\u001b[0m \u001b[0mbig_long_list\u001b[0m\u001b[0;34m[\u001b[0m\u001b[0;36m1\u001b[0m\u001b[0;34m]\u001b[0m \u001b[0;32mnot\u001b[0m \u001b[0;32min\u001b[0m \u001b[0mmilitary\u001b[0m\u001b[0;34m:\u001b[0m\u001b[0;34m\u001b[0m\u001b[0;34m\u001b[0m\u001b[0m\n\u001b[0m\u001b[1;32m     12\u001b[0m \u001b[0;34m\u001b[0m\u001b[0m\n\u001b[1;32m     13\u001b[0m             \u001b[0mbig_long_list\u001b[0m\u001b[0;34m[\u001b[0m\u001b[0;36m0\u001b[0m\u001b[0;34m]\u001b[0m \u001b[0;34m=\u001b[0m \u001b[0mbig_long_list\u001b[0m\u001b[0;34m[\u001b[0m\u001b[0;36m0\u001b[0m\u001b[0;34m]\u001b[0m \u001b[0;34m+\u001b[0m \u001b[0;34m' '\u001b[0m \u001b[0;34m+\u001b[0m \u001b[0mbig_long_list\u001b[0m\u001b[0;34m[\u001b[0m\u001b[0;36m1\u001b[0m\u001b[0;34m]\u001b[0m\u001b[0;34m\u001b[0m\u001b[0;34m\u001b[0m\u001b[0m\n",
      "\u001b[0;31mIndexError\u001b[0m: list index out of range"
     ]
    }
   ],
   "source": [
    "TS_prep_for_df(ks_data, 'KS')"
   ]
  },
  {
   "cell_type": "markdown",
   "metadata": {},
   "source": [
    "Well I found the error. It looks like if the county or city name was too long, they also created a newline for it. It efforts to account for all this, I will alter my `scrape_pdf` function.\n",
    "\n",
    "After some delibration, I couldn't find a way to tell the difference between the records that contained a newline on the `county` record or on the `home` record. These records will have to be seperately dealt with. Since county data can be more easily grouped, I will condense on the `home` records in hopes that the county names are all one liners. I will gather lists of counties in all states to verify that data when I proceede later on."
   ]
  },
  {
   "cell_type": "code",
   "execution_count": 30,
   "metadata": {},
   "outputs": [],
   "source": [
    "def TS_prep_for_df(data_in_list, state):  #Takes in a list and the state, as a string. It will return a list of lists.\n",
    "    \n",
    "    big_long_list = data_in_list.copy()    #Making a deep copy, so I don't effect the underlying list. \n",
    "    output = []\n",
    "    counter = len(big_long_list)\n",
    "\n",
    "    while counter > 0:\n",
    "        \n",
    "        #This loop checks if there is newline in the name line\n",
    "        \n",
    "        if big_long_list[1] not in military:\n",
    "\n",
    "            big_long_list[0] = big_long_list[0] + big_long_list[1]\n",
    "            \n",
    "            big_long_list.remove(big_long_list[1])\n",
    "            \n",
    "        #New code to account for the new lines in the home and county entries \n",
    "        #This checks the list to see if any new lines are present\n",
    "        try:\n",
    "            int(big_long_list[6])\n",
    "            \n",
    "        except ValueError:\n",
    "            \n",
    "            #If there are two newlines, one in home and one in county, this will be taken care of here\n",
    "            try:\n",
    "                int(big_long_list[7])\n",
    "                \n",
    "            except ValueError:\n",
    "                big_long_list[5] = big_long_list[5] + big_long_list[6]\n",
    "                del big_long_list[6]\n",
    "                \n",
    "            #If there is only one newline, this will put the middle entry into the home cell\n",
    "            try:\n",
    "                int(big_long_list[6])\n",
    "                \n",
    "            except ValueError:\n",
    "                big_long_list[4] = big_long_list[4] + big_long_list[5]\n",
    "                del big_long_list[5]\n",
    "        \n",
    "        place_holder = big_long_list[:8]\n",
    "        \n",
    "        \n",
    "        place_holder.append(state)\n",
    "        \n",
    "        output.append(place_holder)\n",
    "        \n",
    "        del big_long_list[:8]\n",
    "        counter = len(big_long_list)\n",
    "    \n",
    "    return(output)"
   ]
  },
  {
   "cell_type": "code",
   "execution_count": 31,
   "metadata": {},
   "outputs": [
    {
     "data": {
      "text/plain": [
       "['ZELLER MICHAEL CHARLES',\n",
       " 'ARMY',\n",
       " 'SP4',\n",
       " '19470902',\n",
       " 'WAMEGOPOTTAWATOMI',\n",
       " 'E',\n",
       " '19680225',\n",
       " 'Y',\n",
       " 'KS']"
      ]
     },
     "execution_count": 31,
     "metadata": {},
     "output_type": "execute_result"
    }
   ],
   "source": [
    "to_inspect = TS_prep_for_df(ks_data, 'KS')\n",
    "to_inspect[-2]"
   ]
  },
  {
   "cell_type": "markdown",
   "metadata": {},
   "source": [
    "So it worked, mostly. The above is an example of where my solution fails. The next iteration of this function should reference the counties, per state, and verify if the name is correct. I am going to move forward at this point. I am going to formalize the `prep_for_df` function and see if I can put it altogether."
   ]
  },
  {
   "cell_type": "code",
   "execution_count": 32,
   "metadata": {},
   "outputs": [],
   "source": [
    "def prep_for_df(data_in_list, state):  #Takes in a list and the state, as a string. It will return a list of lists.\n",
    "    \n",
    "    big_long_list = data_in_list.copy()    #Making a deep copy, so I don't effect the underlying list. \n",
    "    output = []\n",
    "    counter = len(big_long_list)\n",
    "\n",
    "    while counter > 0:\n",
    "        \n",
    "        #This loop checks if there is newline in the name line\n",
    "        \n",
    "        if big_long_list[1] not in military:\n",
    "\n",
    "            big_long_list[0] = big_long_list[0] + big_long_list[1]\n",
    "            \n",
    "            big_long_list.remove(big_long_list[1])\n",
    "            \n",
    "        #New code to account for the new lines in the home and county entries \n",
    "        #This checks the list to see if any new lines are present\n",
    "        try:\n",
    "            int(big_long_list[6])\n",
    "            \n",
    "        except ValueError:\n",
    "            \n",
    "            #If there are two newlines, one in home and one in county, this will be taken care of here\n",
    "            try:\n",
    "                int(big_long_list[7])\n",
    "                \n",
    "            except ValueError:\n",
    "                big_long_list[5] = big_long_list[5] + big_long_list[6]\n",
    "                del big_long_list[6]\n",
    "                \n",
    "            #If there is only one newline, this will put the middle entry into the home cell\n",
    "            try:\n",
    "                int(big_long_list[6])\n",
    "                \n",
    "            except ValueError:\n",
    "                big_long_list[4] = big_long_list[4] + big_long_list[5]\n",
    "                del big_long_list[5]\n",
    "        \n",
    "        place_holder = big_long_list[:8]\n",
    "        \n",
    "        \n",
    "        place_holder.append(state)\n",
    "        \n",
    "        output.append(place_holder)\n",
    "        \n",
    "        del big_long_list[:8]\n",
    "        counter = len(big_long_list)\n",
    "    \n",
    "    return(output)"
   ]
  },
  {
   "cell_type": "markdown",
   "metadata": {},
   "source": [
    "Another trial of it all together."
   ]
  },
  {
   "cell_type": "code",
   "execution_count": 33,
   "metadata": {},
   "outputs": [],
   "source": [
    "df_list = []\n",
    "\n",
    "for pdf in pdf_paths:\n",
    "    \n",
    "    state = str(pdf[11:13].upper())\n",
    "    \n",
    "    place_holder = scrape_pdf(pdf)\n",
    "    \n",
    "    data = prep_for_df(place_holder, state)\n",
    "    \n",
    "    df_list.append(pd.DataFrame(data, columns = ['name', 'service', 'rank_rate', 'birthdate', 'home_city', 'home_county', 'incident_death', 'body_rec', 'state']))"
   ]
  },
  {
   "cell_type": "code",
   "execution_count": 34,
   "metadata": {},
   "outputs": [
    {
     "data": {
      "text/plain": [
       "51"
      ]
     },
     "execution_count": 34,
     "metadata": {},
     "output_type": "execute_result"
    }
   ],
   "source": [
    "len(df_list)"
   ]
  },
  {
   "cell_type": "markdown",
   "metadata": {},
   "source": [
    "Now combine them all"
   ]
  },
  {
   "cell_type": "code",
   "execution_count": 35,
   "metadata": {},
   "outputs": [],
   "source": [
    "state_records = pd.concat(df_list)"
   ]
  },
  {
   "cell_type": "code",
   "execution_count": 36,
   "metadata": {},
   "outputs": [
    {
     "data": {
      "text/plain": [
       "(57646, 9)"
      ]
     },
     "execution_count": 36,
     "metadata": {},
     "output_type": "execute_result"
    }
   ],
   "source": [
    "state_records.shape"
   ]
  },
  {
   "cell_type": "code",
   "execution_count": 37,
   "metadata": {},
   "outputs": [
    {
     "data": {
      "text/plain": [
       "CA    5572\n",
       "NY    4118\n",
       "TX    3415\n",
       "PA    3147\n",
       "OH    3093\n",
       "IL    2935\n",
       "MI    2656\n",
       "FL    1954\n",
       "NC    1612\n",
       "GA    1581\n",
       "IN    1534\n",
       "NJ    1487\n",
       "MO    1417\n",
       "MA    1331\n",
       "VA    1304\n",
       "TN    1295\n",
       "AL    1208\n",
       "WI    1160\n",
       "MN    1077\n",
       "KY    1055\n",
       "WA    1047\n",
       "MD    1013\n",
       "OK     986\n",
       "SC     895\n",
       "LA     885\n",
       "IA     851\n",
       "WV     733\n",
       "OR     710\n",
       "MS     636\n",
       "KS     627\n",
       "CO     623\n",
       "AZ     619\n",
       "CT     612\n",
       "AR     591\n",
       "NE     396\n",
       "NM     395\n",
       "UT     361\n",
       "ME     341\n",
       "HI     276\n",
       "MT     267\n",
       "DC     242\n",
       "NH     226\n",
       "ID     217\n",
       "RI     209\n",
       "ND     199\n",
       "SD     192\n",
       "NV     149\n",
       "DE     122\n",
       "WY     118\n",
       "VT     100\n",
       "AK      57\n",
       "Name: state, dtype: int64"
      ]
     },
     "execution_count": 37,
     "metadata": {},
     "output_type": "execute_result"
    }
   ],
   "source": [
    "state_records.state.value_counts()"
   ]
  },
  {
   "cell_type": "code",
   "execution_count": 43,
   "metadata": {},
   "outputs": [],
   "source": [
    "#state_records.to_pickle('states_df')\n",
    "state_records = pd.read_pickle('states_df')"
   ]
  },
  {
   "cell_type": "code",
   "execution_count": 44,
   "metadata": {},
   "outputs": [
    {
     "data": {
      "text/html": [
       "<div>\n",
       "<style scoped>\n",
       "    .dataframe tbody tr th:only-of-type {\n",
       "        vertical-align: middle;\n",
       "    }\n",
       "\n",
       "    .dataframe tbody tr th {\n",
       "        vertical-align: top;\n",
       "    }\n",
       "\n",
       "    .dataframe thead th {\n",
       "        text-align: right;\n",
       "    }\n",
       "</style>\n",
       "<table border=\"1\" class=\"dataframe\">\n",
       "  <thead>\n",
       "    <tr style=\"text-align: right;\">\n",
       "      <th></th>\n",
       "      <th>name</th>\n",
       "      <th>service</th>\n",
       "      <th>rank_rate</th>\n",
       "      <th>birthdate</th>\n",
       "      <th>home_city</th>\n",
       "      <th>home_county</th>\n",
       "      <th>incident_death</th>\n",
       "      <th>body_rec</th>\n",
       "      <th>state</th>\n",
       "    </tr>\n",
       "  </thead>\n",
       "  <tbody>\n",
       "    <tr>\n",
       "      <th>0</th>\n",
       "      <td>ABDELLAH BRUCE ALLYN</td>\n",
       "      <td>ARMY</td>\n",
       "      <td>PVT</td>\n",
       "      <td>19521215</td>\n",
       "      <td>EAST HOLDEN</td>\n",
       "      <td>PENOBSCOT</td>\n",
       "      <td>19711026</td>\n",
       "      <td>Y</td>\n",
       "      <td>ME</td>\n",
       "    </tr>\n",
       "    <tr>\n",
       "      <th>1</th>\n",
       "      <td>ALBERT LOUIS BASIL JR</td>\n",
       "      <td>MARINE CORPS</td>\n",
       "      <td>PFC</td>\n",
       "      <td>19480928</td>\n",
       "      <td>DANFORTH</td>\n",
       "      <td>WASHINGTON</td>\n",
       "      <td>19691008</td>\n",
       "      <td>Y</td>\n",
       "      <td>ME</td>\n",
       "    </tr>\n",
       "    <tr>\n",
       "      <th>2</th>\n",
       "      <td>ALBERT RICHARD PATRICK</td>\n",
       "      <td>ARMY</td>\n",
       "      <td>CPL</td>\n",
       "      <td>19480317</td>\n",
       "      <td>ST AGATHA</td>\n",
       "      <td>AROOSTOOK</td>\n",
       "      <td>19690820</td>\n",
       "      <td>Y</td>\n",
       "      <td>ME</td>\n",
       "    </tr>\n",
       "    <tr>\n",
       "      <th>3</th>\n",
       "      <td>ALEXANDER DAVID HAROLD</td>\n",
       "      <td>ARMY</td>\n",
       "      <td>SP4</td>\n",
       "      <td>19480118</td>\n",
       "      <td>SANFORD</td>\n",
       "      <td>YORK</td>\n",
       "      <td>19681216</td>\n",
       "      <td>Y</td>\n",
       "      <td>ME</td>\n",
       "    </tr>\n",
       "    <tr>\n",
       "      <th>4</th>\n",
       "      <td>ALLEN KEITH DOBSON JR</td>\n",
       "      <td>ARMY</td>\n",
       "      <td>CW2</td>\n",
       "      <td>19461209</td>\n",
       "      <td>WESTFIELD</td>\n",
       "      <td>AROOSTOOK</td>\n",
       "      <td>19690413</td>\n",
       "      <td>Y</td>\n",
       "      <td>ME</td>\n",
       "    </tr>\n",
       "  </tbody>\n",
       "</table>\n",
       "</div>"
      ],
      "text/plain": [
       "                     name       service rank_rate birthdate    home_city  \\\n",
       "0    ABDELLAH BRUCE ALLYN          ARMY       PVT  19521215  EAST HOLDEN   \n",
       "1   ALBERT LOUIS BASIL JR  MARINE CORPS       PFC  19480928     DANFORTH   \n",
       "2  ALBERT RICHARD PATRICK          ARMY       CPL  19480317    ST AGATHA   \n",
       "3  ALEXANDER DAVID HAROLD          ARMY       SP4  19480118      SANFORD   \n",
       "4   ALLEN KEITH DOBSON JR          ARMY       CW2  19461209    WESTFIELD   \n",
       "\n",
       "  home_county incident_death body_rec state  \n",
       "0   PENOBSCOT       19711026        Y    ME  \n",
       "1  WASHINGTON       19691008        Y    ME  \n",
       "2   AROOSTOOK       19690820        Y    ME  \n",
       "3        YORK       19681216        Y    ME  \n",
       "4   AROOSTOOK       19690413        Y    ME  "
      ]
     },
     "execution_count": 44,
     "metadata": {},
     "output_type": "execute_result"
    }
   ],
   "source": [
    "state_records.head()"
   ]
  },
  {
   "cell_type": "markdown",
   "metadata": {},
   "source": [
    "Another document take from the National Archives."
   ]
  },
  {
   "cell_type": "code",
   "execution_count": 51,
   "metadata": {},
   "outputs": [
    {
     "data": {
      "text/html": [
       "<div>\n",
       "<style scoped>\n",
       "    .dataframe tbody tr th:only-of-type {\n",
       "        vertical-align: middle;\n",
       "    }\n",
       "\n",
       "    .dataframe tbody tr th {\n",
       "        vertical-align: top;\n",
       "    }\n",
       "\n",
       "    .dataframe thead th {\n",
       "        text-align: right;\n",
       "    }\n",
       "</style>\n",
       "<table border=\"1\" class=\"dataframe\">\n",
       "  <thead>\n",
       "    <tr style=\"text-align: right;\">\n",
       "      <th></th>\n",
       "      <th>0</th>\n",
       "      <th>1</th>\n",
       "      <th>2</th>\n",
       "      <th>3</th>\n",
       "      <th>4</th>\n",
       "      <th>5</th>\n",
       "      <th>6</th>\n",
       "      <th>7</th>\n",
       "      <th>8</th>\n",
       "      <th>9</th>\n",
       "      <th>...</th>\n",
       "      <th>45</th>\n",
       "      <th>46</th>\n",
       "      <th>47</th>\n",
       "      <th>48</th>\n",
       "      <th>49</th>\n",
       "      <th>50</th>\n",
       "      <th>51</th>\n",
       "      <th>52</th>\n",
       "      <th>53</th>\n",
       "      <th>54</th>\n",
       "    </tr>\n",
       "  </thead>\n",
       "  <tbody>\n",
       "    <tr>\n",
       "      <th>0</th>\n",
       "      <td>503503584</td>\n",
       "      <td>Y</td>\n",
       "      <td>S</td>\n",
       "      <td>SELECTED SERVICE</td>\n",
       "      <td>AADLAND GERALD L</td>\n",
       "      <td>A</td>\n",
       "      <td>ARMY</td>\n",
       "      <td>SP4</td>\n",
       "      <td>E04</td>\n",
       "      <td>11B</td>\n",
       "      <td>...</td>\n",
       "      <td>SMALL ARMS FIRE</td>\n",
       "      <td>NaN</td>\n",
       "      <td>Y</td>\n",
       "      <td>BURIED - UNKNOWN DISP</td>\n",
       "      <td>63W 014</td>\n",
       "      <td>NaN</td>\n",
       "      <td>NaN</td>\n",
       "      <td>NaN</td>\n",
       "      <td>NaN</td>\n",
       "      <td>NaN</td>\n",
       "    </tr>\n",
       "    <tr>\n",
       "      <th>1</th>\n",
       "      <td>465720672</td>\n",
       "      <td>Y</td>\n",
       "      <td>S</td>\n",
       "      <td>SELECTED SERVICE</td>\n",
       "      <td>AALUND JAMES DOWNING</td>\n",
       "      <td>A</td>\n",
       "      <td>ARMY</td>\n",
       "      <td>SGT</td>\n",
       "      <td>E05</td>\n",
       "      <td>11B</td>\n",
       "      <td>...</td>\n",
       "      <td>ARTILLERY/MORTAR/ROCKET</td>\n",
       "      <td>NaN</td>\n",
       "      <td>Y</td>\n",
       "      <td>BURIED - UNKNOWN DISP</td>\n",
       "      <td>13W 066</td>\n",
       "      <td>NaN</td>\n",
       "      <td>NaN</td>\n",
       "      <td>NaN</td>\n",
       "      <td>NaN</td>\n",
       "      <td>NaN</td>\n",
       "    </tr>\n",
       "    <tr>\n",
       "      <th>2</th>\n",
       "      <td>473635900</td>\n",
       "      <td>R</td>\n",
       "      <td>K</td>\n",
       "      <td>ACTIVE - REGULAR</td>\n",
       "      <td>AAMOLD DANIEL LAWRENCE</td>\n",
       "      <td>F</td>\n",
       "      <td>AIR FORCE</td>\n",
       "      <td>A1C</td>\n",
       "      <td>E03</td>\n",
       "      <td></td>\n",
       "      <td>...</td>\n",
       "      <td>OTHER ACCIDENT</td>\n",
       "      <td>NaN</td>\n",
       "      <td>Y</td>\n",
       "      <td>BURIED - UNKNOWN DISP</td>\n",
       "      <td>08W 124</td>\n",
       "      <td>NaN</td>\n",
       "      <td>NaN</td>\n",
       "      <td>NaN</td>\n",
       "      <td>NaN</td>\n",
       "      <td>NaN</td>\n",
       "    </tr>\n",
       "    <tr>\n",
       "      <th>3</th>\n",
       "      <td>2221574</td>\n",
       "      <td>Y</td>\n",
       "      <td>S</td>\n",
       "      <td>SELECTED SERVICE</td>\n",
       "      <td>AARDE JAMES RAYMOND</td>\n",
       "      <td>M</td>\n",
       "      <td>MARINE CORPS</td>\n",
       "      <td>LCPL</td>\n",
       "      <td>E03</td>\n",
       "      <td>0311</td>\n",
       "      <td>...</td>\n",
       "      <td>EXPLOSIVE DEVICE</td>\n",
       "      <td>NaN</td>\n",
       "      <td>Y</td>\n",
       "      <td>BURIED - UNKNOWN DISP</td>\n",
       "      <td>13E 095</td>\n",
       "      <td>WOUNDED IN ACTION (VERY SERIOUS)</td>\n",
       "      <td>0.0</td>\n",
       "      <td>WIA</td>\n",
       "      <td>H</td>\n",
       "      <td>NaN</td>\n",
       "    </tr>\n",
       "    <tr>\n",
       "      <th>4</th>\n",
       "      <td>025368444</td>\n",
       "      <td>Y</td>\n",
       "      <td>S</td>\n",
       "      <td>SELECTED SERVICE</td>\n",
       "      <td>AARON CHARLES EDWARD</td>\n",
       "      <td>A</td>\n",
       "      <td>ARMY</td>\n",
       "      <td>SP4</td>\n",
       "      <td>E04</td>\n",
       "      <td>11B</td>\n",
       "      <td>...</td>\n",
       "      <td>GRENADE</td>\n",
       "      <td>NaN</td>\n",
       "      <td>Y</td>\n",
       "      <td>BURIED - UNKNOWN DISP</td>\n",
       "      <td>11W 098</td>\n",
       "      <td>NaN</td>\n",
       "      <td>NaN</td>\n",
       "      <td>NaN</td>\n",
       "      <td>NaN</td>\n",
       "      <td>NaN</td>\n",
       "    </tr>\n",
       "  </tbody>\n",
       "</table>\n",
       "<p>5 rows × 55 columns</p>\n",
       "</div>"
      ],
      "text/plain": [
       "          0  1  2                 3                       4  5             6   \\\n",
       "0  503503584  Y  S  SELECTED SERVICE        AADLAND GERALD L  A          ARMY   \n",
       "1  465720672  Y  S  SELECTED SERVICE    AALUND JAMES DOWNING  A          ARMY   \n",
       "2  473635900  R  K  ACTIVE - REGULAR  AAMOLD DANIEL LAWRENCE  F     AIR FORCE   \n",
       "3    2221574  Y  S  SELECTED SERVICE     AARDE JAMES RAYMOND  M  MARINE CORPS   \n",
       "4  025368444  Y  S  SELECTED SERVICE    AARON CHARLES EDWARD  A          ARMY   \n",
       "\n",
       "     7    8       9   ...                       45  46 47  \\\n",
       "0   SP4  E04     11B  ...          SMALL ARMS FIRE NaN  Y   \n",
       "1   SGT  E05     11B  ...  ARTILLERY/MORTAR/ROCKET NaN  Y   \n",
       "2   A1C  E03          ...           OTHER ACCIDENT NaN  Y   \n",
       "3  LCPL  E03    0311  ...         EXPLOSIVE DEVICE NaN  Y   \n",
       "4   SP4  E04     11B  ...                  GRENADE NaN  Y   \n",
       "\n",
       "                      48       49                                50   51   52  \\\n",
       "0  BURIED - UNKNOWN DISP  63W 014                               NaN  NaN  NaN   \n",
       "1  BURIED - UNKNOWN DISP  13W 066                               NaN  NaN  NaN   \n",
       "2  BURIED - UNKNOWN DISP  08W 124                               NaN  NaN  NaN   \n",
       "3  BURIED - UNKNOWN DISP  13E 095  WOUNDED IN ACTION (VERY SERIOUS)  0.0  WIA   \n",
       "4  BURIED - UNKNOWN DISP  11W 098                               NaN  NaN  NaN   \n",
       "\n",
       "    53   54  \n",
       "0  NaN  NaN  \n",
       "1  NaN  NaN  \n",
       "2  NaN  NaN  \n",
       "3    H  NaN  \n",
       "4  NaN  NaN  \n",
       "\n",
       "[5 rows x 55 columns]"
      ]
     },
     "execution_count": 51,
     "metadata": {},
     "output_type": "execute_result"
    }
   ],
   "source": [
    "#columns = \n",
    "df_2 = pd.read_csv('DCAS.VN.EXT08.DAT', delimiter = '|', engine='python', header=None)\n",
    "df_2.head()"
   ]
  },
  {
   "cell_type": "code",
   "execution_count": 2,
   "metadata": {},
   "outputs": [
    {
     "data": {
      "text/plain": [
       "81"
      ]
     },
     "execution_count": 2,
     "metadata": {},
     "output_type": "execute_result"
    }
   ],
   "source": [
    "# pdf file object\n",
    "# you can find find the pdf file with complete code in below\n",
    "pdfFileObj = open('state_pdfs/al-alpha.pdf', 'rb')\n",
    "# pdf reader object\n",
    "pdfReader = PyPDF2.PdfFileReader(pdfFileObj)\n",
    "# number of pages in pdf\n",
    "pages = pdfReader.numPages\n",
    "pages"
   ]
  },
  {
   "cell_type": "code",
   "execution_count": 53,
   "metadata": {},
   "outputs": [],
   "source": [
    "pdfFileObj = open('DCAS.VN08.DOC.pdf', 'rb')\n",
    "\n",
    "pdfReader = PyPDF2.PdfFileReader(pdfFileObj)\n",
    "\n",
    "pageObj = pdfReader.getPage(0)\n",
    "\n",
    "pdf_data = pageObj.extractText()"
   ]
  },
  {
   "cell_type": "code",
   "execution_count": 54,
   "metadata": {},
   "outputs": [
    {
     "data": {
      "text/plain": [
       "\"Vietnam Conflict and Korean War File Layout (Pipe (|) Delimited Format)#Column NamesDataTypeDataSizeCoulmn DescriptionFurther Column Description1SERVICE NOText10Service Number\\n2CText1Member Component Code\\n\\n3PTPText1Person Type Name Code\\n\\n4Person Type NameText55Person Type Name\\n\\n5Member NameText40Member Name\\n6SText1Member Service Code\\nA= Army, F = Air Force,M = Marines Corps, N = Navy7Service NameText50Member Service Name\\n8Rank RateText6Member Rank or Rate\\n\\n9PGText3Member Paygrade\\n10OccText6Member Occupation Code\\n\\n11Occupation NameText250Member Occupation Name\\n\\n12Birth DtText8Member BirthdateYYYYMMDD\\n\\n13GText1Member's GenderM = Male, F= Female\\n\\n14Hor CityText50Home of Record City\\n\\n15Hor CountyText50Home of Record County\\n\\n16Hor CtryText2Home of Record Country Code\\n\\n17Hor STText2Home of Record State Code\\n\\n18State Prv NmText50State or Province Name\\n\\n19Marital StatusText50Marital Name\\n\\n20Religion NameText60Religion Short Name\\n\\n21LText2Religion Code\\n\\n22Race NameText120Race Name\\n\\n23Ethnic NameText80Ethnic Short Name\\n\\n24Race OmbText50Race OMB Name\\n\\n25Ethnic Group NameText50Ethnic Group Name\\n\\n26Cas CircumstancesText210Casualty Circumstances\\n\\n27Cas CityText50Casualty City\\n\\n28Cas STText2Casualty State or Province Code\\n\\n29Cas CtryText2Casualty Country/Over Water Code\\n\\n30Cas Region NameText50Region Name\\n\\n31Country Or Water NameText50Country/Over Water Name\\n\\n32Unit NameText100Member Unit\\n\\n33DText1Duty Code\\n\\n34Process DtText8Process DateYYYYMMDD\\n\\n35Death DtText8Incident or Death DateYYYYMMDD\\n1\""
      ]
     },
     "execution_count": 54,
     "metadata": {},
     "output_type": "execute_result"
    }
   ],
   "source": [
    "pdf_data"
   ]
  },
  {
   "cell_type": "code",
   "execution_count": null,
   "metadata": {},
   "outputs": [],
   "source": []
  },
  {
   "cell_type": "markdown",
   "metadata": {},
   "source": [
    "https://www.archives.gov/research/military/vietnam-war/casualty-lists/state-level-alpha.html for state by state\n",
    "\n",
    "https://catalog.archives.gov/id/2240992 for the `.dat` file. Contains a lot of the big stuff."
   ]
  },
  {
   "cell_type": "markdown",
   "metadata": {},
   "source": []
  },
  {
   "cell_type": "markdown",
   "metadata": {},
   "source": []
  },
  {
   "cell_type": "markdown",
   "metadata": {},
   "source": []
  },
  {
   "cell_type": "markdown",
   "metadata": {},
   "source": []
  },
  {
   "cell_type": "markdown",
   "metadata": {},
   "source": []
  },
  {
   "cell_type": "markdown",
   "metadata": {},
   "source": [
    "Testing"
   ]
  },
  {
   "cell_type": "code",
   "execution_count": null,
   "metadata": {},
   "outputs": [],
   "source": [
    "huh = ['asf', 'asd','pqiwr', '452', 'fuck ', ' off', 'no', 'way!', '239', 'lsdf']\n",
    "what = ['asf', 'asd','pqiwr', '452', 'will', 'this', 'work', '918364', 'kjsfd']\n",
    "where = ['asf', 'asd','pqiwr', '452', 'NO', 'MOVEMENT', '918364', 'uhas']"
   ]
  },
  {
   "cell_type": "code",
   "execution_count": null,
   "metadata": {},
   "outputs": [],
   "source": [
    "batch = [huh,what,where]\n",
    "\n",
    "for trial in batch:\n",
    "    \n",
    "    try: \n",
    "        int(trial[6])\n",
    "    \n",
    "    except ValueError:\n",
    "        try:\n",
    "            int(trial[7])\n",
    "        except ValueError:\n",
    "            print('this is the error' + ' ' + trial[7])\n",
    "            trial[5] = trial[5] + trial[6]\n",
    "            del trial[6]\n",
    "    \n",
    "        try:\n",
    "            int(trial[6])\n",
    "        except ValueError:\n",
    "            print('this is the error' + ' ' + trial[6])\n",
    "            trial[4] = trial[4] + trial[5]\n",
    "            del trial[5]\n",
    "\n",
    "batch"
   ]
  },
  {
   "cell_type": "code",
   "execution_count": null,
   "metadata": {},
   "outputs": [],
   "source": []
  }
 ],
 "metadata": {
  "kernelspec": {
   "display_name": "Python 3",
   "language": "python",
   "name": "python3"
  },
  "language_info": {
   "codemirror_mode": {
    "name": "ipython",
    "version": 3
   },
   "file_extension": ".py",
   "mimetype": "text/x-python",
   "name": "python",
   "nbconvert_exporter": "python",
   "pygments_lexer": "ipython3",
   "version": "3.7.3"
  }
 },
 "nbformat": 4,
 "nbformat_minor": 2
}
