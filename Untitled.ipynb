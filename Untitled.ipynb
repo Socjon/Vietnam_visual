{
 "cells": [
  {
   "cell_type": "markdown",
   "metadata": {},
   "source": [
    "Going to practice ripping text from PDFs enable to put them into a database."
   ]
  },
  {
   "cell_type": "code",
   "execution_count": 1,
   "metadata": {},
   "outputs": [],
   "source": [
    "import PyPDF2\n",
    "import re\n",
    "import pandas as pd\n",
    "import numpy as np"
   ]
  },
  {
   "cell_type": "code",
   "execution_count": null,
   "metadata": {},
   "outputs": [],
   "source": []
  },
  {
   "cell_type": "code",
   "execution_count": 2,
   "metadata": {},
   "outputs": [
    {
     "data": {
      "text/plain": [
       "81"
      ]
     },
     "execution_count": 2,
     "metadata": {},
     "output_type": "execute_result"
    }
   ],
   "source": [
    "# pdf file object\n",
    "# you can find find the pdf file with complete code in below\n",
    "pdfFileObj = open('al-alpha.pdf', 'rb')\n",
    "# pdf reader object\n",
    "pdfReader = PyPDF2.PdfFileReader(pdfFileObj)\n",
    "# number of pages in pdf\n",
    "pages = pdfReader.numPages\n",
    "pages"
   ]
  },
  {
   "cell_type": "code",
   "execution_count": 3,
   "metadata": {},
   "outputs": [],
   "source": [
    "pageObj = pdfReader.getPage(0)\n",
    "test = pageObj.extractText()"
   ]
  },
  {
   "cell_type": "code",
   "execution_count": 4,
   "metadata": {},
   "outputs": [
    {
     "data": {
      "text/plain": [
       "'U.S. Military Fatal Casualties of the Vietnam War for \\nHome-State-of-Record: Alabama\\nName\\nService\\nRank / \\nRate\\n   Birthdate \\n(YYYYMMDD)\\nIncident or \\nDeath Date \\n(YYYYMMDD)\\nRemains \\nRecovered\\nHome of Record:\\nCity                  County\\nABRAMS TIMOTHY C JR\\nARMY\\nPFC\\n19461104\\nTUSCALOOSA\\nTUSCALOOSA\\n19670103\\nY\\nABSTON JAMES ESTUS JR\\nARMY\\nPFC\\n19441102\\nCOTTONDALE\\nTUSCALOOSA\\n19670227\\nY\\nACTON MARION \\nFRANKLIN\\nARMY\\nPFC\\n19470901\\nHUNTSVILLE\\nMADISON\\n19660411\\nY\\nADAMS JAMES CONRAD\\nARMY\\nMAJ\\n19381025\\nPHENIX CITY\\nRUSSELL\\n19700501\\nY\\nADAMS SPENCER\\nARMY\\nSSG\\n19340506\\nMOBILE\\nMOBILE\\n19680215\\nY\\nADAMS WALTER LEE\\nARMY\\nPFC\\n19461227\\nMCINTOSH\\nWASHINGTON\\n19670610\\nY\\nADAMSON LARRY ONEAL\\nARMY\\nSP4\\n19460910\\nFAIRFAX\\nCHAMBERS\\n19691003\\nY\\nADDISON ONEAL\\nARMY\\nSP5\\n19270506\\nWEST ENSLEY\\nJEFFERSON\\n19660504\\nY\\nADKISON CARL ELMUS\\nARMY\\nSP4\\n19490531\\nGADSDEN\\nETOWAH\\n19690812\\nY\\nAKINS ADRIAN ALAN\\nARMY\\nSP5\\n19490404\\nCORDOVA\\nWALKER\\n19691025\\nY\\nALEXANDER BOBBY RAY\\nMARINE CORPS\\nCPL\\n19470213\\nDECATUR\\nMORGAN\\n19671116\\nY\\nALEXANDER DAVID J JR\\nARMY\\nPFC\\n19480228\\nANNISTON\\nCALHOUN\\n19680718\\nY\\nALLEN GRANVILLE JOEL \\nJR\\nNAVY\\nPO3\\n19471102\\nBIRMINGHAM\\nJEFFERSON\\n19680523\\nY\\nALLEN JOHNNY JR\\nARMY\\nSP4\\n19470502\\nBIRMINGHAM\\nJEFFERSON\\n19700702\\nY\\nALLEN ROBERT WARREN\\nMARINE CORPS\\nPFC\\n19471005\\nBIRMINGHAM\\nJEFFERSON\\n19651003\\nY\\nALLEN WILLIAM TERRY\\nARMY\\n1LT\\n19450317\\nENTERPRISE\\nCOFFEE\\n19671204\\nY\\nSource of data: the \\nVietnam Conflict Extract Data File, as of April 29, 2008\\n, of the \\nDefense Casualty Analysis System (DCAS) Files\\n, part of Record \\nGroup 330: Records of the Office of the Secretary of Defense.\\nYou can view the full \\nDCAS\\nrecord for an individual named in the list via the Access to Archival Databases resource, or AAD.  The link to the AAD main \\npage is as follows:\\nhttp://www.archives.gov/aad\\nPage 1 of 81\\n'"
      ]
     },
     "execution_count": 4,
     "metadata": {},
     "output_type": "execute_result"
    }
   ],
   "source": [
    "test"
   ]
  },
  {
   "cell_type": "code",
   "execution_count": 5,
   "metadata": {},
   "outputs": [
    {
     "data": {
      "text/plain": [
       "'\\nABRAMS TIMOTHY C JR\\nARMY\\nPFC\\n19461104\\nTUSCALOOSA\\nTUSCALOOSA\\n19670103\\nY\\nABSTON JAMES ESTUS JR\\nARMY\\nPFC\\n19441102\\nCOTTONDALE\\nTUSCALOOSA\\n19670227\\nY\\nACTON MARION \\nFRANKLIN\\nARMY\\nPFC\\n19470901\\nHUNTSVILLE\\nMADISON\\n19660411\\nY\\nADAMS JAMES CONRAD\\nARMY\\nMAJ\\n19381025\\nPHENIX CITY\\nRUSSELL\\n19700501\\nY\\nADAMS SPENCER\\nARMY\\nSSG\\n19340506\\nMOBILE\\nMOBILE\\n19680215\\nY\\nADAMS WALTER LEE\\nARMY\\nPFC\\n19461227\\nMCINTOSH\\nWASHINGTON\\n19670610\\nY\\nADAMSON LARRY ONEAL\\nARMY\\nSP4\\n19460910\\nFAIRFAX\\nCHAMBERS\\n19691003\\nY\\nADDISON ONEAL\\nARMY\\nSP5\\n19270506\\nWEST ENSLEY\\nJEFFERSON\\n19660504\\nY\\nADKISON CARL ELMUS\\nARMY\\nSP4\\n19490531\\nGADSDEN\\nETOWAH\\n19690812\\nY\\nAKINS ADRIAN ALAN\\nARMY\\nSP5\\n19490404\\nCORDOVA\\nWALKER\\n19691025\\nY\\nALEXANDER BOBBY RAY\\nMARINE CORPS\\nCPL\\n19470213\\nDECATUR\\nMORGAN\\n19671116\\nY\\nALEXANDER DAVID J JR\\nARMY\\nPFC\\n19480228\\nANNISTON\\nCALHOUN\\n19680718\\nY\\nALLEN GRANVILLE JOEL \\nJR\\nNAVY\\nPO3\\n19471102\\nBIRMINGHAM\\nJEFFERSON\\n19680523\\nY\\nALLEN JOHNNY JR\\nARMY\\nSP4\\n19470502\\nBIRMINGHAM\\nJEFFERSON\\n19700702\\nY\\nALLEN ROBERT WARREN\\nMARINE CORPS\\nPFC\\n19471005\\nBIRMINGHAM\\nJEFFERSON\\n19651003\\nY\\nALLEN WILLIAM TERRY\\nARMY\\n1LT\\n19450317\\nENTERPRISE\\nCOFFEE\\n19671204\\nY\\nSource of data: the \\nVietnam Conflict Extract Data File, as of April 29, 2008\\n, of the \\nDefense Casualty Analysis System (DCAS) Files\\n, part of Record \\nGroup 330: Records of the Office of the Secretary of Defense.\\nYou can view the full \\nDCAS\\nrecord for an individual named in the list via the Access to Archival Databases resource, or AAD.  The link to the AAD main \\npage is as follows:\\nhttp://www.archives.gov/aad\\nPage 1 of 81\\n'"
      ]
     },
     "execution_count": 5,
     "metadata": {},
     "output_type": "execute_result"
    }
   ],
   "source": [
    "test[235:]"
   ]
  },
  {
   "cell_type": "code",
   "execution_count": 6,
   "metadata": {},
   "outputs": [],
   "source": [
    "pageObj = pdfReader.getPage(1)\n",
    "test2 = pageObj.extractText()"
   ]
  },
  {
   "cell_type": "code",
   "execution_count": 7,
   "metadata": {},
   "outputs": [
    {
     "data": {
      "text/plain": [
       "'\\nALLUMS ALLEN WAYNE\\nARMY\\nSP5\\n19471020\\nENTERPRISE\\nCOFFEE\\n19690506\\nY\\nALLUMS FREDERICK \\nLARRY\\nARMY\\nCPL\\n19471107\\nEMPIRE\\nWALKER\\n19680307\\nY\\nAMBROSE EDWARD\\nARMY\\nSSG\\n19280424\\nGOSPORT\\nCLARKE\\n19690824\\nY\\nANDERSON ROY JR\\nARMY\\nPVT\\n19501224\\nBIRMINGHAM\\nJEFFERSON\\n19701207\\nY\\nANDERSON WILLIAM \\nALLISON\\nARMY\\nSP4\\n19480320\\nMT VERNON\\nMULTIPLE\\n19691106\\nY\\nANDREWS CLIFTON \\nBISHOP\\nMARINE CORPS\\nMAJ\\n19270421\\nFULTON\\nCLARKE\\n19660725\\nY\\nANDREWS COLEY L\\nARMY\\nSGT\\n19410908\\nMOBILE\\nMOBILE\\n19661219\\nY\\nANDREWS HOWARD \\nRIVERS JR\\nARMY\\nCPT\\n19420903\\nHUNTSVILLE\\nMADISON\\n19700417\\nY\\nARD HENRY\\nARMY\\nPSG\\n19270405\\nROBERTSDALE\\nBALDWIN\\n19661031\\nY\\nARNOLD HAROLD\\nMARINE CORPS\\nPFC\\n19471215\\nPRICHARD\\nMOBILE\\n19660908\\nY\\nARRINGTON SAMUEL W \\nJR\\nARMY\\nCPL\\n19460123\\nMONTGOMERY\\nMONTGOMERY\\n19670206\\nY\\nASH JOHN SILVY\\nARMY\\nSP4\\n19400822\\nBIRMINGHAM\\nJEFFERSON\\n19691202\\nY\\nASKEW THOMAS EARL\\nMARINE CORPS\\nSGT\\n19470531\\nMUSCLE \\nSHOALS\\nCOLBERT\\n19691128\\nY\\nAUSBORN DONALD \\nEUGENE\\nARMY\\nSP4\\n19480614\\nHUNTSVILLE\\nMADISON\\n19680812\\nY\\nSource of data: the \\nVietnam Conflict Extract Data File, as of April 29, 2008\\n, of the \\nDefense Casualty Analysis System (DCAS) Files\\n, part of Record \\nGroup 330: Records of the Office of the Secretary of Defense.\\nYou can view the full \\nDCAS\\nrecord for an individual named in the list via the Access to Archival Databases resource, or AAD.  The link to the AAD main \\npage is as follows:\\nhttp://www.archives.gov/aad\\nPage 2 of 81\\n'"
      ]
     },
     "execution_count": 7,
     "metadata": {},
     "output_type": "execute_result"
    }
   ],
   "source": [
    "test2[235:]"
   ]
  },
  {
   "cell_type": "markdown",
   "metadata": {},
   "source": [
    "Now lets remove the trailing bit."
   ]
  },
  {
   "cell_type": "code",
   "execution_count": 8,
   "metadata": {},
   "outputs": [],
   "source": [
    "#pattern = re.compile(r\".*(?=Source)\")   #compiling the pattern before using the flags causes it to thrown an error."
   ]
  },
  {
   "cell_type": "code",
   "execution_count": 9,
   "metadata": {},
   "outputs": [
    {
     "data": {
      "text/plain": [
       "'U.S. Military Fatal Casualties of the Vietnam War for \\nHome-State-of-Record: Alabama\\nName\\nService\\nRank / \\nRate\\n   Birthdate \\n(YYYYMMDD)\\nIncident or \\nDeath Date \\n(YYYYMMDD)\\nRemains \\nRecovered\\nHome of Record:\\nCity                  County\\nABRAMS TIMOTHY C JR\\nARMY\\nPFC\\n19461104\\nTUSCALOOSA\\nTUSCALOOSA\\n19670103\\nY\\nABSTON JAMES ESTUS JR\\nARMY\\nPFC\\n19441102\\nCOTTONDALE\\nTUSCALOOSA\\n19670227\\nY\\nACTON MARION \\nFRANKLIN\\nARMY\\nPFC\\n19470901\\nHUNTSVILLE\\nMADISON\\n19660411\\nY\\nADAMS JAMES CONRAD\\nARMY\\nMAJ\\n19381025\\nPHENIX CITY\\nRUSSELL\\n19700501\\nY\\nADAMS SPENCER\\nARMY\\nSSG\\n19340506\\nMOBILE\\nMOBILE\\n19680215\\nY\\nADAMS WALTER LEE\\nARMY\\nPFC\\n19461227\\nMCINTOSH\\nWASHINGTON\\n19670610\\nY\\nADAMSON LARRY ONEAL\\nARMY\\nSP4\\n19460910\\nFAIRFAX\\nCHAMBERS\\n19691003\\nY\\nADDISON ONEAL\\nARMY\\nSP5\\n19270506\\nWEST ENSLEY\\nJEFFERSON\\n19660504\\nY\\nADKISON CARL ELMUS\\nARMY\\nSP4\\n19490531\\nGADSDEN\\nETOWAH\\n19690812\\nY\\nAKINS ADRIAN ALAN\\nARMY\\nSP5\\n19490404\\nCORDOVA\\nWALKER\\n19691025\\nY\\nALEXANDER BOBBY RAY\\nMARINE CORPS\\nCPL\\n19470213\\nDECATUR\\nMORGAN\\n19671116\\nY\\nALEXANDER DAVID J JR\\nARMY\\nPFC\\n19480228\\nANNISTON\\nCALHOUN\\n19680718\\nY\\nALLEN GRANVILLE JOEL \\nJR\\nNAVY\\nPO3\\n19471102\\nBIRMINGHAM\\nJEFFERSON\\n19680523\\nY\\nALLEN JOHNNY JR\\nARMY\\nSP4\\n19470502\\nBIRMINGHAM\\nJEFFERSON\\n19700702\\nY\\nALLEN ROBERT WARREN\\nMARINE CORPS\\nPFC\\n19471005\\nBIRMINGHAM\\nJEFFERSON\\n19651003\\nY\\nALLEN WILLIAM TERRY\\nARMY\\n1LT\\n19450317\\nENTERPRISE\\nCOFFEE\\n19671204\\nY\\n'"
      ]
     },
     "execution_count": 9,
     "metadata": {},
     "output_type": "execute_result"
    }
   ],
   "source": [
    "m = re.search(r\".*(?=Source)\", test, flags=re.DOTALL) #re.DOTALL - makes the '.' special character match any character at all, including a newline\n",
    "m.group(0)"
   ]
  },
  {
   "cell_type": "markdown",
   "metadata": {},
   "source": [
    "Now lets try putting it all together and see about turning it into a pd.Series"
   ]
  },
  {
   "cell_type": "code",
   "execution_count": 10,
   "metadata": {},
   "outputs": [
    {
     "data": {
      "text/plain": [
       "'ABRAMS TIMOTHY C JR\\nARMY\\nPFC\\n19461104\\nTUSCALOOSA\\nTUSCALOOSA\\n19670103\\nY\\nABSTON JAMES ESTUS JR\\nARMY\\nPFC\\n19441102\\nCOTTONDALE\\nTUSCALOOSA\\n19670227\\nY\\nACTON MARION \\nFRANKLIN\\nARMY\\nPFC\\n19470901\\nHUNTSVILLE\\nMADISON\\n19660411\\nY\\nADAMS JAMES CONRAD\\nARMY\\nMAJ\\n19381025\\nPHENIX CITY\\nRUSSELL\\n19700501\\nY\\nADAMS SPENCER\\nARMY\\nSSG\\n19340506\\nMOBILE\\nMOBILE\\n19680215\\nY\\nADAMS WALTER LEE\\nARMY\\nPFC\\n19461227\\nMCINTOSH\\nWASHINGTON\\n19670610\\nY\\nADAMSON LARRY ONEAL\\nARMY\\nSP4\\n19460910\\nFAIRFAX\\nCHAMBERS\\n19691003\\nY\\nADDISON ONEAL\\nARMY\\nSP5\\n19270506\\nWEST ENSLEY\\nJEFFERSON\\n19660504\\nY\\nADKISON CARL ELMUS\\nARMY\\nSP4\\n19490531\\nGADSDEN\\nETOWAH\\n19690812\\nY\\nAKINS ADRIAN ALAN\\nARMY\\nSP5\\n19490404\\nCORDOVA\\nWALKER\\n19691025\\nY\\nALEXANDER BOBBY RAY\\nMARINE CORPS\\nCPL\\n19470213\\nDECATUR\\nMORGAN\\n19671116\\nY\\nALEXANDER DAVID J JR\\nARMY\\nPFC\\n19480228\\nANNISTON\\nCALHOUN\\n19680718\\nY\\nALLEN GRANVILLE JOEL \\nJR\\nNAVY\\nPO3\\n19471102\\nBIRMINGHAM\\nJEFFERSON\\n19680523\\nY\\nALLEN JOHNNY JR\\nARMY\\nSP4\\n19470502\\nBIRMINGHAM\\nJEFFERSON\\n19700702\\nY\\nALLEN ROBERT WARREN\\nMARINE CORPS\\nPFC\\n19471005\\nBIRMINGHAM\\nJEFFERSON\\n19651003\\nY\\nALLEN WILLIAM TERRY\\nARMY\\n1LT\\n19450317\\nENTERPRISE\\nCOFFEE\\n19671204\\nY\\n'"
      ]
     },
     "execution_count": 10,
     "metadata": {},
     "output_type": "execute_result"
    }
   ],
   "source": [
    "trail = test[236:] #Removes the top of the document.\n",
    "m = re.search(r\".*(?=Source)\", trail, flags=re.DOTALL) #re.DOTALL - makes the '.' special character match any character at all, including a newline\n",
    "trial = m.group(0)\n",
    "trial"
   ]
  },
  {
   "cell_type": "code",
   "execution_count": 11,
   "metadata": {},
   "outputs": [
    {
     "name": "stdout",
     "output_type": "stream",
     "text": [
      "130\n"
     ]
    },
    {
     "data": {
      "text/plain": [
       "['ABRAMS TIMOTHY C JR',\n",
       " 'ARMY',\n",
       " 'PFC',\n",
       " '19461104',\n",
       " 'TUSCALOOSA',\n",
       " 'TUSCALOOSA',\n",
       " '19670103',\n",
       " 'Y',\n",
       " 'ABSTON JAMES ESTUS JR',\n",
       " 'ARMY']"
      ]
     },
     "execution_count": 11,
     "metadata": {},
     "output_type": "execute_result"
    }
   ],
   "source": [
    "state_list = trial.splitlines()\n",
    "print(len(state_list))\n",
    "state_list[:10]"
   ]
  },
  {
   "cell_type": "code",
   "execution_count": 12,
   "metadata": {},
   "outputs": [
    {
     "data": {
      "text/html": [
       "<div>\n",
       "<style scoped>\n",
       "    .dataframe tbody tr th:only-of-type {\n",
       "        vertical-align: middle;\n",
       "    }\n",
       "\n",
       "    .dataframe tbody tr th {\n",
       "        vertical-align: top;\n",
       "    }\n",
       "\n",
       "    .dataframe thead th {\n",
       "        text-align: right;\n",
       "    }\n",
       "</style>\n",
       "<table border=\"1\" class=\"dataframe\">\n",
       "  <thead>\n",
       "    <tr style=\"text-align: right;\">\n",
       "      <th></th>\n",
       "      <th>name</th>\n",
       "      <th>service</th>\n",
       "      <th>rank_rate</th>\n",
       "      <th>birthdate</th>\n",
       "      <th>home_city</th>\n",
       "      <th>home_county</th>\n",
       "      <th>incident_death</th>\n",
       "      <th>body_rec</th>\n",
       "      <th>state</th>\n",
       "    </tr>\n",
       "  </thead>\n",
       "  <tbody>\n",
       "  </tbody>\n",
       "</table>\n",
       "</div>"
      ],
      "text/plain": [
       "Empty DataFrame\n",
       "Columns: [name, service, rank_rate, birthdate, home_city, home_county, incident_death, body_rec, state]\n",
       "Index: []"
      ]
     },
     "execution_count": 12,
     "metadata": {},
     "output_type": "execute_result"
    }
   ],
   "source": [
    "columns = ['name', 'service', 'rank_rate', 'birthdate', 'home_city', 'home_county', 'incident_death', 'body_rec', 'state']\n",
    "states_df = pd.DataFrame(columns=columns)\n",
    "states_df.head()"
   ]
  },
  {
   "cell_type": "markdown",
   "metadata": {},
   "source": [
    "The plan is to chunk the data into the appropitate sizes then put in into the dataframe. Since there is going to be one more column than what is actaully in the list, I will have to work around that issue."
   ]
  },
  {
   "cell_type": "code",
   "execution_count": null,
   "metadata": {},
   "outputs": [],
   "source": []
  },
  {
   "cell_type": "code",
   "execution_count": null,
   "metadata": {},
   "outputs": [],
   "source": []
  },
  {
   "cell_type": "markdown",
   "metadata": {},
   "source": [
    "OK, now lets make a function that goes through each PDF to scrape the data. I will use the function above to put the data into the proper column. Then I will embed that into a loop that will go through all the PDFs in the folder."
   ]
  },
  {
   "cell_type": "code",
   "execution_count": 13,
   "metadata": {},
   "outputs": [],
   "source": [
    "def scrape_pdf(pdf_file): #Accepts in a PDF and returns the text of the PDF broken at newlines.\n",
    "    \n",
    "    pdfFileObj = open(pdf_file, 'rb')               #Opens file\n",
    "    pdfReader = PyPDF2.PdfFileReader(pdfFileObj)    #Reads the file\n",
    "    pages = pdfReader.numPages                      #Gets the number of pages to cycle through\n",
    "    \n",
    "    counter = 0\n",
    "    data_list = []\n",
    "    \n",
    "    while counter < pages:\n",
    "        \n",
    "        pageObj = pdfReader.getPage(counter)\n",
    "        text = pageObj.extractText()\n",
    "        \n",
    "        text = text[236:]                                     #Removes the head of the document. The next line removed the tail of the document.\n",
    "        m = re.search(r\".*(?=Source)\", text, flags=re.DOTALL) #re.DOTALL - makes the '.' special character match any character at all, including a newline\n",
    "        data = m.group(0)\n",
    "        data_list.extend(data.splitlines())\n",
    "        \n",
    "        counter += 1\n",
    "        \n",
    "    data_list.pop() #The last thing at the end of the PDF is some text. Removing it will make it easier to deal with the data.    \n",
    "    return (data_list)"
   ]
  },
  {
   "cell_type": "markdown",
   "metadata": {},
   "source": [
    "Now lets check if my function worked."
   ]
  },
  {
   "cell_type": "code",
   "execution_count": 125,
   "metadata": {},
   "outputs": [
    {
     "data": {
      "text/plain": [
       "10043"
      ]
     },
     "execution_count": 125,
     "metadata": {},
     "output_type": "execute_result"
    }
   ],
   "source": [
    "temp = scrape_pdf('al-alpha.pdf')\n",
    "len(temp)"
   ]
  },
  {
   "cell_type": "code",
   "execution_count": 78,
   "metadata": {},
   "outputs": [
    {
     "data": {
      "text/plain": [
       "1434.7142857142858"
      ]
     },
     "execution_count": 78,
     "metadata": {},
     "output_type": "execute_result"
    }
   ],
   "source": [
    "10043/7"
   ]
  },
  {
   "cell_type": "markdown",
   "metadata": {},
   "source": [
    "There seems to be an issue. Had this worked properly, the above number should 1208 or at least a whole number. After reviewing the PDF, there is a newline character after some of the names. The following entry in the data is the `service` type. \n",
    "\n",
    "Since there is a limited number of military services, I will loop through the data checking the preceeding entires after the `name` column. If a name is broken into two lines, I will merge them into one. As long as the first entry is correct, this process will work for all the PDFs."
   ]
  },
  {
   "cell_type": "code",
   "execution_count": 76,
   "metadata": {},
   "outputs": [],
   "source": [
    "military = ['ARMY', 'NAVY', 'MARINE CORPS', 'AIR FORCE']"
   ]
  },
  {
   "cell_type": "code",
   "execution_count": 129,
   "metadata": {},
   "outputs": [
    {
     "name": "stdout",
     "output_type": "stream",
     "text": [
      "['ABRAMS TIMOTHY C JR', 'ARMY', 'PFC', '19461104', 'TUSCALOOSA', 'TUSCALOOSA', '19670103', 'Y']\n",
      "['ABSTON JAMES ESTUS JR', 'ARMY', 'PFC', '19441102', 'COTTONDALE', 'TUSCALOOSA', '19670227', 'Y']\n",
      "FRANKLIN WHAT, WHAT?!\n",
      "['ACTON MARION FRANKLIN', 'ARMY', 'PFC', '19470901', 'HUNTSVILLE', 'MADISON', '19660411', 'Y']\n",
      "['ADAMS JAMES CONRAD', 'ARMY', 'MAJ', '19381025', 'PHENIX CITY', 'RUSSELL', '19700501', 'Y']\n",
      "['ADAMS SPENCER', 'ARMY', 'SSG', '19340506', 'MOBILE', 'MOBILE', '19680215', 'Y']\n",
      "['ADAMS WALTER LEE', 'ARMY', 'PFC', '19461227', 'MCINTOSH', 'WASHINGTON', '19670610', 'Y']\n",
      "['ADAMSON LARRY ONEAL', 'ARMY', 'SP4', '19460910', 'FAIRFAX', 'CHAMBERS', '19691003', 'Y']\n",
      "['ADDISON ONEAL', 'ARMY', 'SP5', '19270506', 'WEST ENSLEY', 'JEFFERSON', '19660504', 'Y']\n",
      "['ADKISON CARL ELMUS', 'ARMY', 'SP4', '19490531', 'GADSDEN', 'ETOWAH', '19690812', 'Y']\n",
      "['AKINS ADRIAN ALAN', 'ARMY', 'SP5', '19490404', 'CORDOVA', 'WALKER', '19691025', 'Y']\n",
      "['ALEXANDER BOBBY RAY', 'MARINE CORPS', 'CPL', '19470213', 'DECATUR', 'MORGAN', '19671116', 'Y']\n",
      "['ALEXANDER DAVID J JR', 'ARMY', 'PFC', '19480228', 'ANNISTON', 'CALHOUN', '19680718', 'Y']\n",
      "JR WHAT, WHAT?!\n",
      "['ALLEN GRANVILLE JOEL JR', 'NAVY', 'PO3', '19471102', 'BIRMINGHAM', 'JEFFERSON', '19680523', 'Y']\n"
     ]
    }
   ],
   "source": [
    "check = temp[:106]\n",
    "\n",
    "counter = len(check)\n",
    "\n",
    "while counter > 0:\n",
    "    if check[1] not in military:\n",
    "        \n",
    "        print(check[1] + ' WHAT, WHAT?!')\n",
    "        \n",
    "        check[0] = check[0] + check[1]\n",
    "        check.remove(check[1])\n",
    "    \n",
    "    print(check[:8])\n",
    "    del check[:8]\n",
    "    counter = len(check)"
   ]
  },
  {
   "cell_type": "markdown",
   "metadata": {},
   "source": [
    "Fantastic, it works! now lets tweak this a bit and make a list of lists then I can throw into a `DataFrame` easily."
   ]
  },
  {
   "cell_type": "code",
   "execution_count": 144,
   "metadata": {},
   "outputs": [],
   "source": [
    "def prep_for_df(data_in_list, state):  #Takes in a list and the state, as a string. It will return a list of lists.\n",
    "    \n",
    "    big_long_list = data_in_list.copy()   #Making a deep copy, so I don't effect the underlying list. \n",
    "    output = []\n",
    "    counter = len(big_long_list)\n",
    "\n",
    "    while counter > 0:\n",
    "        if big_long_list[1] not in military:\n",
    "\n",
    "            big_long_list[0] = big_long_list[0] + ' ' + big_long_list[1]\n",
    "            big_long_list.remove(big_long_list[1])\n",
    "\n",
    "        place_holder = big_long_list[:8]\n",
    "        place_holder.append(state)\n",
    "        output.append(place_holder)\n",
    "        del big_long_list[:8]\n",
    "        counter = len(big_long_list)\n",
    "    \n",
    "    return(output)"
   ]
  },
  {
   "cell_type": "code",
   "execution_count": 151,
   "metadata": {},
   "outputs": [
    {
     "data": {
      "text/plain": [
       "1208"
      ]
     },
     "execution_count": 151,
     "metadata": {},
     "output_type": "execute_result"
    }
   ],
   "source": [
    "how_long = prep_for_df(temp, \"AL\")\n",
    "len(how_long)"
   ]
  },
  {
   "cell_type": "code",
   "execution_count": 146,
   "metadata": {},
   "outputs": [],
   "source": [
    "blerg = pd.DataFrame(how_long, columns = ['name', 'service', 'rank_rate', 'birthdate', 'home_city', 'home_county', 'incident_death', 'body_rec', 'state'])"
   ]
  },
  {
   "cell_type": "code",
   "execution_count": 150,
   "metadata": {},
   "outputs": [
    {
     "name": "stdout",
     "output_type": "stream",
     "text": [
      "(1208, 9)\n"
     ]
    },
    {
     "data": {
      "text/html": [
       "<div>\n",
       "<style scoped>\n",
       "    .dataframe tbody tr th:only-of-type {\n",
       "        vertical-align: middle;\n",
       "    }\n",
       "\n",
       "    .dataframe tbody tr th {\n",
       "        vertical-align: top;\n",
       "    }\n",
       "\n",
       "    .dataframe thead th {\n",
       "        text-align: right;\n",
       "    }\n",
       "</style>\n",
       "<table border=\"1\" class=\"dataframe\">\n",
       "  <thead>\n",
       "    <tr style=\"text-align: right;\">\n",
       "      <th></th>\n",
       "      <th>name</th>\n",
       "      <th>service</th>\n",
       "      <th>rank_rate</th>\n",
       "      <th>birthdate</th>\n",
       "      <th>home_city</th>\n",
       "      <th>home_county</th>\n",
       "      <th>incident_death</th>\n",
       "      <th>body_rec</th>\n",
       "      <th>state</th>\n",
       "    </tr>\n",
       "  </thead>\n",
       "  <tbody>\n",
       "    <tr>\n",
       "      <th>0</th>\n",
       "      <td>ABRAMS TIMOTHY C JR</td>\n",
       "      <td>ARMY</td>\n",
       "      <td>PFC</td>\n",
       "      <td>19461104</td>\n",
       "      <td>TUSCALOOSA</td>\n",
       "      <td>TUSCALOOSA</td>\n",
       "      <td>19670103</td>\n",
       "      <td>Y</td>\n",
       "      <td>AL</td>\n",
       "    </tr>\n",
       "    <tr>\n",
       "      <th>1</th>\n",
       "      <td>ABSTON JAMES ESTUS JR</td>\n",
       "      <td>ARMY</td>\n",
       "      <td>PFC</td>\n",
       "      <td>19441102</td>\n",
       "      <td>COTTONDALE</td>\n",
       "      <td>TUSCALOOSA</td>\n",
       "      <td>19670227</td>\n",
       "      <td>Y</td>\n",
       "      <td>AL</td>\n",
       "    </tr>\n",
       "    <tr>\n",
       "      <th>2</th>\n",
       "      <td>ACTON MARION  FRANKLIN</td>\n",
       "      <td>ARMY</td>\n",
       "      <td>PFC</td>\n",
       "      <td>19470901</td>\n",
       "      <td>HUNTSVILLE</td>\n",
       "      <td>MADISON</td>\n",
       "      <td>19660411</td>\n",
       "      <td>Y</td>\n",
       "      <td>AL</td>\n",
       "    </tr>\n",
       "    <tr>\n",
       "      <th>3</th>\n",
       "      <td>ADAMS JAMES CONRAD</td>\n",
       "      <td>ARMY</td>\n",
       "      <td>MAJ</td>\n",
       "      <td>19381025</td>\n",
       "      <td>PHENIX CITY</td>\n",
       "      <td>RUSSELL</td>\n",
       "      <td>19700501</td>\n",
       "      <td>Y</td>\n",
       "      <td>AL</td>\n",
       "    </tr>\n",
       "    <tr>\n",
       "      <th>4</th>\n",
       "      <td>ADAMS SPENCER</td>\n",
       "      <td>ARMY</td>\n",
       "      <td>SSG</td>\n",
       "      <td>19340506</td>\n",
       "      <td>MOBILE</td>\n",
       "      <td>MOBILE</td>\n",
       "      <td>19680215</td>\n",
       "      <td>Y</td>\n",
       "      <td>AL</td>\n",
       "    </tr>\n",
       "  </tbody>\n",
       "</table>\n",
       "</div>"
      ],
      "text/plain": [
       "                     name service rank_rate birthdate    home_city  \\\n",
       "0     ABRAMS TIMOTHY C JR    ARMY       PFC  19461104   TUSCALOOSA   \n",
       "1   ABSTON JAMES ESTUS JR    ARMY       PFC  19441102   COTTONDALE   \n",
       "2  ACTON MARION  FRANKLIN    ARMY       PFC  19470901   HUNTSVILLE   \n",
       "3      ADAMS JAMES CONRAD    ARMY       MAJ  19381025  PHENIX CITY   \n",
       "4           ADAMS SPENCER    ARMY       SSG  19340506       MOBILE   \n",
       "\n",
       "  home_county incident_death body_rec state  \n",
       "0  TUSCALOOSA       19670103        Y    AL  \n",
       "1  TUSCALOOSA       19670227        Y    AL  \n",
       "2     MADISON       19660411        Y    AL  \n",
       "3     RUSSELL       19700501        Y    AL  \n",
       "4      MOBILE       19680215        Y    AL  "
      ]
     },
     "execution_count": 150,
     "metadata": {},
     "output_type": "execute_result"
    }
   ],
   "source": [
    "print(blerg.shape)\n",
    "blerg.head()"
   ]
  },
  {
   "cell_type": "markdown",
   "metadata": {},
   "source": [
    "Well it looks like I got everything all the peieces together. All that is is left to run through the folder of the PDFs, get the `state` from the file name, and let it go."
   ]
  },
  {
   "cell_type": "code",
   "execution_count": null,
   "metadata": {},
   "outputs": [],
   "source": []
  },
  {
   "cell_type": "markdown",
   "metadata": {},
   "source": [
    "https://www.archives.gov/research/military/vietnam-war/casualty-lists/state-level-alpha.html for state by state"
   ]
  },
  {
   "cell_type": "markdown",
   "metadata": {},
   "source": [
    "Testing"
   ]
  },
  {
   "cell_type": "code",
   "execution_count": null,
   "metadata": {},
   "outputs": [],
   "source": []
  },
  {
   "cell_type": "code",
   "execution_count": null,
   "metadata": {},
   "outputs": [],
   "source": []
  }
 ],
 "metadata": {
  "kernelspec": {
   "display_name": "Python 3",
   "language": "python",
   "name": "python3"
  },
  "language_info": {
   "codemirror_mode": {
    "name": "ipython",
    "version": 3
   },
   "file_extension": ".py",
   "mimetype": "text/x-python",
   "name": "python",
   "nbconvert_exporter": "python",
   "pygments_lexer": "ipython3",
   "version": "3.7.3"
  }
 },
 "nbformat": 4,
 "nbformat_minor": 2
}
