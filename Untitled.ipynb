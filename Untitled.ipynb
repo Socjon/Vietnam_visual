{
 "cells": [
  {
   "cell_type": "markdown",
   "metadata": {},
   "source": [
    "Going to practice ripping text from PDFs enable to put them into a database."
   ]
  },
  {
   "cell_type": "code",
   "execution_count": 1,
   "metadata": {},
   "outputs": [],
   "source": [
    "import PyPDF2\n",
    "import re\n",
    "import pandas as pd\n",
    "import numpy as np"
   ]
  },
  {
   "cell_type": "code",
   "execution_count": null,
   "metadata": {},
   "outputs": [],
   "source": []
  },
  {
   "cell_type": "code",
   "execution_count": 2,
   "metadata": {},
   "outputs": [
    {
     "data": {
      "text/plain": [
       "81"
      ]
     },
     "execution_count": 2,
     "metadata": {},
     "output_type": "execute_result"
    }
   ],
   "source": [
    "# pdf file object\n",
    "# you can find find the pdf file with complete code in below\n",
    "pdfFileObj = open('al-alpha.pdf', 'rb')\n",
    "# pdf reader object\n",
    "pdfReader = PyPDF2.PdfFileReader(pdfFileObj)\n",
    "# number of pages in pdf\n",
    "pages = pdfReader.numPages\n",
    "pages"
   ]
  },
  {
   "cell_type": "code",
   "execution_count": 3,
   "metadata": {},
   "outputs": [],
   "source": [
    "pageObj = pdfReader.getPage(0)\n",
    "test = pageObj.extractText()"
   ]
  },
  {
   "cell_type": "code",
   "execution_count": 4,
   "metadata": {},
   "outputs": [
    {
     "data": {
      "text/plain": [
       "'U.S. Military Fatal Casualties of the Vietnam War for \\nHome-State-of-Record: Alabama\\nName\\nService\\nRank / \\nRate\\n   Birthdate \\n(YYYYMMDD)\\nIncident or \\nDeath Date \\n(YYYYMMDD)\\nRemains \\nRecovered\\nHome of Record:\\nCity                  County\\nABRAMS TIMOTHY C JR\\nARMY\\nPFC\\n19461104\\nTUSCALOOSA\\nTUSCALOOSA\\n19670103\\nY\\nABSTON JAMES ESTUS JR\\nARMY\\nPFC\\n19441102\\nCOTTONDALE\\nTUSCALOOSA\\n19670227\\nY\\nACTON MARION \\nFRANKLIN\\nARMY\\nPFC\\n19470901\\nHUNTSVILLE\\nMADISON\\n19660411\\nY\\nADAMS JAMES CONRAD\\nARMY\\nMAJ\\n19381025\\nPHENIX CITY\\nRUSSELL\\n19700501\\nY\\nADAMS SPENCER\\nARMY\\nSSG\\n19340506\\nMOBILE\\nMOBILE\\n19680215\\nY\\nADAMS WALTER LEE\\nARMY\\nPFC\\n19461227\\nMCINTOSH\\nWASHINGTON\\n19670610\\nY\\nADAMSON LARRY ONEAL\\nARMY\\nSP4\\n19460910\\nFAIRFAX\\nCHAMBERS\\n19691003\\nY\\nADDISON ONEAL\\nARMY\\nSP5\\n19270506\\nWEST ENSLEY\\nJEFFERSON\\n19660504\\nY\\nADKISON CARL ELMUS\\nARMY\\nSP4\\n19490531\\nGADSDEN\\nETOWAH\\n19690812\\nY\\nAKINS ADRIAN ALAN\\nARMY\\nSP5\\n19490404\\nCORDOVA\\nWALKER\\n19691025\\nY\\nALEXANDER BOBBY RAY\\nMARINE CORPS\\nCPL\\n19470213\\nDECATUR\\nMORGAN\\n19671116\\nY\\nALEXANDER DAVID J JR\\nARMY\\nPFC\\n19480228\\nANNISTON\\nCALHOUN\\n19680718\\nY\\nALLEN GRANVILLE JOEL \\nJR\\nNAVY\\nPO3\\n19471102\\nBIRMINGHAM\\nJEFFERSON\\n19680523\\nY\\nALLEN JOHNNY JR\\nARMY\\nSP4\\n19470502\\nBIRMINGHAM\\nJEFFERSON\\n19700702\\nY\\nALLEN ROBERT WARREN\\nMARINE CORPS\\nPFC\\n19471005\\nBIRMINGHAM\\nJEFFERSON\\n19651003\\nY\\nALLEN WILLIAM TERRY\\nARMY\\n1LT\\n19450317\\nENTERPRISE\\nCOFFEE\\n19671204\\nY\\nSource of data: the \\nVietnam Conflict Extract Data File, as of April 29, 2008\\n, of the \\nDefense Casualty Analysis System (DCAS) Files\\n, part of Record \\nGroup 330: Records of the Office of the Secretary of Defense.\\nYou can view the full \\nDCAS\\nrecord for an individual named in the list via the Access to Archival Databases resource, or AAD.  The link to the AAD main \\npage is as follows:\\nhttp://www.archives.gov/aad\\nPage 1 of 81\\n'"
      ]
     },
     "execution_count": 4,
     "metadata": {},
     "output_type": "execute_result"
    }
   ],
   "source": [
    "test"
   ]
  },
  {
   "cell_type": "code",
   "execution_count": 5,
   "metadata": {},
   "outputs": [
    {
     "data": {
      "text/plain": [
       "'\\nABRAMS TIMOTHY C JR\\nARMY\\nPFC\\n19461104\\nTUSCALOOSA\\nTUSCALOOSA\\n19670103\\nY\\nABSTON JAMES ESTUS JR\\nARMY\\nPFC\\n19441102\\nCOTTONDALE\\nTUSCALOOSA\\n19670227\\nY\\nACTON MARION \\nFRANKLIN\\nARMY\\nPFC\\n19470901\\nHUNTSVILLE\\nMADISON\\n19660411\\nY\\nADAMS JAMES CONRAD\\nARMY\\nMAJ\\n19381025\\nPHENIX CITY\\nRUSSELL\\n19700501\\nY\\nADAMS SPENCER\\nARMY\\nSSG\\n19340506\\nMOBILE\\nMOBILE\\n19680215\\nY\\nADAMS WALTER LEE\\nARMY\\nPFC\\n19461227\\nMCINTOSH\\nWASHINGTON\\n19670610\\nY\\nADAMSON LARRY ONEAL\\nARMY\\nSP4\\n19460910\\nFAIRFAX\\nCHAMBERS\\n19691003\\nY\\nADDISON ONEAL\\nARMY\\nSP5\\n19270506\\nWEST ENSLEY\\nJEFFERSON\\n19660504\\nY\\nADKISON CARL ELMUS\\nARMY\\nSP4\\n19490531\\nGADSDEN\\nETOWAH\\n19690812\\nY\\nAKINS ADRIAN ALAN\\nARMY\\nSP5\\n19490404\\nCORDOVA\\nWALKER\\n19691025\\nY\\nALEXANDER BOBBY RAY\\nMARINE CORPS\\nCPL\\n19470213\\nDECATUR\\nMORGAN\\n19671116\\nY\\nALEXANDER DAVID J JR\\nARMY\\nPFC\\n19480228\\nANNISTON\\nCALHOUN\\n19680718\\nY\\nALLEN GRANVILLE JOEL \\nJR\\nNAVY\\nPO3\\n19471102\\nBIRMINGHAM\\nJEFFERSON\\n19680523\\nY\\nALLEN JOHNNY JR\\nARMY\\nSP4\\n19470502\\nBIRMINGHAM\\nJEFFERSON\\n19700702\\nY\\nALLEN ROBERT WARREN\\nMARINE CORPS\\nPFC\\n19471005\\nBIRMINGHAM\\nJEFFERSON\\n19651003\\nY\\nALLEN WILLIAM TERRY\\nARMY\\n1LT\\n19450317\\nENTERPRISE\\nCOFFEE\\n19671204\\nY\\nSource of data: the \\nVietnam Conflict Extract Data File, as of April 29, 2008\\n, of the \\nDefense Casualty Analysis System (DCAS) Files\\n, part of Record \\nGroup 330: Records of the Office of the Secretary of Defense.\\nYou can view the full \\nDCAS\\nrecord for an individual named in the list via the Access to Archival Databases resource, or AAD.  The link to the AAD main \\npage is as follows:\\nhttp://www.archives.gov/aad\\nPage 1 of 81\\n'"
      ]
     },
     "execution_count": 5,
     "metadata": {},
     "output_type": "execute_result"
    }
   ],
   "source": [
    "test[235:]"
   ]
  },
  {
   "cell_type": "code",
   "execution_count": 6,
   "metadata": {},
   "outputs": [],
   "source": [
    "pageObj = pdfReader.getPage(1)\n",
    "test2 = pageObj.extractText()"
   ]
  },
  {
   "cell_type": "code",
   "execution_count": 7,
   "metadata": {},
   "outputs": [
    {
     "data": {
      "text/plain": [
       "'\\nALLUMS ALLEN WAYNE\\nARMY\\nSP5\\n19471020\\nENTERPRISE\\nCOFFEE\\n19690506\\nY\\nALLUMS FREDERICK \\nLARRY\\nARMY\\nCPL\\n19471107\\nEMPIRE\\nWALKER\\n19680307\\nY\\nAMBROSE EDWARD\\nARMY\\nSSG\\n19280424\\nGOSPORT\\nCLARKE\\n19690824\\nY\\nANDERSON ROY JR\\nARMY\\nPVT\\n19501224\\nBIRMINGHAM\\nJEFFERSON\\n19701207\\nY\\nANDERSON WILLIAM \\nALLISON\\nARMY\\nSP4\\n19480320\\nMT VERNON\\nMULTIPLE\\n19691106\\nY\\nANDREWS CLIFTON \\nBISHOP\\nMARINE CORPS\\nMAJ\\n19270421\\nFULTON\\nCLARKE\\n19660725\\nY\\nANDREWS COLEY L\\nARMY\\nSGT\\n19410908\\nMOBILE\\nMOBILE\\n19661219\\nY\\nANDREWS HOWARD \\nRIVERS JR\\nARMY\\nCPT\\n19420903\\nHUNTSVILLE\\nMADISON\\n19700417\\nY\\nARD HENRY\\nARMY\\nPSG\\n19270405\\nROBERTSDALE\\nBALDWIN\\n19661031\\nY\\nARNOLD HAROLD\\nMARINE CORPS\\nPFC\\n19471215\\nPRICHARD\\nMOBILE\\n19660908\\nY\\nARRINGTON SAMUEL W \\nJR\\nARMY\\nCPL\\n19460123\\nMONTGOMERY\\nMONTGOMERY\\n19670206\\nY\\nASH JOHN SILVY\\nARMY\\nSP4\\n19400822\\nBIRMINGHAM\\nJEFFERSON\\n19691202\\nY\\nASKEW THOMAS EARL\\nMARINE CORPS\\nSGT\\n19470531\\nMUSCLE \\nSHOALS\\nCOLBERT\\n19691128\\nY\\nAUSBORN DONALD \\nEUGENE\\nARMY\\nSP4\\n19480614\\nHUNTSVILLE\\nMADISON\\n19680812\\nY\\nSource of data: the \\nVietnam Conflict Extract Data File, as of April 29, 2008\\n, of the \\nDefense Casualty Analysis System (DCAS) Files\\n, part of Record \\nGroup 330: Records of the Office of the Secretary of Defense.\\nYou can view the full \\nDCAS\\nrecord for an individual named in the list via the Access to Archival Databases resource, or AAD.  The link to the AAD main \\npage is as follows:\\nhttp://www.archives.gov/aad\\nPage 2 of 81\\n'"
      ]
     },
     "execution_count": 7,
     "metadata": {},
     "output_type": "execute_result"
    }
   ],
   "source": [
    "test2[235:]"
   ]
  },
  {
   "cell_type": "markdown",
   "metadata": {},
   "source": [
    "Now lets remove the trailing bit."
   ]
  },
  {
   "cell_type": "code",
   "execution_count": 8,
   "metadata": {},
   "outputs": [],
   "source": [
    "#pattern = re.compile(r\".*(?=Source)\")   #compiling the pattern before using the flags causes it to thrown an error."
   ]
  },
  {
   "cell_type": "code",
   "execution_count": 9,
   "metadata": {},
   "outputs": [
    {
     "data": {
      "text/plain": [
       "'U.S. Military Fatal Casualties of the Vietnam War for \\nHome-State-of-Record: Alabama\\nName\\nService\\nRank / \\nRate\\n   Birthdate \\n(YYYYMMDD)\\nIncident or \\nDeath Date \\n(YYYYMMDD)\\nRemains \\nRecovered\\nHome of Record:\\nCity                  County\\nABRAMS TIMOTHY C JR\\nARMY\\nPFC\\n19461104\\nTUSCALOOSA\\nTUSCALOOSA\\n19670103\\nY\\nABSTON JAMES ESTUS JR\\nARMY\\nPFC\\n19441102\\nCOTTONDALE\\nTUSCALOOSA\\n19670227\\nY\\nACTON MARION \\nFRANKLIN\\nARMY\\nPFC\\n19470901\\nHUNTSVILLE\\nMADISON\\n19660411\\nY\\nADAMS JAMES CONRAD\\nARMY\\nMAJ\\n19381025\\nPHENIX CITY\\nRUSSELL\\n19700501\\nY\\nADAMS SPENCER\\nARMY\\nSSG\\n19340506\\nMOBILE\\nMOBILE\\n19680215\\nY\\nADAMS WALTER LEE\\nARMY\\nPFC\\n19461227\\nMCINTOSH\\nWASHINGTON\\n19670610\\nY\\nADAMSON LARRY ONEAL\\nARMY\\nSP4\\n19460910\\nFAIRFAX\\nCHAMBERS\\n19691003\\nY\\nADDISON ONEAL\\nARMY\\nSP5\\n19270506\\nWEST ENSLEY\\nJEFFERSON\\n19660504\\nY\\nADKISON CARL ELMUS\\nARMY\\nSP4\\n19490531\\nGADSDEN\\nETOWAH\\n19690812\\nY\\nAKINS ADRIAN ALAN\\nARMY\\nSP5\\n19490404\\nCORDOVA\\nWALKER\\n19691025\\nY\\nALEXANDER BOBBY RAY\\nMARINE CORPS\\nCPL\\n19470213\\nDECATUR\\nMORGAN\\n19671116\\nY\\nALEXANDER DAVID J JR\\nARMY\\nPFC\\n19480228\\nANNISTON\\nCALHOUN\\n19680718\\nY\\nALLEN GRANVILLE JOEL \\nJR\\nNAVY\\nPO3\\n19471102\\nBIRMINGHAM\\nJEFFERSON\\n19680523\\nY\\nALLEN JOHNNY JR\\nARMY\\nSP4\\n19470502\\nBIRMINGHAM\\nJEFFERSON\\n19700702\\nY\\nALLEN ROBERT WARREN\\nMARINE CORPS\\nPFC\\n19471005\\nBIRMINGHAM\\nJEFFERSON\\n19651003\\nY\\nALLEN WILLIAM TERRY\\nARMY\\n1LT\\n19450317\\nENTERPRISE\\nCOFFEE\\n19671204\\nY\\n'"
      ]
     },
     "execution_count": 9,
     "metadata": {},
     "output_type": "execute_result"
    }
   ],
   "source": [
    "m = re.search(r\".*(?=Source)\", test, flags=re.DOTALL) #re.DOTALL - makes the '.' special character match any character at all, including a newline\n",
    "m.group(0)"
   ]
  },
  {
   "cell_type": "markdown",
   "metadata": {},
   "source": [
    "Now lets try putting it all together and see about turning it into a pd.Series"
   ]
  },
  {
   "cell_type": "code",
   "execution_count": 10,
   "metadata": {},
   "outputs": [
    {
     "data": {
      "text/plain": [
       "'ABRAMS TIMOTHY C JR\\nARMY\\nPFC\\n19461104\\nTUSCALOOSA\\nTUSCALOOSA\\n19670103\\nY\\nABSTON JAMES ESTUS JR\\nARMY\\nPFC\\n19441102\\nCOTTONDALE\\nTUSCALOOSA\\n19670227\\nY\\nACTON MARION \\nFRANKLIN\\nARMY\\nPFC\\n19470901\\nHUNTSVILLE\\nMADISON\\n19660411\\nY\\nADAMS JAMES CONRAD\\nARMY\\nMAJ\\n19381025\\nPHENIX CITY\\nRUSSELL\\n19700501\\nY\\nADAMS SPENCER\\nARMY\\nSSG\\n19340506\\nMOBILE\\nMOBILE\\n19680215\\nY\\nADAMS WALTER LEE\\nARMY\\nPFC\\n19461227\\nMCINTOSH\\nWASHINGTON\\n19670610\\nY\\nADAMSON LARRY ONEAL\\nARMY\\nSP4\\n19460910\\nFAIRFAX\\nCHAMBERS\\n19691003\\nY\\nADDISON ONEAL\\nARMY\\nSP5\\n19270506\\nWEST ENSLEY\\nJEFFERSON\\n19660504\\nY\\nADKISON CARL ELMUS\\nARMY\\nSP4\\n19490531\\nGADSDEN\\nETOWAH\\n19690812\\nY\\nAKINS ADRIAN ALAN\\nARMY\\nSP5\\n19490404\\nCORDOVA\\nWALKER\\n19691025\\nY\\nALEXANDER BOBBY RAY\\nMARINE CORPS\\nCPL\\n19470213\\nDECATUR\\nMORGAN\\n19671116\\nY\\nALEXANDER DAVID J JR\\nARMY\\nPFC\\n19480228\\nANNISTON\\nCALHOUN\\n19680718\\nY\\nALLEN GRANVILLE JOEL \\nJR\\nNAVY\\nPO3\\n19471102\\nBIRMINGHAM\\nJEFFERSON\\n19680523\\nY\\nALLEN JOHNNY JR\\nARMY\\nSP4\\n19470502\\nBIRMINGHAM\\nJEFFERSON\\n19700702\\nY\\nALLEN ROBERT WARREN\\nMARINE CORPS\\nPFC\\n19471005\\nBIRMINGHAM\\nJEFFERSON\\n19651003\\nY\\nALLEN WILLIAM TERRY\\nARMY\\n1LT\\n19450317\\nENTERPRISE\\nCOFFEE\\n19671204\\nY\\n'"
      ]
     },
     "execution_count": 10,
     "metadata": {},
     "output_type": "execute_result"
    }
   ],
   "source": [
    "trail = test[236:] #Removes the top of the document.\n",
    "m = re.search(r\".*(?=Source)\", trail, flags=re.DOTALL) #re.DOTALL - makes the '.' special character match any character at all, including a newline\n",
    "trial = m.group(0)\n",
    "trial"
   ]
  },
  {
   "cell_type": "code",
   "execution_count": 11,
   "metadata": {},
   "outputs": [
    {
     "name": "stdout",
     "output_type": "stream",
     "text": [
      "130\n"
     ]
    },
    {
     "data": {
      "text/plain": [
       "['ABRAMS TIMOTHY C JR',\n",
       " 'ARMY',\n",
       " 'PFC',\n",
       " '19461104',\n",
       " 'TUSCALOOSA',\n",
       " 'TUSCALOOSA',\n",
       " '19670103',\n",
       " 'Y',\n",
       " 'ABSTON JAMES ESTUS JR',\n",
       " 'ARMY']"
      ]
     },
     "execution_count": 11,
     "metadata": {},
     "output_type": "execute_result"
    }
   ],
   "source": [
    "state_list = trial.splitlines()\n",
    "print(len(state_list))\n",
    "state_list[:10]"
   ]
  },
  {
   "cell_type": "code",
   "execution_count": 12,
   "metadata": {},
   "outputs": [
    {
     "data": {
      "text/html": [
       "<div>\n",
       "<style scoped>\n",
       "    .dataframe tbody tr th:only-of-type {\n",
       "        vertical-align: middle;\n",
       "    }\n",
       "\n",
       "    .dataframe tbody tr th {\n",
       "        vertical-align: top;\n",
       "    }\n",
       "\n",
       "    .dataframe thead th {\n",
       "        text-align: right;\n",
       "    }\n",
       "</style>\n",
       "<table border=\"1\" class=\"dataframe\">\n",
       "  <thead>\n",
       "    <tr style=\"text-align: right;\">\n",
       "      <th></th>\n",
       "      <th>name</th>\n",
       "      <th>service</th>\n",
       "      <th>rank_rate</th>\n",
       "      <th>birthdate</th>\n",
       "      <th>home_city</th>\n",
       "      <th>home_county</th>\n",
       "      <th>incident_death</th>\n",
       "      <th>body_rec</th>\n",
       "      <th>state</th>\n",
       "    </tr>\n",
       "  </thead>\n",
       "  <tbody>\n",
       "  </tbody>\n",
       "</table>\n",
       "</div>"
      ],
      "text/plain": [
       "Empty DataFrame\n",
       "Columns: [name, service, rank_rate, birthdate, home_city, home_county, incident_death, body_rec, state]\n",
       "Index: []"
      ]
     },
     "execution_count": 12,
     "metadata": {},
     "output_type": "execute_result"
    }
   ],
   "source": [
    "columns = ['name', 'service', 'rank_rate', 'birthdate', 'home_city', 'home_county', 'incident_death', 'body_rec', 'state']\n",
    "states_df = pd.DataFrame(columns=columns)\n",
    "states_df.head()"
   ]
  },
  {
   "cell_type": "markdown",
   "metadata": {},
   "source": [
    "The plan is to chunk the data into the appropitate sizes then put in into the dataframe. Since there is going to be one more column than what is actaully in the list, I will have to work around that issue."
   ]
  },
  {
   "cell_type": "code",
   "execution_count": null,
   "metadata": {},
   "outputs": [],
   "source": []
  },
  {
   "cell_type": "code",
   "execution_count": null,
   "metadata": {},
   "outputs": [],
   "source": []
  },
  {
   "cell_type": "markdown",
   "metadata": {},
   "source": [
    "OK, now lets make a function that goes through each PDF to scrape the data. I will use the function above to put the data into the proper column. Then I will embed that into a loop that will go through all the PDFs in the folder."
   ]
  },
  {
   "cell_type": "code",
   "execution_count": 13,
   "metadata": {},
   "outputs": [],
   "source": [
    "def scrape_pdf(pdf_file): #Accepts in a PDF and returns the text of the PDF broken at newlines.\n",
    "    \n",
    "    pdfFileObj = open(pdf_file, 'rb')               #Opens file\n",
    "    pdfReader = PyPDF2.PdfFileReader(pdfFileObj)    #Reads the file\n",
    "    pages = pdfReader.numPages                      #Gets the number of pages to cycle through\n",
    "    \n",
    "    counter = 0\n",
    "    data_list = []\n",
    "    \n",
    "    while counter < pages:\n",
    "        \n",
    "        pageObj = pdfReader.getPage(counter)\n",
    "        text = pageObj.extractText()\n",
    "        \n",
    "        text = text[236:]                                     #Removes the head of the document. The next line removed the tail of the document.\n",
    "        m = re.search(r\".*(?=Source)\", text, flags=re.DOTALL) #re.DOTALL - makes the '.' special character match any character at all, including a newline\n",
    "        data = m.group(0)\n",
    "        data_list.extend(data.splitlines())\n",
    "        \n",
    "        counter += 1\n",
    "        \n",
    "    data_list.pop() #The last thing at the end of the PDF is some text. Removing it will make it easier to deal with the data.    \n",
    "    return (data_list)"
   ]
  },
  {
   "cell_type": "code",
   "execution_count": 14,
   "metadata": {},
   "outputs": [
    {
     "data": {
      "text/plain": [
       "10043"
      ]
     },
     "execution_count": 14,
     "metadata": {},
     "output_type": "execute_result"
    }
   ],
   "source": [
    "temp = scrape_pdf('al-alpha.pdf')\n",
    "len(temp)"
   ]
  },
  {
   "cell_type": "code",
   "execution_count": 15,
   "metadata": {},
   "outputs": [
    {
     "data": {
      "text/plain": [
       "8.313741721854305"
      ]
     },
     "execution_count": 15,
     "metadata": {},
     "output_type": "execute_result"
    }
   ],
   "source": [
    "10043/1208"
   ]
  },
  {
   "cell_type": "code",
   "execution_count": 16,
   "metadata": {},
   "outputs": [
    {
     "data": {
      "text/html": [
       "<div>\n",
       "<style scoped>\n",
       "    .dataframe tbody tr th:only-of-type {\n",
       "        vertical-align: middle;\n",
       "    }\n",
       "\n",
       "    .dataframe tbody tr th {\n",
       "        vertical-align: top;\n",
       "    }\n",
       "\n",
       "    .dataframe thead th {\n",
       "        text-align: right;\n",
       "    }\n",
       "</style>\n",
       "<table border=\"1\" class=\"dataframe\">\n",
       "  <thead>\n",
       "    <tr style=\"text-align: right;\">\n",
       "      <th></th>\n",
       "      <th>name</th>\n",
       "      <th>service</th>\n",
       "      <th>rank_rate</th>\n",
       "      <th>birthdate</th>\n",
       "      <th>home_city</th>\n",
       "      <th>home_county</th>\n",
       "      <th>incident_death</th>\n",
       "      <th>body_rec</th>\n",
       "      <th>state</th>\n",
       "    </tr>\n",
       "  </thead>\n",
       "  <tbody>\n",
       "  </tbody>\n",
       "</table>\n",
       "</div>"
      ],
      "text/plain": [
       "Empty DataFrame\n",
       "Columns: [name, service, rank_rate, birthdate, home_city, home_county, incident_death, body_rec, state]\n",
       "Index: []"
      ]
     },
     "execution_count": 16,
     "metadata": {},
     "output_type": "execute_result"
    }
   ],
   "source": [
    "columns = ['name', 'service', 'rank_rate', 'birthdate', 'home_city', 'home_county', 'incident_death', 'body_rec', 'state']\n",
    "states_df = pd.DataFrame(columns=columns)\n",
    "states_df.head()"
   ]
  },
  {
   "cell_type": "code",
   "execution_count": null,
   "metadata": {},
   "outputs": [],
   "source": [
    "run_through = len(temp)\n",
    "while run_through > 0:\n",
    "    chunk = run_through[:7]\n",
    "    chunk.append('AL')\n",
    "    states_df.append()"
   ]
  },
  {
   "cell_type": "code",
   "execution_count": 17,
   "metadata": {},
   "outputs": [
    {
     "data": {
      "text/plain": [
       "['ABSTON JAMES ESTUS JR',\n",
       " 'ARMY',\n",
       " 'PFC',\n",
       " '19441102',\n",
       " 'COTTONDALE',\n",
       " 'TUSCALOOSA',\n",
       " '19670227',\n",
       " 'Y']"
      ]
     },
     "execution_count": 17,
     "metadata": {},
     "output_type": "execute_result"
    }
   ],
   "source": [
    "temp[8:16]"
   ]
  },
  {
   "cell_type": "code",
   "execution_count": 16,
   "metadata": {},
   "outputs": [
    {
     "data": {
      "text/plain": [
       "(['ABRAMS TIMOTHY C JR',\n",
       "  'ARMY',\n",
       "  'PFC',\n",
       "  '19461104',\n",
       "  'TUSCALOOSA',\n",
       "  'TUSCALOOSA',\n",
       "  '19670103',\n",
       "  'Y',\n",
       "  'AL'],\n",
       " ['ABSTON JAMES ESTUS JR',\n",
       "  'ARMY',\n",
       "  'PFC',\n",
       "  '19441102',\n",
       "  'COTTONDALE',\n",
       "  'TUSCALOOSA',\n",
       "  '19670227',\n",
       "  'Y',\n",
       "  'AL'])"
      ]
     },
     "execution_count": 16,
     "metadata": {},
     "output_type": "execute_result"
    }
   ],
   "source": [
    "huh = temp[:8]\n",
    "what = temp[8:16]\n",
    "what.append('AL')\n",
    "huh.append('AL')\n",
    "more = huh, what\n",
    "\n",
    "more"
   ]
  },
  {
   "cell_type": "code",
   "execution_count": null,
   "metadata": {},
   "outputs": [],
   "source": [
    "pd.DataFrame(more)"
   ]
  },
  {
   "cell_type": "code",
   "execution_count": null,
   "metadata": {},
   "outputs": [],
   "source": [
    "huh"
   ]
  },
  {
   "cell_type": "code",
   "execution_count": null,
   "metadata": {},
   "outputs": [],
   "source": [
    "10043/7"
   ]
  },
  {
   "cell_type": "code",
   "execution_count": 77,
   "metadata": {},
   "outputs": [
    {
     "data": {
      "text/plain": [
       "'U.S. Military Fatal Casualties of the Vietnam War for \\nHome-State-of-Record: Alabama\\nName\\nService\\nRank / \\nRate\\n   Birthdate \\n(YYYYMMDD)\\nIncident or \\nDeath Date \\n(YYYYMMDD)\\nRemains \\nRecovered\\nHome of Record:\\nCity                  County\\nYERION JEFFERY ALLEN\\nMARINE CORPS\\nPFC\\n19480909\\nDOTHAN\\nHOUSTON\\n19680504\\nY\\nYOUNG CLAUDE\\nARMY\\nSSG\\n19420419\\nBIRMINGHAM\\nJEFFERSON\\n19671021\\nY\\nYOUNG WILLARD FRANK\\nARMY\\nPFC\\n19460816\\nOXFORD\\nCALHOUN\\n19680302\\nY\\nYOUNGBLOOD JIMMY \\nDEAN\\nMARINE CORPS\\nCPL\\n19440809\\nBIRMINGHAM\\nJEFFERSON\\n19671118\\nY\\nZEIGLER EUGENE\\nARMY\\nSP4\\n19440921\\nMONTGOMERY\\nMONTGOMERY\\n19671206\\nY\\nTotal record count for Alabama is:  1208\\nSource of data: the \\nVietnam Conflict Extract Data File, as of April 29, 2008\\n, of the \\nDefense Casualty Analysis System (DCAS) Files\\n, part of Record \\nGroup 330: Records of the Office of the Secretary of Defense.\\nYou can view the full \\nDCAS\\nrecord for an individual named in the list via the Access to Archival Databases resource, or AAD.  The link to the AAD main \\npage is as follows:\\nhttp://www.archives.gov/aad\\nPage 81 of 81\\n'"
      ]
     },
     "execution_count": 77,
     "metadata": {},
     "output_type": "execute_result"
    }
   ],
   "source": [
    "pageObj = pdfReader.getPage(80)\n",
    "test = pageObj.extractText()\n",
    "test"
   ]
  },
  {
   "cell_type": "code",
   "execution_count": 60,
   "metadata": {},
   "outputs": [
    {
     "data": {
      "text/plain": [
       "81"
      ]
     },
     "execution_count": 60,
     "metadata": {},
     "output_type": "execute_result"
    }
   ],
   "source": [
    "pages"
   ]
  },
  {
   "cell_type": "code",
   "execution_count": 65,
   "metadata": {},
   "outputs": [
    {
     "name": "stdout",
     "output_type": "stream",
     "text": [
      "U.S. Military Fatal Casualties of the Vietnam War for \n",
      "Home-State-of-Record: Alabama\n",
      "Name\n",
      "Service\n",
      "Rank / \n",
      "Rate\n",
      "   Birthdate \n",
      "(YYYYMMDD)\n",
      "Incident or \n",
      "Death Date \n",
      "(YYYYMMDD)\n",
      "Remains \n",
      "Recovered\n",
      "Home of Record:\n",
      "City                  County\n",
      "YERION JEFFERY ALLEN\n",
      "MARINE CORPS\n",
      "PFC\n",
      "19480909\n",
      "DOTHAN\n",
      "HOUSTON\n",
      "19680504\n",
      "Y\n",
      "YOUNG CLAUDE\n",
      "ARMY\n",
      "SSG\n",
      "19420419\n",
      "BIRMINGHAM\n",
      "JEFFERSON\n",
      "19671021\n",
      "Y\n",
      "YOUNG WILLARD FRANK\n",
      "ARMY\n",
      "PFC\n",
      "19460816\n",
      "OXFORD\n",
      "CALHOUN\n",
      "19680302\n",
      "Y\n",
      "YOUNGBLOOD JIMMY \n",
      "DEAN\n",
      "MARINE CORPS\n",
      "CPL\n",
      "19440809\n",
      "BIRMINGHAM\n",
      "JEFFERSON\n",
      "19671118\n",
      "Y\n",
      "ZEIGLER EUGENE\n",
      "ARMY\n",
      "SP4\n",
      "19440921\n",
      "MONTGOMERY\n",
      "MONTGOMERY\n",
      "19671206\n",
      "Y\n",
      "Total record count for Alabama is:  1208\n",
      "Source of data: the \n",
      "Vietnam Conflict Extract Data File, as of April 29, 2008\n",
      ", of the \n",
      "Defense Casualty Analysis System (DCAS) Files\n",
      ", part of Record \n",
      "Group 330: Records of the Office of the Secretary of Defense.\n",
      "You can view the full \n",
      "DCAS\n",
      "record for an individual named in the list via the Access to Archival Databases resource, or AAD.  The link to the AAD main \n",
      "page is as follows:\n",
      "http://www.archives.gov/aad\n",
      "Page 81 of 81\n",
      "\n"
     ]
    },
    {
     "data": {
      "text/plain": [
       "81"
      ]
     },
     "execution_count": 65,
     "metadata": {},
     "output_type": "execute_result"
    }
   ],
   "source": [
    "# a page object\n",
    "\n",
    "counter = 0\n",
    "while counter < pages:\n",
    "    pageObj = pdfReader.getPage(counter)\n",
    "    #print(pageObj.extractText())\n",
    "    counter += 1\n",
    "    if counter == 81:\n",
    "        print(pageObj.extractText())\n",
    "counter"
   ]
  },
  {
   "cell_type": "code",
   "execution_count": null,
   "metadata": {},
   "outputs": [],
   "source": []
  },
  {
   "cell_type": "markdown",
   "metadata": {},
   "source": [
    "https://www.archives.gov/research/military/vietnam-war/casualty-lists/state-level-alpha.html for state by state"
   ]
  },
  {
   "cell_type": "markdown",
   "metadata": {},
   "source": [
    "Testing"
   ]
  },
  {
   "cell_type": "code",
   "execution_count": null,
   "metadata": {},
   "outputs": [],
   "source": []
  },
  {
   "cell_type": "code",
   "execution_count": null,
   "metadata": {},
   "outputs": [],
   "source": []
  }
 ],
 "metadata": {
  "kernelspec": {
   "display_name": "Python 3",
   "language": "python",
   "name": "python3"
  },
  "language_info": {
   "codemirror_mode": {
    "name": "ipython",
    "version": 3
   },
   "file_extension": ".py",
   "mimetype": "text/x-python",
   "name": "python",
   "nbconvert_exporter": "python",
   "pygments_lexer": "ipython3",
   "version": "3.7.3"
  }
 },
 "nbformat": 4,
 "nbformat_minor": 2
}
